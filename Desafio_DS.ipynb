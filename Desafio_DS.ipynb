{
 "cells": [
  {
   "cell_type": "markdown",
   "metadata": {
    "colab_type": "text",
    "id": "Evz_8lA_nhwe"
   },
   "source": [
    "# **Projeção de Reserva/Receita e Expansão do Negócio**\n"
   ]
  },
  {
   "cell_type": "markdown",
   "metadata": {},
   "source": [
    "* **Bibliotecas**"
   ]
  },
  {
   "cell_type": "code",
   "execution_count": 291,
   "metadata": {
    "colab": {},
    "colab_type": "code",
    "id": "NK_U_hgjNdpa"
   },
   "outputs": [],
   "source": [
    "import pandas as pd\n",
    "import numpy as np\n",
    "import matplotlib.pyplot as plt\n",
    "import seaborn as sns\n",
    "import sklearn\n",
    "import datetime\n",
    "import statsmodels.api as sm\n",
    "import folium\n",
    "import plotly.graph_objs as go"
   ]
  },
  {
   "cell_type": "code",
   "execution_count": 292,
   "metadata": {},
   "outputs": [],
   "source": [
    "from statsmodels.tsa.arima_model import ARIMA\n",
    "from sklearn.linear_model import LinearRegression\n",
    "\n",
    "from statsmodels.tsa.stattools import adfuller\n",
    "from sklearn.metrics import mean_squared_error\n",
    "from math import sqrt\n",
    "import pmdarima as pm\n"
   ]
  },
  {
   "cell_type": "markdown",
   "metadata": {},
   "source": [
    "* **Algumas configurações para o matplotlib**"
   ]
  },
  {
   "cell_type": "code",
   "execution_count": 293,
   "metadata": {},
   "outputs": [],
   "source": [
    "%matplotlib inline\n",
    "\n",
    "from IPython.core.pylabtools import figsize\n",
    "\n",
    "\n",
    "figsize(8, 6)\n",
    "\n",
    "sns.set()"
   ]
  },
  {
   "cell_type": "markdown",
   "metadata": {},
   "source": [
    "### Importando o conjunto de dados"
   ]
  },
  {
   "cell_type": "code",
   "execution_count": 294,
   "metadata": {
    "colab": {
     "base_uri": "https://localhost:8080/",
     "height": 343
    },
    "colab_type": "code",
    "id": "pnr1H1ez8GAl",
    "outputId": "01aa95a2-ef4a-4ad3-c226-fdda2983ed16"
   },
   "outputs": [],
   "source": [
    "dados = pd.read_excel('Desafio_DS.xlsx', parse_dates=['Check-in', 'Check-out', 'Reservado'])"
   ]
  },
  {
   "cell_type": "markdown",
   "metadata": {},
   "source": [
    "## Uma visão inicial do conjunto de dados"
   ]
  },
  {
   "cell_type": "markdown",
   "metadata": {},
   "source": [
    "* **Tamanho do conjunto de dados**"
   ]
  },
  {
   "cell_type": "code",
   "execution_count": 295,
   "metadata": {},
   "outputs": [
    {
     "data": {
      "text/plain": [
       "(5192, 13)"
      ]
     },
     "execution_count": 295,
     "metadata": {},
     "output_type": "execute_result"
    }
   ],
   "source": [
    "dados.shape"
   ]
  },
  {
   "cell_type": "markdown",
   "metadata": {},
   "source": [
    "* **São 13 variáveis:**"
   ]
  },
  {
   "cell_type": "code",
   "execution_count": 296,
   "metadata": {},
   "outputs": [
    {
     "data": {
      "text/plain": [
       "Index(['Fonte_consolidada', 'Codigo da reserva', 'Nome do Hóspede', 'Status',\n",
       "       'Nº de pessoas', 'Nº de quartos', 'Check-in', 'Check-out', 'Reservado',\n",
       "       'Receita bruta estimada', 'Cod_pais', 'Cod_estado', 'Telefone_1'],\n",
       "      dtype='object')"
      ]
     },
     "execution_count": 296,
     "metadata": {},
     "output_type": "execute_result"
    }
   ],
   "source": [
    "dados.columns"
   ]
  },
  {
   "cell_type": "markdown",
   "metadata": {},
   "source": [
    "* **Tipo das variáveis**"
   ]
  },
  {
   "cell_type": "code",
   "execution_count": 297,
   "metadata": {},
   "outputs": [
    {
     "data": {
      "text/plain": [
       "float64           4\n",
       "datetime64[ns]    3\n",
       "int64             3\n",
       "object            3\n",
       "dtype: int64"
      ]
     },
     "execution_count": 297,
     "metadata": {},
     "output_type": "execute_result"
    }
   ],
   "source": [
    "dados.dtypes.value_counts()"
   ]
  },
  {
   "cell_type": "markdown",
   "metadata": {},
   "source": [
    "* **Visualizando o conjunto de dados**"
   ]
  },
  {
   "cell_type": "code",
   "execution_count": 298,
   "metadata": {},
   "outputs": [],
   "source": [
    "#dados.head()"
   ]
  },
  {
   "cell_type": "markdown",
   "metadata": {},
   "source": [
    "* **Um resumo de cada variável do conjunto de dados**"
   ]
  },
  {
   "cell_type": "code",
   "execution_count": 299,
   "metadata": {},
   "outputs": [
    {
     "data": {
      "text/html": [
       "<div>\n",
       "<style scoped>\n",
       "    .dataframe tbody tr th:only-of-type {\n",
       "        vertical-align: middle;\n",
       "    }\n",
       "\n",
       "    .dataframe tbody tr th {\n",
       "        vertical-align: top;\n",
       "    }\n",
       "\n",
       "    .dataframe thead th {\n",
       "        text-align: right;\n",
       "    }\n",
       "</style>\n",
       "<table border=\"1\" class=\"dataframe\">\n",
       "  <thead>\n",
       "    <tr style=\"text-align: right;\">\n",
       "      <th></th>\n",
       "      <th>Type</th>\n",
       "      <th>Missing</th>\n",
       "      <th>Size</th>\n",
       "      <th>Unique</th>\n",
       "      <th>Missing_%</th>\n",
       "    </tr>\n",
       "  </thead>\n",
       "  <tbody>\n",
       "    <tr>\n",
       "      <th>Cod_pais</th>\n",
       "      <td>float64</td>\n",
       "      <td>1231</td>\n",
       "      <td>5192</td>\n",
       "      <td>63</td>\n",
       "      <td>23.709553</td>\n",
       "    </tr>\n",
       "    <tr>\n",
       "      <th>Cod_estado</th>\n",
       "      <td>float64</td>\n",
       "      <td>1231</td>\n",
       "      <td>5192</td>\n",
       "      <td>204</td>\n",
       "      <td>23.709553</td>\n",
       "    </tr>\n",
       "    <tr>\n",
       "      <th>Telefone_1</th>\n",
       "      <td>float64</td>\n",
       "      <td>1196</td>\n",
       "      <td>5192</td>\n",
       "      <td>782</td>\n",
       "      <td>23.035439</td>\n",
       "    </tr>\n",
       "    <tr>\n",
       "      <th>Nome do Hóspede</th>\n",
       "      <td>object</td>\n",
       "      <td>107</td>\n",
       "      <td>5192</td>\n",
       "      <td>4569</td>\n",
       "      <td>2.060863</td>\n",
       "    </tr>\n",
       "    <tr>\n",
       "      <th>Fonte_consolidada</th>\n",
       "      <td>object</td>\n",
       "      <td>0</td>\n",
       "      <td>5192</td>\n",
       "      <td>2</td>\n",
       "      <td>0.000000</td>\n",
       "    </tr>\n",
       "    <tr>\n",
       "      <th>Codigo da reserva</th>\n",
       "      <td>int64</td>\n",
       "      <td>0</td>\n",
       "      <td>5192</td>\n",
       "      <td>5192</td>\n",
       "      <td>0.000000</td>\n",
       "    </tr>\n",
       "    <tr>\n",
       "      <th>Status</th>\n",
       "      <td>object</td>\n",
       "      <td>0</td>\n",
       "      <td>5192</td>\n",
       "      <td>2</td>\n",
       "      <td>0.000000</td>\n",
       "    </tr>\n",
       "    <tr>\n",
       "      <th>Nº de pessoas</th>\n",
       "      <td>int64</td>\n",
       "      <td>0</td>\n",
       "      <td>5192</td>\n",
       "      <td>7</td>\n",
       "      <td>0.000000</td>\n",
       "    </tr>\n",
       "    <tr>\n",
       "      <th>Nº de quartos</th>\n",
       "      <td>int64</td>\n",
       "      <td>0</td>\n",
       "      <td>5192</td>\n",
       "      <td>5</td>\n",
       "      <td>0.000000</td>\n",
       "    </tr>\n",
       "    <tr>\n",
       "      <th>Check-in</th>\n",
       "      <td>datetime64[ns]</td>\n",
       "      <td>0</td>\n",
       "      <td>5192</td>\n",
       "      <td>307</td>\n",
       "      <td>0.000000</td>\n",
       "    </tr>\n",
       "    <tr>\n",
       "      <th>Check-out</th>\n",
       "      <td>datetime64[ns]</td>\n",
       "      <td>0</td>\n",
       "      <td>5192</td>\n",
       "      <td>312</td>\n",
       "      <td>0.000000</td>\n",
       "    </tr>\n",
       "    <tr>\n",
       "      <th>Reservado</th>\n",
       "      <td>datetime64[ns]</td>\n",
       "      <td>0</td>\n",
       "      <td>5192</td>\n",
       "      <td>293</td>\n",
       "      <td>0.000000</td>\n",
       "    </tr>\n",
       "    <tr>\n",
       "      <th>Receita bruta estimada</th>\n",
       "      <td>float64</td>\n",
       "      <td>0</td>\n",
       "      <td>5192</td>\n",
       "      <td>1503</td>\n",
       "      <td>0.000000</td>\n",
       "    </tr>\n",
       "  </tbody>\n",
       "</table>\n",
       "</div>"
      ],
      "text/plain": [
       "                                  Type  Missing  Size  Unique  Missing_%\n",
       "Cod_pais                       float64     1231  5192      63  23.709553\n",
       "Cod_estado                     float64     1231  5192     204  23.709553\n",
       "Telefone_1                     float64     1196  5192     782  23.035439\n",
       "Nome do Hóspede                 object      107  5192    4569   2.060863\n",
       "Fonte_consolidada               object        0  5192       2   0.000000\n",
       "Codigo da reserva                int64        0  5192    5192   0.000000\n",
       "Status                          object        0  5192       2   0.000000\n",
       "Nº de pessoas                    int64        0  5192       7   0.000000\n",
       "Nº de quartos                    int64        0  5192       5   0.000000\n",
       "Check-in                datetime64[ns]        0  5192     307   0.000000\n",
       "Check-out               datetime64[ns]        0  5192     312   0.000000\n",
       "Reservado               datetime64[ns]        0  5192     293   0.000000\n",
       "Receita bruta estimada         float64        0  5192    1503   0.000000"
      ]
     },
     "execution_count": 299,
     "metadata": {},
     "output_type": "execute_result"
    }
   ],
   "source": [
    "df_aux = pd.DataFrame({'Type': dados.dtypes,\n",
    "                      'Missing': dados.isna().sum(),\n",
    "                      'Size': dados.shape[0],\n",
    "                       'Unique': dados.nunique()\n",
    "                     })\n",
    "df_aux['Missing_%']= df_aux.Missing/df_aux.Size * 100\n",
    "df_aux.sort_values(by='Missing_%', ascending=False)"
   ]
  },
  {
   "cell_type": "markdown",
   "metadata": {
    "colab_type": "text",
    "id": "lUElEippm6-8"
   },
   "source": [
    "Podemos observar que as variáveis **Cod_pais, Cod_estado, Telefone_1** e  **Nome do Hóspede** estão com valores ausentes. Contudo, a princípio, deixaremos as variáveis **Cod_pais** e **Cod_estado** no conjunto de dados, pois estão abaixo de 50%. \n",
    "\n",
    "\n",
    "Apesar das variáveis **Telefone_1** e  **Nome do Hóspede** estarem com valores ausentes abaixo de 50%, iremos descartá-los do conjunto de dados juntamente com a variável **Codigo da reserva** pois resguardam dados pessoais dos clientes. "
   ]
  },
  {
   "cell_type": "markdown",
   "metadata": {},
   "source": [
    "* **Removendo variáveis**"
   ]
  },
  {
   "cell_type": "code",
   "execution_count": 300,
   "metadata": {},
   "outputs": [],
   "source": [
    "dados.drop(columns=['Codigo da reserva','Telefone_1','Nome do Hóspede'], inplace=True)"
   ]
  },
  {
   "cell_type": "code",
   "execution_count": 301,
   "metadata": {},
   "outputs": [
    {
     "data": {
      "text/html": [
       "<div>\n",
       "<style scoped>\n",
       "    .dataframe tbody tr th:only-of-type {\n",
       "        vertical-align: middle;\n",
       "    }\n",
       "\n",
       "    .dataframe tbody tr th {\n",
       "        vertical-align: top;\n",
       "    }\n",
       "\n",
       "    .dataframe thead th {\n",
       "        text-align: right;\n",
       "    }\n",
       "</style>\n",
       "<table border=\"1\" class=\"dataframe\">\n",
       "  <thead>\n",
       "    <tr style=\"text-align: right;\">\n",
       "      <th></th>\n",
       "      <th>Fonte_consolidada</th>\n",
       "      <th>Status</th>\n",
       "      <th>Nº de pessoas</th>\n",
       "      <th>Nº de quartos</th>\n",
       "      <th>Check-in</th>\n",
       "      <th>Check-out</th>\n",
       "      <th>Reservado</th>\n",
       "      <th>Receita bruta estimada</th>\n",
       "      <th>Cod_pais</th>\n",
       "      <th>Cod_estado</th>\n",
       "    </tr>\n",
       "  </thead>\n",
       "  <tbody>\n",
       "    <tr>\n",
       "      <th>0</th>\n",
       "      <td>Site A</td>\n",
       "      <td>Confirmada</td>\n",
       "      <td>1</td>\n",
       "      <td>1</td>\n",
       "      <td>2019-03-10</td>\n",
       "      <td>2019-03-18</td>\n",
       "      <td>2019-02-04</td>\n",
       "      <td>165.50625</td>\n",
       "      <td>55.0</td>\n",
       "      <td>31.0</td>\n",
       "    </tr>\n",
       "    <tr>\n",
       "      <th>1</th>\n",
       "      <td>Site A</td>\n",
       "      <td>Confirmada</td>\n",
       "      <td>1</td>\n",
       "      <td>1</td>\n",
       "      <td>2019-03-01</td>\n",
       "      <td>2019-03-16</td>\n",
       "      <td>2019-02-04</td>\n",
       "      <td>382.06875</td>\n",
       "      <td>55.0</td>\n",
       "      <td>551.0</td>\n",
       "    </tr>\n",
       "    <tr>\n",
       "      <th>2</th>\n",
       "      <td>Site A</td>\n",
       "      <td>Confirmada</td>\n",
       "      <td>2</td>\n",
       "      <td>1</td>\n",
       "      <td>2019-04-05</td>\n",
       "      <td>2019-04-08</td>\n",
       "      <td>2019-02-04</td>\n",
       "      <td>85.85850</td>\n",
       "      <td>55.0</td>\n",
       "      <td>53.0</td>\n",
       "    </tr>\n",
       "    <tr>\n",
       "      <th>3</th>\n",
       "      <td>Site A</td>\n",
       "      <td>Confirmada</td>\n",
       "      <td>2</td>\n",
       "      <td>1</td>\n",
       "      <td>2019-03-01</td>\n",
       "      <td>2019-03-06</td>\n",
       "      <td>2019-02-04</td>\n",
       "      <td>118.65525</td>\n",
       "      <td>57.0</td>\n",
       "      <td>300.0</td>\n",
       "    </tr>\n",
       "    <tr>\n",
       "      <th>4</th>\n",
       "      <td>Site A</td>\n",
       "      <td>Confirmada</td>\n",
       "      <td>2</td>\n",
       "      <td>1</td>\n",
       "      <td>2019-04-03</td>\n",
       "      <td>2019-04-07</td>\n",
       "      <td>2019-02-05</td>\n",
       "      <td>108.47025</td>\n",
       "      <td>55.0</td>\n",
       "      <td>11.0</td>\n",
       "    </tr>\n",
       "  </tbody>\n",
       "</table>\n",
       "</div>"
      ],
      "text/plain": [
       "  Fonte_consolidada      Status  Nº de pessoas  Nº de quartos   Check-in  \\\n",
       "0            Site A  Confirmada              1              1 2019-03-10   \n",
       "1            Site A  Confirmada              1              1 2019-03-01   \n",
       "2            Site A  Confirmada              2              1 2019-04-05   \n",
       "3            Site A  Confirmada              2              1 2019-03-01   \n",
       "4            Site A  Confirmada              2              1 2019-04-03   \n",
       "\n",
       "   Check-out  Reservado  Receita bruta estimada  Cod_pais  Cod_estado  \n",
       "0 2019-03-18 2019-02-04               165.50625      55.0        31.0  \n",
       "1 2019-03-16 2019-02-04               382.06875      55.0       551.0  \n",
       "2 2019-04-08 2019-02-04                85.85850      55.0        53.0  \n",
       "3 2019-03-06 2019-02-04               118.65525      57.0       300.0  \n",
       "4 2019-04-07 2019-02-05               108.47025      55.0        11.0  "
      ]
     },
     "execution_count": 301,
     "metadata": {},
     "output_type": "execute_result"
    }
   ],
   "source": [
    "dados.head()"
   ]
  },
  {
   "cell_type": "markdown",
   "metadata": {},
   "source": [
    "* **Adicionando a variável mês da reserva** "
   ]
  },
  {
   "cell_type": "code",
   "execution_count": 302,
   "metadata": {},
   "outputs": [],
   "source": [
    "dados['Mes_reserva'] = dados['Reservado'].dt.month "
   ]
  },
  {
   "cell_type": "markdown",
   "metadata": {},
   "source": [
    "# Análise exploratória de dados "
   ]
  },
  {
   "cell_type": "markdown",
   "metadata": {},
   "source": [
    "### 1.  Analisando as fontes consolidadas: sites A e B"
   ]
  },
  {
   "cell_type": "code",
   "execution_count": 303,
   "metadata": {
    "scrolled": true
   },
   "outputs": [
    {
     "data": {
      "image/png": "[encoded data removed]",
      "text/plain": [
       "<Figure size 576x432 with 1 Axes>"
      ]
     },
     "metadata": {},
     "output_type": "display_data"
    }
   ],
   "source": [
    "dados['Fonte_consolidada'].value_counts().plot(kind='pie',autopct='%.2f%%');"
   ]
  },
  {
   "cell_type": "markdown",
   "metadata": {
    "colab_type": "text",
    "id": "He3bb9uZmhkP"
   },
   "source": [
    "Podemos observar que a plataforma que dispõe de um maior número de reserva é o site A. \n",
    "\n",
    "Com isso podemos investigar alguns possíveis motivos para isto, por exemplo: visibilidade, consolidação no mercado, taxa de serviço e entre outros. \n",
    "\n",
    "**Questionamento:** Qual site tem maior\n",
    "1. visibilidade? \n",
    "2. tempo no mercado?\n",
    "3. taxa de ferramenta?\n",
    "4. vaga disponível?"
   ]
  },
  {
   "cell_type": "code",
   "execution_count": 304,
   "metadata": {},
   "outputs": [
    {
     "data": {
      "image/png": "[encoded data removed]",
      "text/plain": [
       "<Figure size 576x432 with 1 Axes>"
      ]
     },
     "metadata": {},
     "output_type": "display_data"
    }
   ],
   "source": [
    "total = len(dados[['Status']])\n",
    "ax =  sns.countplot(x='Status', data=dados[['Status']])\n",
    "plt.title('Status', fontsize=20)\n",
    "\n",
    "for p in ax.patches:\n",
    "    x = p.get_x() + p.get_width()/2\n",
    "    y = p.get_height()\n",
    "    ax.annotate('{:.2f}%'.format(100*p.get_height()/total), (x, y), ha='center')\n",
    "plt.show()"
   ]
  },
  {
   "cell_type": "markdown",
   "metadata": {
    "colab_type": "text",
    "id": "HVimCZFcntg9"
   },
   "source": [
    "* **Status em geral (reservas com sites A e B)**"
   ]
  },
  {
   "cell_type": "markdown",
   "metadata": {},
   "source": [
    "Podemos observar que 85.7% confirmaram a reserva de um modo geral. Isto pode ser um indicativo positivo, contudo, vale uma investigação por que 14.3% cancelaram. \n",
    "\n",
    "\n",
    "**Questionamento:** Quais os possíveis motivos que levam o cancelamento da reserva? \n",
    "1. Será que o site tem influência no cancelamento? Qual dos sites tem maior taxa de cancelamento? Por que? "
   ]
  },
  {
   "cell_type": "markdown",
   "metadata": {},
   "source": [
    "* **Status da fonte consolidada por cada site**"
   ]
  },
  {
   "cell_type": "code",
   "execution_count": 305,
   "metadata": {
    "colab": {
     "base_uri": "https://localhost:8080/",
     "height": 474
    },
    "colab_type": "code",
    "id": "Gp-BOaspkLL8",
    "outputId": "d43a1b2b-9791-4b18-9047-b2b45f6c7bdf"
   },
   "outputs": [
    {
     "data": {
      "image/png": "[encoded data removed]",
      "text/plain": [
       "<Figure size 576x432 with 1 Axes>"
      ]
     },
     "metadata": {},
     "output_type": "display_data"
    }
   ],
   "source": [
    "#ax = sns.factorplot('Fonte_consolidada', data=dados, hue='Status', kind='count');\n",
    "ax = sns.countplot(x='Fonte_consolidada',hue='Status',data=dados)\n",
    "\n",
    "for p in ax.patches:\n",
    "    x = p.get_x() + p.get_width()/2\n",
    "    y = p.get_height()\n",
    "    ax.annotate('{:.2f}%'.format(100*p.get_height()/total), (x, y), ha='center')\n",
    "plt.show()"
   ]
  },
  {
   "cell_type": "markdown",
   "metadata": {},
   "source": [
    "Podemos notar um baixo índice de cancelamento do site A. Já do site B por sua vez percebemos um alto valor.  "
   ]
  },
  {
   "cell_type": "markdown",
   "metadata": {},
   "source": [
    "* *Para melhor entendermos a dimensão do gráfico acima, exibiremos a taxa de confirmação/cancelamento dos sites A e B*"
   ]
  },
  {
   "cell_type": "code",
   "execution_count": 306,
   "metadata": {},
   "outputs": [
    {
     "data": {
      "image/png": "[encoded data removed]",
      "text/plain": [
       "<Figure size 744.85x360 with 1 Axes>"
      ]
     },
     "metadata": {},
     "output_type": "display_data"
    }
   ],
   "source": [
    "df1 = dados.groupby('Fonte_consolidada')['Status'].value_counts(normalize=True)*100\n",
    "df1 = df1.rename('percent').reset_index()\n",
    "\n",
    "g = sns.catplot(x='Fonte_consolidada',y='percent',hue='Status',kind='bar',data=df1, height=5,aspect = 1.8)\n",
    "\n",
    "g.ax.set_ylim(0,100)\n",
    "for p in g.ax.patches:\n",
    "    x = p.get_x() + p.get_width()/2\n",
    "    y = p.get_height()\n",
    "    g.ax.annotate('{:.2f}%'.format(p.get_height()), (x, y), ha='center')\n",
    "plt.show()"
   ]
  },
  {
   "cell_type": "markdown",
   "metadata": {},
   "source": [
    "**Taxa do site A:**"
   ]
  },
  {
   "cell_type": "code",
   "execution_count": 307,
   "metadata": {},
   "outputs": [
    {
     "data": {
      "text/plain": [
       "Confirmada    94.95\n",
       "Cancelado      5.05\n",
       "Name: Status, dtype: float64"
      ]
     },
     "execution_count": 307,
     "metadata": {},
     "output_type": "execute_result"
    }
   ],
   "source": [
    "(dados[dados['Fonte_consolidada']=='Site A']['Status'].value_counts(normalize=True)*100).round(2)"
   ]
  },
  {
   "cell_type": "markdown",
   "metadata": {},
   "source": [
    "**Taxa do site B:**"
   ]
  },
  {
   "cell_type": "code",
   "execution_count": 308,
   "metadata": {},
   "outputs": [
    {
     "data": {
      "text/plain": [
       "Confirmada    67.43\n",
       "Cancelado     32.57\n",
       "Name: Status, dtype: float64"
      ]
     },
     "execution_count": 308,
     "metadata": {},
     "output_type": "execute_result"
    }
   ],
   "source": [
    "(dados[dados['Fonte_consolidada']=='Site B']['Status'].value_counts(normalize=True)*100).round(2)"
   ]
  },
  {
   "cell_type": "markdown",
   "metadata": {},
   "source": [
    "Podemos observar que a taxa de confirmação do **site A** é aprox. 95% e, a taxa de cancelamento é 5%. Que é um indicativo bom (ou muito bom). \n",
    "\n",
    "Já o **site B** tem uma taxa de confirmação de 67%. Confirmando que o site B além de ter pouca reserva comparado ao site A existe  uma taxa de cancelamento de aproximadamente 33%, o qual não é um bom indicativo se compararmos com o site A. \n",
    "\n",
    "*Com isso podemos concluir que o site B  tem influência na taxa de cancelamento em geral. Deste modo podemos investigar possíveis motivações para isto.*  "
   ]
  },
  {
   "cell_type": "markdown",
   "metadata": {},
   "source": [
    "* **Agora veremos em qual mês teve maior número de cancelamento**"
   ]
  },
  {
   "cell_type": "code",
   "execution_count": 309,
   "metadata": {},
   "outputs": [
    {
     "data": {
      "image/png": "[encoded data removed]",
      "text/plain": [
       "<Figure size 1104.85x504 with 1 Axes>"
      ]
     },
     "metadata": {},
     "output_type": "display_data"
    }
   ],
   "source": [
    "#sns.factorplot('Mes_reserva', data=dados, hue='Status', kind='count');\n",
    "df1 = dados.groupby('Mes_reserva')['Status'].value_counts(normalize=True)*100\n",
    "df1 = df1.rename('percent').reset_index()\n",
    "\n",
    "#g = sns.countplot(x=\"Mes_reserva\", hue=\"Status\", data=df1)\n",
    "g = sns.catplot(x='Mes_reserva',y='percent',hue='Status',kind='bar',data=df1, height=7,aspect = 2)\n",
    "g.ax.set_ylim(0,100)\n",
    "for p in g.ax.patches:\n",
    "    x = p.get_x() + p.get_width()/2\n",
    "    y = p.get_height()\n",
    "    g.ax.annotate('{:.2f}%'.format(p.get_height()), (x, y), ha='center')\n",
    "\n",
    "plt.title('Taxa de Confirmada\\Cancelada por mês \\n', fontsize=20)\n",
    "plt.show()"
   ]
  },
  {
   "cell_type": "markdown",
   "metadata": {},
   "source": [
    "Claramente o mês 11 teve o maior número de cancelamento.  \n",
    "\n",
    "Uma possível resposta para isto é que no  mês 11 o site B possui um grande  número de reservas (vejamos isso no gráfico abaixo), o que acarreta no alto número de cancelamento. Visto que o site B possui uma alta taxa de cancelamento. "
   ]
  },
  {
   "cell_type": "markdown",
   "metadata": {},
   "source": [
    "* **A plataforma que teve maior número de reservas em cada mês** "
   ]
  },
  {
   "cell_type": "code",
   "execution_count": 310,
   "metadata": {},
   "outputs": [
    {
     "name": "stderr",
     "output_type": "stream",
     "text": [
      "C:\\Users\\Administrador\\Anaconda3\\lib\\site-packages\\seaborn\\categorical.py:3714: UserWarning:\n",
      "\n",
      "The `factorplot` function has been renamed to `catplot`. The original name will be removed in a future release. Please update your code. Note that the default `kind` in `factorplot` (`'point'`) has changed `'strip'` in `catplot`.\n",
      "\n",
      "C:\\Users\\Administrador\\Anaconda3\\lib\\site-packages\\seaborn\\_decorators.py:43: FutureWarning:\n",
      "\n",
      "Pass the following variable as a keyword arg: x. From version 0.12, the only valid positional argument will be `data`, and passing other arguments without an explicit keyword will result in an error or misinterpretation.\n",
      "\n"
     ]
    },
    {
     "data": {
      "image/png": "[encoded data removed]",
      "text/plain": [
       "<Figure size 1117.67x504 with 1 Axes>"
      ]
     },
     "metadata": {},
     "output_type": "display_data"
    }
   ],
   "source": [
    "sns.factorplot('Mes_reserva', data=dados, hue='Fonte_consolidada', kind='count',height=7,aspect = 2);\n",
    "plt.title('Número de reservas em cada mês',fontsize=20)\n",
    "plt.show()"
   ]
  },
  {
   "cell_type": "markdown",
   "metadata": {},
   "source": [
    "Podemos notar que os números de reservas do site B aumentaram ao longo dos meses. No entanto, a sua taxa de cancelamento é alta. Caso essa  tendência se mantenha nos próximos 2 meses e, reduzindo a taxa de cancelamento, podemos ter um bom indicativo, já que sua taxa de serviço corresponde a 5% e a do site A  10%.\n"
   ]
  },
  {
   "cell_type": "markdown",
   "metadata": {},
   "source": [
    "* Qual o número de cancelamento de cada site em cada mês?\n"
   ]
  },
  {
   "cell_type": "code",
   "execution_count": 311,
   "metadata": {},
   "outputs": [
    {
     "name": "stdout",
     "output_type": "stream",
     "text": [
      "Mês 2 \t Site A    10\n",
      "Name: Fonte_consolidada, dtype: int64\n",
      "Mês 3 \t Site A    6\n",
      "Name: Fonte_consolidada, dtype: int64\n",
      "Mês 4 \t Site A    9\n",
      "Name: Fonte_consolidada, dtype: int64\n",
      "Mês 5 \t Site A    15\n",
      "Name: Fonte_consolidada, dtype: int64\n",
      "Mês 6 \t Site A    24\n",
      "Site B     4\n",
      "Name: Fonte_consolidada, dtype: int64\n",
      "Mês 7 \t Site A    18\n",
      "Site B     8\n",
      "Name: Fonte_consolidada, dtype: int64\n",
      "Mês 8 \t Site A    23\n",
      "Site B     5\n",
      "Name: Fonte_consolidada, dtype: int64\n",
      "Mês 9 \t Site B    28\n",
      "Site A    16\n",
      "Name: Fonte_consolidada, dtype: int64\n",
      "Mês 10 \t Site B    190\n",
      "Site A     22\n",
      "Name: Fonte_consolidada, dtype: int64\n",
      "Mês 11 \t Site B    334\n",
      "Site A     31\n",
      "Name: Fonte_consolidada, dtype: int64\n"
     ]
    }
   ],
   "source": [
    "aux_dados = dados[dados['Status']=='Cancelado'][['Fonte_consolidada','Status','Mes_reserva']]\n",
    "for i in range(2,12):\n",
    "    print('Mês',i,'\\t',aux_dados[aux_dados['Mes_reserva']==i]['Fonte_consolidada'].value_counts())"
   ]
  },
  {
   "cell_type": "code",
   "execution_count": 312,
   "metadata": {},
   "outputs": [],
   "source": [
    "aux_df_cofirmada = dados[dados['Status']=='Confirmada'][['Fonte_consolidada','Status','Mes_reserva']]\n",
    "aux_df_cancelado = dados[dados['Status']=='Cancelado'][['Fonte_consolidada','Status','Mes_reserva']]"
   ]
  },
  {
   "cell_type": "code",
   "execution_count": 313,
   "metadata": {},
   "outputs": [],
   "source": [
    "siteA_conf = aux_df_cofirmada[aux_df_cofirmada['Mes_reserva']==10]['Fonte_consolidada'].value_counts()[0]\n",
    "siteA_canc = aux_df_cancelado[aux_df_cancelado['Mes_reserva']==10]['Fonte_consolidada'].value_counts()[1]\n",
    "\n",
    "siteB_conf = aux_df_cofirmada[aux_df_cofirmada['Mes_reserva']==10]['Fonte_consolidada'].value_counts()[1]\n",
    "siteB_canc = aux_df_cancelado[aux_df_cancelado['Mes_reserva']==10]['Fonte_consolidada'].value_counts()[0]"
   ]
  },
  {
   "cell_type": "code",
   "execution_count": 314,
   "metadata": {},
   "outputs": [
    {
     "name": "stdout",
     "output_type": "stream",
     "text": [
      "Taxa de cacelamento mês 10/2019 site A 2.45\n",
      "Taxa de cacelamento mês 10/2019 site B 21.13\n"
     ]
    }
   ],
   "source": [
    "print('Taxa de cacelamento mês 10/2019 site A', round(100*(siteA_canc/(siteA_conf+siteA_canc+siteB_conf+siteB_canc)),2))\n",
    "print('Taxa de cacelamento mês 10/2019 site B', round(100*(siteB_canc/(siteA_conf+siteA_canc+siteB_conf+siteB_canc)),2))"
   ]
  },
  {
   "cell_type": "code",
   "execution_count": 315,
   "metadata": {},
   "outputs": [],
   "source": [
    "siteA_conf = aux_df_cofirmada[aux_df_cofirmada['Mes_reserva']==11]['Fonte_consolidada'].value_counts()[0]\n",
    "siteA_canc = aux_df_cancelado[aux_df_cancelado['Mes_reserva']==11]['Fonte_consolidada'].value_counts()[1]\n",
    "\n",
    "siteB_conf = aux_df_cofirmada[aux_df_cofirmada['Mes_reserva']==11]['Fonte_consolidada'].value_counts()[1]\n",
    "siteB_canc = aux_df_cancelado[aux_df_cancelado['Mes_reserva']==11]['Fonte_consolidada'].value_counts()[0]"
   ]
  },
  {
   "cell_type": "code",
   "execution_count": 316,
   "metadata": {},
   "outputs": [
    {
     "name": "stdout",
     "output_type": "stream",
     "text": [
      "Taxa de cacelamento mês 11/2019 site A 2.59\n",
      "Taxa de cacelamento mês 11/2019 site B 27.9\n"
     ]
    }
   ],
   "source": [
    "print('Taxa de cacelamento mês 11/2019 site A', round(100*(siteA_canc/(siteA_conf+siteA_canc+siteB_conf+siteB_canc)),2))\n",
    "print('Taxa de cacelamento mês 11/2019 site B', round(100*(siteB_canc/(siteB_conf+siteB_canc+siteA_conf+siteA_canc)),2))"
   ]
  },
  {
   "cell_type": "markdown",
   "metadata": {},
   "source": [
    "* Visualizando os números de cancelamentos de cada site em cada mês"
   ]
  },
  {
   "cell_type": "code",
   "execution_count": 317,
   "metadata": {
    "scrolled": true
   },
   "outputs": [
    {
     "name": "stderr",
     "output_type": "stream",
     "text": [
      "C:\\Users\\Administrador\\Anaconda3\\lib\\site-packages\\seaborn\\categorical.py:3714: UserWarning:\n",
      "\n",
      "The `factorplot` function has been renamed to `catplot`. The original name will be removed in a future release. Please update your code. Note that the default `kind` in `factorplot` (`'point'`) has changed `'strip'` in `catplot`.\n",
      "\n",
      "C:\\Users\\Administrador\\Anaconda3\\lib\\site-packages\\seaborn\\_decorators.py:43: FutureWarning:\n",
      "\n",
      "Pass the following variable as a keyword arg: x. From version 0.12, the only valid positional argument will be `data`, and passing other arguments without an explicit keyword will result in an error or misinterpretation.\n",
      "\n"
     ]
    },
    {
     "data": {
      "image/png": "[encoded data removed]",
      "text/plain": [
       "<Figure size 1117.67x504 with 1 Axes>"
      ]
     },
     "metadata": {},
     "output_type": "display_data"
    }
   ],
   "source": [
    "sns.factorplot('Mes_reserva', data=dados[dados['Status']=='Cancelado'][['Fonte_consolidada','Status','Mes_reserva']], hue='Fonte_consolidada', kind='count',height=7,aspect = 2)\n",
    "plt.title('Reserva cancelada em cada mês',fontsize=20);"
   ]
  },
  {
   "cell_type": "markdown",
   "metadata": {},
   "source": [
    "* Visualizando os números de confirmação de cada site em cada mês"
   ]
  },
  {
   "cell_type": "code",
   "execution_count": 318,
   "metadata": {},
   "outputs": [
    {
     "name": "stderr",
     "output_type": "stream",
     "text": [
      "C:\\Users\\Administrador\\Anaconda3\\lib\\site-packages\\seaborn\\categorical.py:3714: UserWarning:\n",
      "\n",
      "The `factorplot` function has been renamed to `catplot`. The original name will be removed in a future release. Please update your code. Note that the default `kind` in `factorplot` (`'point'`) has changed `'strip'` in `catplot`.\n",
      "\n",
      "C:\\Users\\Administrador\\Anaconda3\\lib\\site-packages\\seaborn\\_decorators.py:43: FutureWarning:\n",
      "\n",
      "Pass the following variable as a keyword arg: x. From version 0.12, the only valid positional argument will be `data`, and passing other arguments without an explicit keyword will result in an error or misinterpretation.\n",
      "\n"
     ]
    },
    {
     "data": {
      "image/png": "[encoded data removed]",
      "text/plain": [
       "<Figure size 1117.67x504 with 1 Axes>"
      ]
     },
     "metadata": {},
     "output_type": "display_data"
    }
   ],
   "source": [
    "ax=sns.factorplot('Mes_reserva', data=dados[dados['Status']=='Confirmada'][['Fonte_consolidada','Status','Mes_reserva']], hue='Fonte_consolidada', kind='count',height=7,aspect = 2)\n",
    "plt.title('Reserva Confirmada em cada mês',fontsize=20);"
   ]
  },
  {
   "cell_type": "markdown",
   "metadata": {},
   "source": [
    "### 2. Analisando a variável Nº de pessoas"
   ]
  },
  {
   "cell_type": "markdown",
   "metadata": {},
   "source": [
    "* **Visualizando - Nº de pessoas por reserva**"
   ]
  },
  {
   "cell_type": "code",
   "execution_count": 319,
   "metadata": {},
   "outputs": [
    {
     "data": {
      "image/png": "[encoded data removed]",
      "text/plain": [
       "<Figure size 864x432 with 1 Axes>"
      ]
     },
     "metadata": {},
     "output_type": "display_data"
    }
   ],
   "source": [
    "plt.figure(figsize=(12,6))\n",
    "total = len(dados['Nº de pessoas'])\n",
    "#ax=dados['Nº de pessoas'].value_counts().plot(kind='bar')\n",
    "ax =  sns.countplot(x=\"Nº de pessoas\", hue=\"Nº de pessoas\", data=dados[['Nº de pessoas']])\n",
    "plt.title('Nº de pessoas', fontsize=20)\n",
    "for p in ax.patches:\n",
    "    x = p.get_x() + p.get_width()\n",
    "    y = p.get_height()\n",
    "    ax.annotate('{:.2f}%'.format(100 * p.get_height()/total), (x, y),ha='center')\n",
    "plt.show()"
   ]
  },
  {
   "cell_type": "markdown",
   "metadata": {},
   "source": [
    "Podemos observar que aprox. 68% das reservas foram solicitadas para 2 pessoas e aprox. 31%  para 1 pessoa. Que equivale uma taxa de 99% das reservas. "
   ]
  },
  {
   "cell_type": "markdown",
   "metadata": {},
   "source": [
    "* **Taxa dos Nº de quartos por reserva**"
   ]
  },
  {
   "cell_type": "code",
   "execution_count": 320,
   "metadata": {},
   "outputs": [
    {
     "data": {
      "image/png": "[encoded data removed]",
      "text/plain": [
       "<Figure size 864x432 with 1 Axes>"
      ]
     },
     "metadata": {},
     "output_type": "display_data"
    }
   ],
   "source": [
    "#ax=dados['Nº de quartos'].value_counts().plot.bar();\n",
    "plt.figure(figsize=(12,6))\n",
    "total = len(dados['Nº de quartos'])\n",
    "ax =  sns.countplot(x=\"Nº de quartos\", hue=\"Nº de quartos\", data=dados[['Nº de quartos']])\n",
    "plt.title('Nº de quartos', fontsize=20)\n",
    "for p in ax.patches:\n",
    "    x = p.get_x() + p.get_width()\n",
    "    y = p.get_height()\n",
    "    ax.annotate('{:.2f}%'.format(100 * p.get_height()/total), (x, y),ha='center')\n",
    "plt.show()"
   ]
  },
  {
   "cell_type": "markdown",
   "metadata": {},
   "source": [
    "Notemos 99% das reservas foram para 1 quarto.    "
   ]
  },
  {
   "cell_type": "markdown",
   "metadata": {},
   "source": [
    "### 3. Analisando a variável Código de País"
   ]
  },
  {
   "cell_type": "markdown",
   "metadata": {},
   "source": [
    "* **Os 10 países com maior número de reservas**"
   ]
  },
  {
   "cell_type": "code",
   "execution_count": 321,
   "metadata": {},
   "outputs": [
    {
     "data": {
      "text/plain": [
       "55.0    3636\n",
       "1.0       77\n",
       "33.0      22\n",
       "44.0      18\n",
       "54.0      13\n",
       "51.0      12\n",
       "56.0      11\n",
       "57.0      10\n",
       "61.0      10\n",
       "49.0      10\n",
       "Name: Cod_pais, dtype: int64"
      ]
     },
     "execution_count": 321,
     "metadata": {},
     "output_type": "execute_result"
    }
   ],
   "source": [
    "dados['Cod_pais'].value_counts()[:10,]"
   ]
  },
  {
   "cell_type": "markdown",
   "metadata": {},
   "source": [
    "Podemos notar que o Brasil (Cod_país=55) tem um maior número de reservas "
   ]
  },
  {
   "cell_type": "markdown",
   "metadata": {},
   "source": [
    "* *Vamos organizar os códigos dos países como: Brasil (BRA), Não informado (No_INFO) e Exterior ao Brasil (EXT).* "
   ]
  },
  {
   "cell_type": "code",
   "execution_count": 322,
   "metadata": {},
   "outputs": [],
   "source": [
    "dados['Cod_pais'].fillna(0,inplace=True) # substituindo zero nos valores ausentes\n",
    "for i in dados['Cod_pais']:\n",
    "    if i==55:\n",
    "        dados['Cod_pais'].replace({i:'BRA'},inplace=True)\n",
    "    elif i==0:\n",
    "        dados['Cod_pais'].replace({i:'NO_INFO'},inplace=True)\n",
    "    else:\n",
    "        dados['Cod_pais'].replace({i:'EXT'},inplace=True)"
   ]
  },
  {
   "cell_type": "markdown",
   "metadata": {},
   "source": [
    "* **Taxa de reserva feita por pessoas do Brasil, Não informado e Exterior ao Brasil.**"
   ]
  },
  {
   "cell_type": "code",
   "execution_count": 323,
   "metadata": {},
   "outputs": [
    {
     "data": {
      "text/plain": [
       "BRA        70.03\n",
       "NO_INFO    23.71\n",
       "EXT         6.26\n",
       "Name: Cod_pais, dtype: float64"
      ]
     },
     "execution_count": 323,
     "metadata": {},
     "output_type": "execute_result"
    }
   ],
   "source": [
    "(dados['Cod_pais'].value_counts(normalize=True)*100).round(2)"
   ]
  },
  {
   "cell_type": "code",
   "execution_count": 324,
   "metadata": {},
   "outputs": [
    {
     "data": {
      "image/png": "[encoded data removed]",
      "text/plain": [
       "<Figure size 720x432 with 1 Axes>"
      ]
     },
     "metadata": {},
     "output_type": "display_data"
    }
   ],
   "source": [
    "plt.figure(figsize=(10,6))\n",
    "total = len(dados['Cod_pais'])\n",
    "ax =  sns.countplot(x=\"Cod_pais\", hue=\"Cod_pais\", data=dados[['Cod_pais']])\n",
    "plt.title('Cod_pais', fontsize=20)\n",
    "for p in ax.patches:\n",
    "    x = p.get_x() + p.get_width()/2\n",
    "    y = p.get_height()\n",
    "    ax.annotate('{:.2f}%'.format(100 * p.get_height()/total), (x, y), ha='center')\n",
    "plt.show()"
   ]
  },
  {
   "cell_type": "markdown",
   "metadata": {},
   "source": [
    "Notemos que de todos os valores do conjunto de dados:\n",
    "* 70% das reservas são feitas por pessoas que moram no Brasil. \n",
    "* 24% não informaram. (Podem morar no Brasil ou não) \n",
    "* 6% das reservas feitas são por pessoas que moram no exterior. \n",
    "\n",
    "*Note que 24% não informaram onde moram, podendo assim aumentar tanto a taxa das reservas feitas por pessoas que moram no Brasil quanto as feitas por pessoas que moram no exterior.*"
   ]
  },
  {
   "cell_type": "markdown",
   "metadata": {},
   "source": [
    "### 4. Analisando a variável Códido de Estado "
   ]
  },
  {
   "cell_type": "markdown",
   "metadata": {},
   "source": [
    "* **Estados no conjunto de dados**"
   ]
  },
  {
   "cell_type": "code",
   "execution_count": 325,
   "metadata": {
    "colab": {},
    "colab_type": "code",
    "id": "yZlARSaVmETD"
   },
   "outputs": [],
   "source": [
    "#Estados brasileiro\n",
    "EstadoPorDdd = {11:\"SP\",12:\"SP\",13:\"SP\",14:\"SP\",15:\"SP\",16:\"SP\",17:\"SP\",18:\"SP\",19:\"SP\",\n",
    "                21:\"RJ\",22:\"RJ\",24:\"RJ\",27:\"ES\",28:\"ES\",31:\"MG\",32:\"MG\",33:\"MG\",34:\"MG\",\n",
    "                35:\"MG\",37:\"MG\",38:\"MG\",41:\"PR\",42:\"PR\",43:\"PR\",44:\"PR\",45:\"PR\",46:\"PR\",\n",
    "                47:\"SC\",48:\"SC\",49:\"SC\",51:\"RS\",53:\"RS\",54:\"RS\",55:\"RS\",61:\"DF\",62:\"GO\",\n",
    "                63:\"TO\",64:\"GO\",65:\"MT\",66:\"MT\",67:\"MS\",68:\"AC\",69:\"RO\",71:\"BA\",73:\"BA\",\n",
    "                74:\"BA\",75:\"BA\",77:\"BA\",79:\"SE\",81:\"PE\",82:\"AL\",83:\"PB\",84:\"RN\",85:\"CE\",\n",
    "                86:\"PI\",87:\"PE\",88:\"CE\",89:\"PI\",91:\"PA\",92:\"AM\",93:\"PA\",94:\"PA\",95:\"RR\",\n",
    "                96:\"AP\",97:\"AM\",98:\"MA\",99:\"MA\" }\n",
    "dados['Cod_estado'].replace(EstadoPorDdd,inplace=True) \n",
    "\n",
    "#Estados não informados\n",
    "dados['Cod_estado'].fillna(0,inplace=True) # substituindo zero nos valores ausentes\n",
    "for i in dados['Cod_estado']:\n",
    "    if i==0:\n",
    "        dados['Cod_estado'].replace({i:'No_info'},inplace=True)\n",
    "##Estados exteriores        \n",
    "for i in dados['Cod_estado']:\n",
    "    if type(i)==float:\n",
    "        dados['Cod_estado'].replace({i:'Est_Ext'},inplace=True)    "
   ]
  },
  {
   "cell_type": "markdown",
   "metadata": {},
   "source": [
    "* **Taxas das reservas dos estados**\n",
    "\n",
    "*Veremos os 10 estados com maior taxa de reservas*"
   ]
  },
  {
   "cell_type": "code",
   "execution_count": 326,
   "metadata": {},
   "outputs": [
    {
     "data": {
      "image/png": "[encoded data removed]",
      "text/plain": [
       "<Figure size 720x432 with 1 Axes>"
      ]
     },
     "metadata": {},
     "output_type": "display_data"
    }
   ],
   "source": [
    "plt.figure(figsize=(10,6))\n",
    "total = len(dados['Cod_estado'])\n",
    "ax=(dados['Cod_estado'].value_counts()*100).round(2)[:10].plot.bar(color='b');\n",
    "plt.title('Taxas de reserva de cada estado', fontsize=20)\n",
    "for p in ax.patches:\n",
    "    x = p.get_x() + p.get_width()/2\n",
    "    y = p.get_height()\n",
    "    ax.annotate('{:.2f}%'.format(p.get_height()/total), (x, y+1000), ha='center')\n",
    "plt.show()"
   ]
  },
  {
   "cell_type": "markdown",
   "metadata": {},
   "source": [
    "*Podemos concluir que a procura por reservas está essencialmente em território nacional, mais precisamente nos estados de São Paulo, Rio de Janeiro e Minas Gerais.* \n",
    "\n",
    "*Também vale a pena ressaltar o alto número de estados não informados. Talvez conhecendo esses valores poderia ter uma conclusão diferente da vista no gráfico.*   "
   ]
  },
  {
   "cell_type": "markdown",
   "metadata": {},
   "source": [
    "## Inserindo Latitude e Longitude "
   ]
  },
  {
   "cell_type": "code",
   "execution_count": 327,
   "metadata": {},
   "outputs": [],
   "source": [
    "localizador ={'AC': [ -8.77, -70.55], 'AL': [ -9.71, -35.73], 'AM': [ -3.07, -61.66], 'AP': [  1.41, -51.77], 'BA': [-12.96, -38.51]\n",
    "             ,'CE': [ -3.71, -38.54], 'DF': [-15.83, -47.86], 'ES': [-19.19, -40.34], 'GO': [-16.64, -49.31], 'MA': [ -2.55, -44.30]\n",
    "             ,'MT': [-12.64, -55.42], 'MS': [-20.51, -54.54], 'MG': [-18.10, -44.38], 'PA': [ -5.53, -52.29], 'PB': [ -7.06, -35.55]\n",
    "             ,'PR': [-24.89, -51.55], 'PE': [ -8.28, -35.07], 'PI': [ -8.28, -43.68], 'RJ': [-22.84, -43.15], 'RN': [ -5.22, -36.52]\n",
    "             ,'RO': [-11.22, -62.80], 'RS': [-30.01, -51.22], 'RR': [  1.89, -61.22], 'SC': [-27.33, -49.44], 'SE': [-10.90, -37.07]\n",
    "             ,'SP': [-23.55, -46.64], 'TO': [-10.25, -48.25]\n",
    "}\n",
    "df_L=pd.DataFrame(localizador).transpose()\n",
    "df_L.columns = ['lat','lng']\n",
    "df_L.reset_index(inplace=True)\n",
    "df_L.rename(columns={'index':'Cod_estado'}, inplace= True)"
   ]
  },
  {
   "cell_type": "code",
   "execution_count": 328,
   "metadata": {},
   "outputs": [],
   "source": [
    "resultado = pd.merge(dados,df_L,on='Cod_estado')"
   ]
  },
  {
   "cell_type": "code",
   "execution_count": 329,
   "metadata": {},
   "outputs": [
    {
     "data": {
      "text/html": [
       "<div>\n",
       "<style scoped>\n",
       "    .dataframe tbody tr th:only-of-type {\n",
       "        vertical-align: middle;\n",
       "    }\n",
       "\n",
       "    .dataframe tbody tr th {\n",
       "        vertical-align: top;\n",
       "    }\n",
       "\n",
       "    .dataframe thead th {\n",
       "        text-align: right;\n",
       "    }\n",
       "</style>\n",
       "<table border=\"1\" class=\"dataframe\">\n",
       "  <thead>\n",
       "    <tr style=\"text-align: right;\">\n",
       "      <th></th>\n",
       "      <th>Fonte_consolidada</th>\n",
       "      <th>Status</th>\n",
       "      <th>Nº de pessoas</th>\n",
       "      <th>Nº de quartos</th>\n",
       "      <th>Check-in</th>\n",
       "      <th>Check-out</th>\n",
       "      <th>Reservado</th>\n",
       "      <th>Receita bruta estimada</th>\n",
       "      <th>Cod_pais</th>\n",
       "      <th>Cod_estado</th>\n",
       "      <th>Mes_reserva</th>\n",
       "      <th>lat</th>\n",
       "      <th>lng</th>\n",
       "    </tr>\n",
       "  </thead>\n",
       "  <tbody>\n",
       "    <tr>\n",
       "      <th>0</th>\n",
       "      <td>Site A</td>\n",
       "      <td>Confirmada</td>\n",
       "      <td>1</td>\n",
       "      <td>1</td>\n",
       "      <td>2019-03-10</td>\n",
       "      <td>2019-03-18</td>\n",
       "      <td>2019-02-04</td>\n",
       "      <td>165.50625</td>\n",
       "      <td>BRA</td>\n",
       "      <td>MG</td>\n",
       "      <td>2</td>\n",
       "      <td>-18.1</td>\n",
       "      <td>-44.38</td>\n",
       "    </tr>\n",
       "    <tr>\n",
       "      <th>1</th>\n",
       "      <td>Site A</td>\n",
       "      <td>Confirmada</td>\n",
       "      <td>2</td>\n",
       "      <td>1</td>\n",
       "      <td>2019-03-11</td>\n",
       "      <td>2019-03-14</td>\n",
       "      <td>2019-02-07</td>\n",
       "      <td>89.11875</td>\n",
       "      <td>BRA</td>\n",
       "      <td>MG</td>\n",
       "      <td>2</td>\n",
       "      <td>-18.1</td>\n",
       "      <td>-44.38</td>\n",
       "    </tr>\n",
       "    <tr>\n",
       "      <th>2</th>\n",
       "      <td>Site A</td>\n",
       "      <td>Confirmada</td>\n",
       "      <td>2</td>\n",
       "      <td>1</td>\n",
       "      <td>2019-03-22</td>\n",
       "      <td>2019-03-24</td>\n",
       "      <td>2019-02-09</td>\n",
       "      <td>50.92500</td>\n",
       "      <td>BRA</td>\n",
       "      <td>MG</td>\n",
       "      <td>2</td>\n",
       "      <td>-18.1</td>\n",
       "      <td>-44.38</td>\n",
       "    </tr>\n",
       "  </tbody>\n",
       "</table>\n",
       "</div>"
      ],
      "text/plain": [
       "  Fonte_consolidada      Status  Nº de pessoas  Nº de quartos   Check-in  \\\n",
       "0            Site A  Confirmada              1              1 2019-03-10   \n",
       "1            Site A  Confirmada              2              1 2019-03-11   \n",
       "2            Site A  Confirmada              2              1 2019-03-22   \n",
       "\n",
       "   Check-out  Reservado  Receita bruta estimada Cod_pais Cod_estado  \\\n",
       "0 2019-03-18 2019-02-04               165.50625      BRA         MG   \n",
       "1 2019-03-14 2019-02-07                89.11875      BRA         MG   \n",
       "2 2019-03-24 2019-02-09                50.92500      BRA         MG   \n",
       "\n",
       "   Mes_reserva   lat    lng  \n",
       "0            2 -18.1 -44.38  \n",
       "1            2 -18.1 -44.38  \n",
       "2            2 -18.1 -44.38  "
      ]
     },
     "execution_count": 329,
     "metadata": {},
     "output_type": "execute_result"
    }
   ],
   "source": [
    "resultado.head(3)"
   ]
  },
  {
   "cell_type": "code",
   "execution_count": 330,
   "metadata": {},
   "outputs": [],
   "source": [
    "df_status=resultado.groupby('Cod_estado')['Status'].value_counts(normalize=True)\n",
    "\n",
    "df_status = pd.DataFrame(df_status).rename(columns={'Status':'Count'})\n",
    "df_status =df_status.pivot_table(values ='Count', index =['Cod_estado'], columns =['Status']) "
   ]
  },
  {
   "cell_type": "code",
   "execution_count": 331,
   "metadata": {},
   "outputs": [
    {
     "data": {
      "text/html": [
       "<div>\n",
       "<style scoped>\n",
       "    .dataframe tbody tr th:only-of-type {\n",
       "        vertical-align: middle;\n",
       "    }\n",
       "\n",
       "    .dataframe tbody tr th {\n",
       "        vertical-align: top;\n",
       "    }\n",
       "\n",
       "    .dataframe thead th {\n",
       "        text-align: right;\n",
       "    }\n",
       "</style>\n",
       "<table border=\"1\" class=\"dataframe\">\n",
       "  <thead>\n",
       "    <tr style=\"text-align: right;\">\n",
       "      <th></th>\n",
       "      <th>Cod_estado</th>\n",
       "      <th>Cancelado</th>\n",
       "      <th>Confirmada</th>\n",
       "      <th>lat</th>\n",
       "      <th>lng</th>\n",
       "    </tr>\n",
       "  </thead>\n",
       "  <tbody>\n",
       "    <tr>\n",
       "      <th>0</th>\n",
       "      <td>AC</td>\n",
       "      <td>0.333333</td>\n",
       "      <td>0.666667</td>\n",
       "      <td>-8.77</td>\n",
       "      <td>-70.55</td>\n",
       "    </tr>\n",
       "    <tr>\n",
       "      <th>1</th>\n",
       "      <td>AL</td>\n",
       "      <td>0.045455</td>\n",
       "      <td>0.954545</td>\n",
       "      <td>-9.71</td>\n",
       "      <td>-35.73</td>\n",
       "    </tr>\n",
       "    <tr>\n",
       "      <th>2</th>\n",
       "      <td>AM</td>\n",
       "      <td>0.129870</td>\n",
       "      <td>0.870130</td>\n",
       "      <td>-3.07</td>\n",
       "      <td>-61.66</td>\n",
       "    </tr>\n",
       "  </tbody>\n",
       "</table>\n",
       "</div>"
      ],
      "text/plain": [
       "  Cod_estado  Cancelado  Confirmada   lat    lng\n",
       "0         AC   0.333333    0.666667 -8.77 -70.55\n",
       "1         AL   0.045455    0.954545 -9.71 -35.73\n",
       "2         AM   0.129870    0.870130 -3.07 -61.66"
      ]
     },
     "execution_count": 331,
     "metadata": {},
     "output_type": "execute_result"
    }
   ],
   "source": [
    "df_status = pd.merge(df_status,df_L,on='Cod_estado')\n",
    "df_status.fillna(0, inplace=True)\n",
    "df_status.head(3)"
   ]
  },
  {
   "cell_type": "code",
   "execution_count": 332,
   "metadata": {},
   "outputs": [
    {
     "data": {
      "text/plain": [
       "Cod_estado\n",
       "AC    1117.486125\n",
       "AL    1620.509625\n",
       "AM    7328.986875\n",
       "AP    1158.344250\n",
       "BA    9548.996625\n",
       "Name: Receita bruta estimada, dtype: float64"
      ]
     },
     "execution_count": 332,
     "metadata": {},
     "output_type": "execute_result"
    }
   ],
   "source": [
    "df_receita=resultado.groupby('Cod_estado')['Receita bruta estimada'].sum()\n",
    "df_receita.head()"
   ]
  },
  {
   "cell_type": "code",
   "execution_count": 333,
   "metadata": {},
   "outputs": [
    {
     "data": {
      "text/html": [
       "<div>\n",
       "<style scoped>\n",
       "    .dataframe tbody tr th:only-of-type {\n",
       "        vertical-align: middle;\n",
       "    }\n",
       "\n",
       "    .dataframe tbody tr th {\n",
       "        vertical-align: top;\n",
       "    }\n",
       "\n",
       "    .dataframe thead th {\n",
       "        text-align: right;\n",
       "    }\n",
       "</style>\n",
       "<table border=\"1\" class=\"dataframe\">\n",
       "  <thead>\n",
       "    <tr style=\"text-align: right;\">\n",
       "      <th></th>\n",
       "      <th>Cod_estado</th>\n",
       "      <th>Receita bruta estimada</th>\n",
       "      <th>lat</th>\n",
       "      <th>lng</th>\n",
       "    </tr>\n",
       "  </thead>\n",
       "  <tbody>\n",
       "    <tr>\n",
       "      <th>0</th>\n",
       "      <td>AC</td>\n",
       "      <td>1117.486125</td>\n",
       "      <td>-8.77</td>\n",
       "      <td>-70.55</td>\n",
       "    </tr>\n",
       "    <tr>\n",
       "      <th>1</th>\n",
       "      <td>AL</td>\n",
       "      <td>1620.509625</td>\n",
       "      <td>-9.71</td>\n",
       "      <td>-35.73</td>\n",
       "    </tr>\n",
       "    <tr>\n",
       "      <th>2</th>\n",
       "      <td>AM</td>\n",
       "      <td>7328.986875</td>\n",
       "      <td>-3.07</td>\n",
       "      <td>-61.66</td>\n",
       "    </tr>\n",
       "    <tr>\n",
       "      <th>3</th>\n",
       "      <td>AP</td>\n",
       "      <td>1158.344250</td>\n",
       "      <td>1.41</td>\n",
       "      <td>-51.77</td>\n",
       "    </tr>\n",
       "    <tr>\n",
       "      <th>4</th>\n",
       "      <td>BA</td>\n",
       "      <td>9548.996625</td>\n",
       "      <td>-12.96</td>\n",
       "      <td>-38.51</td>\n",
       "    </tr>\n",
       "  </tbody>\n",
       "</table>\n",
       "</div>"
      ],
      "text/plain": [
       "  Cod_estado  Receita bruta estimada    lat    lng\n",
       "0         AC             1117.486125  -8.77 -70.55\n",
       "1         AL             1620.509625  -9.71 -35.73\n",
       "2         AM             7328.986875  -3.07 -61.66\n",
       "3         AP             1158.344250   1.41 -51.77\n",
       "4         BA             9548.996625 -12.96 -38.51"
      ]
     },
     "execution_count": 333,
     "metadata": {},
     "output_type": "execute_result"
    }
   ],
   "source": [
    "df_receita = pd.merge(df_receita,df_L,on='Cod_estado')\n",
    "df_receita.head()"
   ]
  },
  {
   "cell_type": "code",
   "execution_count": 334,
   "metadata": {},
   "outputs": [
    {
     "data": {
      "application/vnd.plotly.v1+json": {
       "config": {
        "plotlyServerURL": "https://plot.ly"
       },
       "data": [
        {
         "customdata": [
          [
           "AC"
          ],
          [
           "AL"
          ],
          [
           "AM"
          ],
          [
           "AP"
          ],
          [
           "BA"
          ],
          [
           "CE"
          ],
          [
           "DF"
          ],
          [
           "ES"
          ],
          [
           "GO"
          ],
          [
           "MA"
          ],
          [
           "MG"
          ],
          [
           "MS"
          ],
          [
           "MT"
          ],
          [
           "PA"
          ],
          [
           "PB"
          ],
          [
           "PE"
          ],
          [
           "PI"
          ],
          [
           "PR"
          ],
          [
           "RJ"
          ],
          [
           "RN"
          ],
          [
           "RO"
          ],
          [
           "RR"
          ],
          [
           "RS"
          ],
          [
           "SC"
          ],
          [
           "SE"
          ],
          [
           "SP"
          ],
          [
           "TO"
          ]
         ],
         "hovertemplate": "<b>%{hovertext}</b><br><br>Receita bruta estimada=%{marker.color}<br>lat=%{lat}<br>lng=%{lon}<br>Cod_estado=%{customdata[0]}<extra></extra>",
         "hovertext": [
          "AC",
          "AL",
          "AM",
          "AP",
          "BA",
          "CE",
          "DF",
          "ES",
          "GO",
          "MA",
          "MG",
          "MS",
          "MT",
          "PA",
          "PB",
          "PE",
          "PI",
          "PR",
          "RJ",
          "RN",
          "RO",
          "RR",
          "RS",
          "SC",
          "SE",
          "SP",
          "TO"
         ],
         "lat": [
          -8.77,
          -9.71,
          -3.07,
          1.41,
          -12.96,
          -3.71,
          -15.83,
          -19.19,
          -16.64,
          -2.55,
          -18.1,
          -20.51,
          -12.64,
          -5.53,
          -7.06,
          -8.28,
          -8.28,
          -24.89,
          -22.84,
          -5.22,
          -11.22,
          1.89,
          -30.01,
          -27.33,
          -10.9,
          -23.55,
          -10.25
         ],
         "legendgroup": "",
         "lon": [
          -70.55,
          -35.73,
          -61.66,
          -51.77,
          -38.51,
          -38.54,
          -47.86,
          -40.34,
          -49.31,
          -44.3,
          -44.38,
          -54.54,
          -55.42,
          -52.29,
          -35.55,
          -35.07,
          -43.68,
          -51.55,
          -43.15,
          -36.52,
          -62.8,
          -61.22,
          -51.22,
          -49.44,
          -37.07,
          -46.64,
          -48.25
         ],
         "marker": {
          "color": [
           1117.4861250000001,
           1620.509625,
           7328.986875000004,
           1158.3442499999999,
           9548.996625000002,
           5420.49375,
           11972.454375000003,
           6300.651000000001,
           9770.530875000002,
           6563.830874999999,
           25402.033124999998,
           3757.503750000001,
           5678.050875,
           6172.9605,
           1782.934125,
           4450.7715,
           766.1193750000001,
           17605.99837500001,
           35174.855625000004,
           3243.184875000001,
           2957.4903750000003,
           2700.5081250000003,
           12787.162500000006,
           11710.348124999999,
           2110.584,
           112136.57437499991,
           1286.4127500000002
          ],
          "coloraxis": "coloraxis",
          "size": [
           1117.4861250000001,
           1620.509625,
           7328.986875000004,
           1158.3442499999999,
           9548.996625000002,
           5420.49375,
           11972.454375000003,
           6300.651000000001,
           9770.530875000002,
           6563.830874999999,
           25402.033124999998,
           3757.503750000001,
           5678.050875,
           6172.9605,
           1782.934125,
           4450.7715,
           766.1193750000001,
           17605.99837500001,
           35174.855625000004,
           3243.184875000001,
           2957.4903750000003,
           2700.5081250000003,
           12787.162500000006,
           11710.348124999999,
           2110.584,
           112136.57437499991,
           1286.4127500000002
          ],
          "sizemode": "area",
          "sizeref": 31.149048437499975
         },
         "mode": "markers",
         "name": "",
         "showlegend": false,
         "subplot": "mapbox",
         "type": "scattermapbox"
        }
       ],
       "layout": {
        "coloraxis": {
         "colorbar": {
          "title": {
           "text": "Receita bruta estimada"
          }
         },
         "colorscale": [
          [
           0,
           "rgb(150,0,90)"
          ],
          [
           0.125,
           "rgb(0,0,200)"
          ],
          [
           0.25,
           "rgb(0,25,255)"
          ],
          [
           0.375,
           "rgb(0,152,255)"
          ],
          [
           0.5,
           "rgb(44,255,150)"
          ],
          [
           0.625,
           "rgb(151,255,0)"
          ],
          [
           0.75,
           "rgb(255,234,0)"
          ],
          [
           0.875,
           "rgb(255,111,0)"
          ],
          [
           1,
           "rgb(255,0,0)"
          ]
         ]
        },
        "height": 1000,
        "legend": {
         "itemsizing": "constant",
         "tracegroupgap": 0
        },
        "mapbox": {
         "center": {
          "lat": -12.434814814814816,
          "lon": -47.68
         },
         "domain": {
          "x": [
           0,
           1
          ],
          "y": [
           0,
           1
          ]
         },
         "style": "open-street-map",
         "zoom": 5
        },
        "margin": {
         "b": 0,
         "l": 0,
         "r": 0,
         "t": 0
        },
        "template": {
         "data": {
          "bar": [
           {
            "error_x": {
             "color": "#2a3f5f"
            },
            "error_y": {
             "color": "#2a3f5f"
            },
            "marker": {
             "line": {
              "color": "#E5ECF6",
              "width": 0.5
             }
            },
            "type": "bar"
           }
          ],
          "barpolar": [
           {
            "marker": {
             "line": {
              "color": "#E5ECF6",
              "width": 0.5
             }
            },
            "type": "barpolar"
           }
          ],
          "carpet": [
           {
            "aaxis": {
             "endlinecolor": "#2a3f5f",
             "gridcolor": "white",
             "linecolor": "white",
             "minorgridcolor": "white",
             "startlinecolor": "#2a3f5f"
            },
            "baxis": {
             "endlinecolor": "#2a3f5f",
             "gridcolor": "white",
             "linecolor": "white",
             "minorgridcolor": "white",
             "startlinecolor": "#2a3f5f"
            },
            "type": "carpet"
           }
          ],
          "choropleth": [
           {
            "colorbar": {
             "outlinewidth": 0,
             "ticks": ""
            },
            "type": "choropleth"
           }
          ],
          "contour": [
           {
            "colorbar": {
             "outlinewidth": 0,
             "ticks": ""
            },
            "colorscale": [
             [
              0,
              "#0d0887"
             ],
             [
              0.1111111111111111,
              "#46039f"
             ],
             [
              0.2222222222222222,
              "#7201a8"
             ],
             [
              0.3333333333333333,
              "#9c179e"
             ],
             [
              0.4444444444444444,
              "#bd3786"
             ],
             [
              0.5555555555555556,
              "#d8576b"
             ],
             [
              0.6666666666666666,
              "#ed7953"
             ],
             [
              0.7777777777777778,
              "#fb9f3a"
             ],
             [
              0.8888888888888888,
              "#fdca26"
             ],
             [
              1,
              "#f0f921"
             ]
            ],
            "type": "contour"
           }
          ],
          "contourcarpet": [
           {
            "colorbar": {
             "outlinewidth": 0,
             "ticks": ""
            },
            "type": "contourcarpet"
           }
          ],
          "heatmap": [
           {
            "colorbar": {
             "outlinewidth": 0,
             "ticks": ""
            },
            "colorscale": [
             [
              0,
              "#0d0887"
             ],
             [
              0.1111111111111111,
              "#46039f"
             ],
             [
              0.2222222222222222,
              "#7201a8"
             ],
             [
              0.3333333333333333,
              "#9c179e"
             ],
             [
              0.4444444444444444,
              "#bd3786"
             ],
             [
              0.5555555555555556,
              "#d8576b"
             ],
             [
              0.6666666666666666,
              "#ed7953"
             ],
             [
              0.7777777777777778,
              "#fb9f3a"
             ],
             [
              0.8888888888888888,
              "#fdca26"
             ],
             [
              1,
              "#f0f921"
             ]
            ],
            "type": "heatmap"
           }
          ],
          "heatmapgl": [
           {
            "colorbar": {
             "outlinewidth": 0,
             "ticks": ""
            },
            "colorscale": [
             [
              0,
              "#0d0887"
             ],
             [
              0.1111111111111111,
              "#46039f"
             ],
             [
              0.2222222222222222,
              "#7201a8"
             ],
             [
              0.3333333333333333,
              "#9c179e"
             ],
             [
              0.4444444444444444,
              "#bd3786"
             ],
             [
              0.5555555555555556,
              "#d8576b"
             ],
             [
              0.6666666666666666,
              "#ed7953"
             ],
             [
              0.7777777777777778,
              "#fb9f3a"
             ],
             [
              0.8888888888888888,
              "#fdca26"
             ],
             [
              1,
              "#f0f921"
             ]
            ],
            "type": "heatmapgl"
           }
          ],
          "histogram": [
           {
            "marker": {
             "colorbar": {
              "outlinewidth": 0,
              "ticks": ""
             }
            },
            "type": "histogram"
           }
          ],
          "histogram2d": [
           {
            "colorbar": {
             "outlinewidth": 0,
             "ticks": ""
            },
            "colorscale": [
             [
              0,
              "#0d0887"
             ],
             [
              0.1111111111111111,
              "#46039f"
             ],
             [
              0.2222222222222222,
              "#7201a8"
             ],
             [
              0.3333333333333333,
              "#9c179e"
             ],
             [
              0.4444444444444444,
              "#bd3786"
             ],
             [
              0.5555555555555556,
              "#d8576b"
             ],
             [
              0.6666666666666666,
              "#ed7953"
             ],
             [
              0.7777777777777778,
              "#fb9f3a"
             ],
             [
              0.8888888888888888,
              "#fdca26"
             ],
             [
              1,
              "#f0f921"
             ]
            ],
            "type": "histogram2d"
           }
          ],
          "histogram2dcontour": [
           {
            "colorbar": {
             "outlinewidth": 0,
             "ticks": ""
            },
            "colorscale": [
             [
              0,
              "#0d0887"
             ],
             [
              0.1111111111111111,
              "#46039f"
             ],
             [
              0.2222222222222222,
              "#7201a8"
             ],
             [
              0.3333333333333333,
              "#9c179e"
             ],
             [
              0.4444444444444444,
              "#bd3786"
             ],
             [
              0.5555555555555556,
              "#d8576b"
             ],
             [
              0.6666666666666666,
              "#ed7953"
             ],
             [
              0.7777777777777778,
              "#fb9f3a"
             ],
             [
              0.8888888888888888,
              "#fdca26"
             ],
             [
              1,
              "#f0f921"
             ]
            ],
            "type": "histogram2dcontour"
           }
          ],
          "mesh3d": [
           {
            "colorbar": {
             "outlinewidth": 0,
             "ticks": ""
            },
            "type": "mesh3d"
           }
          ],
          "parcoords": [
           {
            "line": {
             "colorbar": {
              "outlinewidth": 0,
              "ticks": ""
             }
            },
            "type": "parcoords"
           }
          ],
          "pie": [
           {
            "automargin": true,
            "type": "pie"
           }
          ],
          "scatter": [
           {
            "marker": {
             "colorbar": {
              "outlinewidth": 0,
              "ticks": ""
             }
            },
            "type": "scatter"
           }
          ],
          "scatter3d": [
           {
            "line": {
             "colorbar": {
              "outlinewidth": 0,
              "ticks": ""
             }
            },
            "marker": {
             "colorbar": {
              "outlinewidth": 0,
              "ticks": ""
             }
            },
            "type": "scatter3d"
           }
          ],
          "scattercarpet": [
           {
            "marker": {
             "colorbar": {
              "outlinewidth": 0,
              "ticks": ""
             }
            },
            "type": "scattercarpet"
           }
          ],
          "scattergeo": [
           {
            "marker": {
             "colorbar": {
              "outlinewidth": 0,
              "ticks": ""
             }
            },
            "type": "scattergeo"
           }
          ],
          "scattergl": [
           {
            "marker": {
             "colorbar": {
              "outlinewidth": 0,
              "ticks": ""
             }
            },
            "type": "scattergl"
           }
          ],
          "scattermapbox": [
           {
            "marker": {
             "colorbar": {
              "outlinewidth": 0,
              "ticks": ""
             }
            },
            "type": "scattermapbox"
           }
          ],
          "scatterpolar": [
           {
            "marker": {
             "colorbar": {
              "outlinewidth": 0,
              "ticks": ""
             }
            },
            "type": "scatterpolar"
           }
          ],
          "scatterpolargl": [
           {
            "marker": {
             "colorbar": {
              "outlinewidth": 0,
              "ticks": ""
             }
            },
            "type": "scatterpolargl"
           }
          ],
          "scatterternary": [
           {
            "marker": {
             "colorbar": {
              "outlinewidth": 0,
              "ticks": ""
             }
            },
            "type": "scatterternary"
           }
          ],
          "surface": [
           {
            "colorbar": {
             "outlinewidth": 0,
             "ticks": ""
            },
            "colorscale": [
             [
              0,
              "#0d0887"
             ],
             [
              0.1111111111111111,
              "#46039f"
             ],
             [
              0.2222222222222222,
              "#7201a8"
             ],
             [
              0.3333333333333333,
              "#9c179e"
             ],
             [
              0.4444444444444444,
              "#bd3786"
             ],
             [
              0.5555555555555556,
              "#d8576b"
             ],
             [
              0.6666666666666666,
              "#ed7953"
             ],
             [
              0.7777777777777778,
              "#fb9f3a"
             ],
             [
              0.8888888888888888,
              "#fdca26"
             ],
             [
              1,
              "#f0f921"
             ]
            ],
            "type": "surface"
           }
          ],
          "table": [
           {
            "cells": {
             "fill": {
              "color": "#EBF0F8"
             },
             "line": {
              "color": "white"
             }
            },
            "header": {
             "fill": {
              "color": "#C8D4E3"
             },
             "line": {
              "color": "white"
             }
            },
            "type": "table"
           }
          ]
         },
         "layout": {
          "annotationdefaults": {
           "arrowcolor": "#2a3f5f",
           "arrowhead": 0,
           "arrowwidth": 1
          },
          "autotypenumbers": "strict",
          "coloraxis": {
           "colorbar": {
            "outlinewidth": 0,
            "ticks": ""
           }
          },
          "colorscale": {
           "diverging": [
            [
             0,
             "#8e0152"
            ],
            [
             0.1,
             "#c51b7d"
            ],
            [
             0.2,
             "#de77ae"
            ],
            [
             0.3,
             "#f1b6da"
            ],
            [
             0.4,
             "#fde0ef"
            ],
            [
             0.5,
             "#f7f7f7"
            ],
            [
             0.6,
             "#e6f5d0"
            ],
            [
             0.7,
             "#b8e186"
            ],
            [
             0.8,
             "#7fbc41"
            ],
            [
             0.9,
             "#4d9221"
            ],
            [
             1,
             "#276419"
            ]
           ],
           "sequential": [
            [
             0,
             "#0d0887"
            ],
            [
             0.1111111111111111,
             "#46039f"
            ],
            [
             0.2222222222222222,
             "#7201a8"
            ],
            [
             0.3333333333333333,
             "#9c179e"
            ],
            [
             0.4444444444444444,
             "#bd3786"
            ],
            [
             0.5555555555555556,
             "#d8576b"
            ],
            [
             0.6666666666666666,
             "#ed7953"
            ],
            [
             0.7777777777777778,
             "#fb9f3a"
            ],
            [
             0.8888888888888888,
             "#fdca26"
            ],
            [
             1,
             "#f0f921"
            ]
           ],
           "sequentialminus": [
            [
             0,
             "#0d0887"
            ],
            [
             0.1111111111111111,
             "#46039f"
            ],
            [
             0.2222222222222222,
             "#7201a8"
            ],
            [
             0.3333333333333333,
             "#9c179e"
            ],
            [
             0.4444444444444444,
             "#bd3786"
            ],
            [
             0.5555555555555556,
             "#d8576b"
            ],
            [
             0.6666666666666666,
             "#ed7953"
            ],
            [
             0.7777777777777778,
             "#fb9f3a"
            ],
            [
             0.8888888888888888,
             "#fdca26"
            ],
            [
             1,
             "#f0f921"
            ]
           ]
          },
          "colorway": [
           "#636efa",
           "#EF553B",
           "#00cc96",
           "#ab63fa",
           "#FFA15A",
           "#19d3f3",
           "#FF6692",
           "#B6E880",
           "#FF97FF",
           "#FECB52"
          ],
          "font": {
           "color": "#2a3f5f"
          },
          "geo": {
           "bgcolor": "white",
           "lakecolor": "white",
           "landcolor": "#E5ECF6",
           "showlakes": true,
           "showland": true,
           "subunitcolor": "white"
          },
          "hoverlabel": {
           "align": "left"
          },
          "hovermode": "closest",
          "mapbox": {
           "style": "light"
          },
          "paper_bgcolor": "white",
          "plot_bgcolor": "#E5ECF6",
          "polar": {
           "angularaxis": {
            "gridcolor": "white",
            "linecolor": "white",
            "ticks": ""
           },
           "bgcolor": "#E5ECF6",
           "radialaxis": {
            "gridcolor": "white",
            "linecolor": "white",
            "ticks": ""
           }
          },
          "scene": {
           "xaxis": {
            "backgroundcolor": "#E5ECF6",
            "gridcolor": "white",
            "gridwidth": 2,
            "linecolor": "white",
            "showbackground": true,
            "ticks": "",
            "zerolinecolor": "white"
           },
           "yaxis": {
            "backgroundcolor": "#E5ECF6",
            "gridcolor": "white",
            "gridwidth": 2,
            "linecolor": "white",
            "showbackground": true,
            "ticks": "",
            "zerolinecolor": "white"
           },
           "zaxis": {
            "backgroundcolor": "#E5ECF6",
            "gridcolor": "white",
            "gridwidth": 2,
            "linecolor": "white",
            "showbackground": true,
            "ticks": "",
            "zerolinecolor": "white"
           }
          },
          "shapedefaults": {
           "line": {
            "color": "#2a3f5f"
           }
          },
          "ternary": {
           "aaxis": {
            "gridcolor": "white",
            "linecolor": "white",
            "ticks": ""
           },
           "baxis": {
            "gridcolor": "white",
            "linecolor": "white",
            "ticks": ""
           },
           "bgcolor": "#E5ECF6",
           "caxis": {
            "gridcolor": "white",
            "linecolor": "white",
            "ticks": ""
           }
          },
          "title": {
           "x": 0.05
          },
          "xaxis": {
           "automargin": true,
           "gridcolor": "white",
           "linecolor": "white",
           "ticks": "",
           "title": {
            "standoff": 15
           },
           "zerolinecolor": "white",
           "zerolinewidth": 2
          },
          "yaxis": {
           "automargin": true,
           "gridcolor": "white",
           "linecolor": "white",
           "ticks": "",
           "title": {
            "standoff": 15
           },
           "zerolinecolor": "white",
           "zerolinewidth": 2
          }
         }
        }
       }
      },
      "text/html": [
       "<div>                            <div id=\"0050bb89-54db-48ee-a29f-114ae60f7972\" class=\"plotly-graph-div\" style=\"height:1000px; width:100%;\"></div>            <script type=\"text/javascript\">                require([\"plotly\"], function(Plotly) {                    window.PLOTLYENV=window.PLOTLYENV || {};                                    if (document.getElementById(\"0050bb89-54db-48ee-a29f-114ae60f7972\")) {                    Plotly.newPlot(                        \"0050bb89-54db-48ee-a29f-114ae60f7972\",                        [{\"customdata\": [[\"AC\"], [\"AL\"], [\"AM\"], [\"AP\"], [\"BA\"], [\"CE\"], [\"DF\"], [\"ES\"], [\"GO\"], [\"MA\"], [\"MG\"], [\"MS\"], [\"MT\"], [\"PA\"], [\"PB\"], [\"PE\"], [\"PI\"], [\"PR\"], [\"RJ\"], [\"RN\"], [\"RO\"], [\"RR\"], [\"RS\"], [\"SC\"], [\"SE\"], [\"SP\"], [\"TO\"]], \"hovertemplate\": \"<b>%{hovertext}</b><br><br>Receita bruta estimada=%{marker.color}<br>lat=%{lat}<br>lng=%{lon}<br>Cod_estado=%{customdata[0]}<extra></extra>\", \"hovertext\": [\"AC\", \"AL\", \"AM\", \"AP\", \"BA\", \"CE\", \"DF\", \"ES\", \"GO\", \"MA\", \"MG\", \"MS\", \"MT\", \"PA\", \"PB\", \"PE\", \"PI\", \"PR\", \"RJ\", \"RN\", \"RO\", \"RR\", \"RS\", \"SC\", \"SE\", \"SP\", \"TO\"], \"lat\": [-8.77, -9.71, -3.07, 1.41, -12.96, -3.71, -15.83, -19.19, -16.64, -2.55, -18.1, -20.51, -12.64, -5.53, -7.06, -8.28, -8.28, -24.89, -22.84, -5.22, -11.22, 1.89, -30.01, -27.33, -10.9, -23.55, -10.25], \"legendgroup\": \"\", \"lon\": [-70.55, -35.73, -61.66, -51.77, -38.51, -38.54, -47.86, -40.34, -49.31, -44.3, -44.38, -54.54, -55.42, -52.29, -35.55, -35.07, -43.68, -51.55, -43.15, -36.52, -62.8, -61.22, -51.22, -49.44, -37.07, -46.64, -48.25], \"marker\": {\"color\": [1117.4861250000001, 1620.509625, 7328.986875000004, 1158.3442499999999, 9548.996625000002, 5420.49375, 11972.454375000003, 6300.651000000001, 9770.530875000002, 6563.830874999999, 25402.033124999998, 3757.503750000001, 5678.050875, 6172.9605, 1782.934125, 4450.7715, 766.1193750000001, 17605.99837500001, 35174.855625000004, 3243.184875000001, 2957.4903750000003, 2700.5081250000003, 12787.162500000006, 11710.348124999999, 2110.584, 112136.57437499991, 1286.4127500000002], \"coloraxis\": \"coloraxis\", \"size\": [1117.4861250000001, 1620.509625, 7328.986875000004, 1158.3442499999999, 9548.996625000002, 5420.49375, 11972.454375000003, 6300.651000000001, 9770.530875000002, 6563.830874999999, 25402.033124999998, 3757.503750000001, 5678.050875, 6172.9605, 1782.934125, 4450.7715, 766.1193750000001, 17605.99837500001, 35174.855625000004, 3243.184875000001, 2957.4903750000003, 2700.5081250000003, 12787.162500000006, 11710.348124999999, 2110.584, 112136.57437499991, 1286.4127500000002], \"sizemode\": \"area\", \"sizeref\": 31.149048437499975}, \"mode\": \"markers\", \"name\": \"\", \"showlegend\": false, \"subplot\": \"mapbox\", \"type\": \"scattermapbox\"}],                        {\"coloraxis\": {\"colorbar\": {\"title\": {\"text\": \"Receita bruta estimada\"}}, \"colorscale\": [[0.0, \"rgb(150,0,90)\"], [0.125, \"rgb(0,0,200)\"], [0.25, \"rgb(0,25,255)\"], [0.375, \"rgb(0,152,255)\"], [0.5, \"rgb(44,255,150)\"], [0.625, \"rgb(151,255,0)\"], [0.75, \"rgb(255,234,0)\"], [0.875, \"rgb(255,111,0)\"], [1.0, \"rgb(255,0,0)\"]]}, \"height\": 1000, \"legend\": {\"itemsizing\": \"constant\", \"tracegroupgap\": 0}, \"mapbox\": {\"center\": {\"lat\": -12.434814814814816, \"lon\": -47.68}, \"domain\": {\"x\": [0.0, 1.0], \"y\": [0.0, 1.0]}, \"style\": \"open-street-map\", \"zoom\": 5}, \"margin\": {\"b\": 0, \"l\": 0, \"r\": 0, \"t\": 0}, \"template\": {\"data\": {\"bar\": [{\"error_x\": {\"color\": \"#2a3f5f\"}, \"error_y\": {\"color\": \"#2a3f5f\"}, \"marker\": {\"line\": {\"color\": \"#E5ECF6\", \"width\": 0.5}}, \"type\": \"bar\"}], \"barpolar\": [{\"marker\": {\"line\": {\"color\": \"#E5ECF6\", \"width\": 0.5}}, \"type\": \"barpolar\"}], \"carpet\": [{\"aaxis\": {\"endlinecolor\": \"#2a3f5f\", \"gridcolor\": \"white\", \"linecolor\": \"white\", \"minorgridcolor\": \"white\", \"startlinecolor\": \"#2a3f5f\"}, \"baxis\": {\"endlinecolor\": \"#2a3f5f\", \"gridcolor\": \"white\", \"linecolor\": \"white\", \"minorgridcolor\": \"white\", \"startlinecolor\": \"#2a3f5f\"}, \"type\": \"carpet\"}], \"choropleth\": [{\"colorbar\": {\"outlinewidth\": 0, \"ticks\": \"\"}, \"type\": \"choropleth\"}], \"contour\": [{\"colorbar\": {\"outlinewidth\": 0, \"ticks\": \"\"}, \"colorscale\": [[0.0, \"#0d0887\"], [0.1111111111111111, \"#46039f\"], [0.2222222222222222, \"#7201a8\"], [0.3333333333333333, \"#9c179e\"], [0.4444444444444444, \"#bd3786\"], [0.5555555555555556, \"#d8576b\"], [0.6666666666666666, \"#ed7953\"], [0.7777777777777778, \"#fb9f3a\"], [0.8888888888888888, \"#fdca26\"], [1.0, \"#f0f921\"]], \"type\": \"contour\"}], \"contourcarpet\": [{\"colorbar\": {\"outlinewidth\": 0, \"ticks\": \"\"}, \"type\": \"contourcarpet\"}], \"heatmap\": [{\"colorbar\": {\"outlinewidth\": 0, \"ticks\": \"\"}, \"colorscale\": [[0.0, \"#0d0887\"], [0.1111111111111111, \"#46039f\"], [0.2222222222222222, \"#7201a8\"], [0.3333333333333333, \"#9c179e\"], [0.4444444444444444, \"#bd3786\"], [0.5555555555555556, \"#d8576b\"], [0.6666666666666666, \"#ed7953\"], [0.7777777777777778, \"#fb9f3a\"], [0.8888888888888888, \"#fdca26\"], [1.0, \"#f0f921\"]], \"type\": \"heatmap\"}], \"heatmapgl\": [{\"colorbar\": {\"outlinewidth\": 0, \"ticks\": \"\"}, \"colorscale\": [[0.0, \"#0d0887\"], [0.1111111111111111, \"#46039f\"], [0.2222222222222222, \"#7201a8\"], [0.3333333333333333, \"#9c179e\"], [0.4444444444444444, \"#bd3786\"], [0.5555555555555556, \"#d8576b\"], [0.6666666666666666, \"#ed7953\"], [0.7777777777777778, \"#fb9f3a\"], [0.8888888888888888, \"#fdca26\"], [1.0, \"#f0f921\"]], \"type\": \"heatmapgl\"}], \"histogram\": [{\"marker\": {\"colorbar\": {\"outlinewidth\": 0, \"ticks\": \"\"}}, \"type\": \"histogram\"}], \"histogram2d\": [{\"colorbar\": {\"outlinewidth\": 0, \"ticks\": \"\"}, \"colorscale\": [[0.0, \"#0d0887\"], [0.1111111111111111, \"#46039f\"], [0.2222222222222222, \"#7201a8\"], [0.3333333333333333, \"#9c179e\"], [0.4444444444444444, \"#bd3786\"], [0.5555555555555556, \"#d8576b\"], [0.6666666666666666, \"#ed7953\"], [0.7777777777777778, \"#fb9f3a\"], [0.8888888888888888, \"#fdca26\"], [1.0, \"#f0f921\"]], \"type\": \"histogram2d\"}], \"histogram2dcontour\": [{\"colorbar\": {\"outlinewidth\": 0, \"ticks\": \"\"}, \"colorscale\": [[0.0, \"#0d0887\"], [0.1111111111111111, \"#46039f\"], [0.2222222222222222, \"#7201a8\"], [0.3333333333333333, \"#9c179e\"], [0.4444444444444444, \"#bd3786\"], [0.5555555555555556, \"#d8576b\"], [0.6666666666666666, \"#ed7953\"], [0.7777777777777778, \"#fb9f3a\"], [0.8888888888888888, \"#fdca26\"], [1.0, \"#f0f921\"]], \"type\": \"histogram2dcontour\"}], \"mesh3d\": [{\"colorbar\": {\"outlinewidth\": 0, \"ticks\": \"\"}, \"type\": \"mesh3d\"}], \"parcoords\": [{\"line\": {\"colorbar\": {\"outlinewidth\": 0, \"ticks\": \"\"}}, \"type\": \"parcoords\"}], \"pie\": [{\"automargin\": true, \"type\": \"pie\"}], \"scatter\": [{\"marker\": {\"colorbar\": {\"outlinewidth\": 0, \"ticks\": \"\"}}, \"type\": \"scatter\"}], \"scatter3d\": [{\"line\": {\"colorbar\": {\"outlinewidth\": 0, \"ticks\": \"\"}}, \"marker\": {\"colorbar\": {\"outlinewidth\": 0, \"ticks\": \"\"}}, \"type\": \"scatter3d\"}], \"scattercarpet\": [{\"marker\": {\"colorbar\": {\"outlinewidth\": 0, \"ticks\": \"\"}}, \"type\": \"scattercarpet\"}], \"scattergeo\": [{\"marker\": {\"colorbar\": {\"outlinewidth\": 0, \"ticks\": \"\"}}, \"type\": \"scattergeo\"}], \"scattergl\": [{\"marker\": {\"colorbar\": {\"outlinewidth\": 0, \"ticks\": \"\"}}, \"type\": \"scattergl\"}], \"scattermapbox\": [{\"marker\": {\"colorbar\": {\"outlinewidth\": 0, \"ticks\": \"\"}}, \"type\": \"scattermapbox\"}], \"scatterpolar\": [{\"marker\": {\"colorbar\": {\"outlinewidth\": 0, \"ticks\": \"\"}}, \"type\": \"scatterpolar\"}], \"scatterpolargl\": [{\"marker\": {\"colorbar\": {\"outlinewidth\": 0, \"ticks\": \"\"}}, \"type\": \"scatterpolargl\"}], \"scatterternary\": [{\"marker\": {\"colorbar\": {\"outlinewidth\": 0, \"ticks\": \"\"}}, \"type\": \"scatterternary\"}], \"surface\": [{\"colorbar\": {\"outlinewidth\": 0, \"ticks\": \"\"}, \"colorscale\": [[0.0, \"#0d0887\"], [0.1111111111111111, \"#46039f\"], [0.2222222222222222, \"#7201a8\"], [0.3333333333333333, \"#9c179e\"], [0.4444444444444444, \"#bd3786\"], [0.5555555555555556, \"#d8576b\"], [0.6666666666666666, \"#ed7953\"], [0.7777777777777778, \"#fb9f3a\"], [0.8888888888888888, \"#fdca26\"], [1.0, \"#f0f921\"]], \"type\": \"surface\"}], \"table\": [{\"cells\": {\"fill\": {\"color\": \"#EBF0F8\"}, \"line\": {\"color\": \"white\"}}, \"header\": {\"fill\": {\"color\": \"#C8D4E3\"}, \"line\": {\"color\": \"white\"}}, \"type\": \"table\"}]}, \"layout\": {\"annotationdefaults\": {\"arrowcolor\": \"#2a3f5f\", \"arrowhead\": 0, \"arrowwidth\": 1}, \"autotypenumbers\": \"strict\", \"coloraxis\": {\"colorbar\": {\"outlinewidth\": 0, \"ticks\": \"\"}}, \"colorscale\": {\"diverging\": [[0, \"#8e0152\"], [0.1, \"#c51b7d\"], [0.2, \"#de77ae\"], [0.3, \"#f1b6da\"], [0.4, \"#fde0ef\"], [0.5, \"#f7f7f7\"], [0.6, \"#e6f5d0\"], [0.7, \"#b8e186\"], [0.8, \"#7fbc41\"], [0.9, \"#4d9221\"], [1, \"#276419\"]], \"sequential\": [[0.0, \"#0d0887\"], [0.1111111111111111, \"#46039f\"], [0.2222222222222222, \"#7201a8\"], [0.3333333333333333, \"#9c179e\"], [0.4444444444444444, \"#bd3786\"], [0.5555555555555556, \"#d8576b\"], [0.6666666666666666, \"#ed7953\"], [0.7777777777777778, \"#fb9f3a\"], [0.8888888888888888, \"#fdca26\"], [1.0, \"#f0f921\"]], \"sequentialminus\": [[0.0, \"#0d0887\"], [0.1111111111111111, \"#46039f\"], [0.2222222222222222, \"#7201a8\"], [0.3333333333333333, \"#9c179e\"], [0.4444444444444444, \"#bd3786\"], [0.5555555555555556, \"#d8576b\"], [0.6666666666666666, \"#ed7953\"], [0.7777777777777778, \"#fb9f3a\"], [0.8888888888888888, \"#fdca26\"], [1.0, \"#f0f921\"]]}, \"colorway\": [\"#636efa\", \"#EF553B\", \"#00cc96\", \"#ab63fa\", \"#FFA15A\", \"#19d3f3\", \"#FF6692\", \"#B6E880\", \"#FF97FF\", \"#FECB52\"], \"font\": {\"color\": \"#2a3f5f\"}, \"geo\": {\"bgcolor\": \"white\", \"lakecolor\": \"white\", \"landcolor\": \"#E5ECF6\", \"showlakes\": true, \"showland\": true, \"subunitcolor\": \"white\"}, \"hoverlabel\": {\"align\": \"left\"}, \"hovermode\": \"closest\", \"mapbox\": {\"style\": \"light\"}, \"paper_bgcolor\": \"white\", \"plot_bgcolor\": \"#E5ECF6\", \"polar\": {\"angularaxis\": {\"gridcolor\": \"white\", \"linecolor\": \"white\", \"ticks\": \"\"}, \"bgcolor\": \"#E5ECF6\", \"radialaxis\": {\"gridcolor\": \"white\", \"linecolor\": \"white\", \"ticks\": \"\"}}, \"scene\": {\"xaxis\": {\"backgroundcolor\": \"#E5ECF6\", \"gridcolor\": \"white\", \"gridwidth\": 2, \"linecolor\": \"white\", \"showbackground\": true, \"ticks\": \"\", \"zerolinecolor\": \"white\"}, \"yaxis\": {\"backgroundcolor\": \"#E5ECF6\", \"gridcolor\": \"white\", \"gridwidth\": 2, \"linecolor\": \"white\", \"showbackground\": true, \"ticks\": \"\", \"zerolinecolor\": \"white\"}, \"zaxis\": {\"backgroundcolor\": \"#E5ECF6\", \"gridcolor\": \"white\", \"gridwidth\": 2, \"linecolor\": \"white\", \"showbackground\": true, \"ticks\": \"\", \"zerolinecolor\": \"white\"}}, \"shapedefaults\": {\"line\": {\"color\": \"#2a3f5f\"}}, \"ternary\": {\"aaxis\": {\"gridcolor\": \"white\", \"linecolor\": \"white\", \"ticks\": \"\"}, \"baxis\": {\"gridcolor\": \"white\", \"linecolor\": \"white\", \"ticks\": \"\"}, \"bgcolor\": \"#E5ECF6\", \"caxis\": {\"gridcolor\": \"white\", \"linecolor\": \"white\", \"ticks\": \"\"}}, \"title\": {\"x\": 0.05}, \"xaxis\": {\"automargin\": true, \"gridcolor\": \"white\", \"linecolor\": \"white\", \"ticks\": \"\", \"title\": {\"standoff\": 15}, \"zerolinecolor\": \"white\", \"zerolinewidth\": 2}, \"yaxis\": {\"automargin\": true, \"gridcolor\": \"white\", \"linecolor\": \"white\", \"ticks\": \"\", \"title\": {\"standoff\": 15}, \"zerolinecolor\": \"white\", \"zerolinewidth\": 2}}}},                        {\"responsive\": true}                    ).then(function(){\n",
       "                            \n",
       "var gd = document.getElementById('0050bb89-54db-48ee-a29f-114ae60f7972');\n",
       "var x = new MutationObserver(function (mutations, observer) {{\n",
       "        var display = window.getComputedStyle(gd).display;\n",
       "        if (!display || display === 'none') {{\n",
       "            console.log([gd, 'removed!']);\n",
       "            Plotly.purge(gd);\n",
       "            observer.disconnect();\n",
       "        }}\n",
       "}});\n",
       "\n",
       "// Listen for the removal of the full notebook cells\n",
       "var notebookContainer = gd.closest('#notebook-container');\n",
       "if (notebookContainer) {{\n",
       "    x.observe(notebookContainer, {childList: true});\n",
       "}}\n",
       "\n",
       "// Listen for the clearing of the current output cell\n",
       "var outputEl = gd.closest('.output');\n",
       "if (outputEl) {{\n",
       "    x.observe(outputEl, {childList: true});\n",
       "}}\n",
       "\n",
       "                        })                };                });            </script>        </div>"
      ]
     },
     "metadata": {},
     "output_type": "display_data"
    }
   ],
   "source": [
    "import plotly.express as px\n",
    "\n",
    "fig = px.scatter_mapbox(df_receita, lat=\"lat\", lon=\"lng\", hover_name=\"Cod_estado\", hover_data=[\"Cod_estado\"], \n",
    "                        color=\"Receita bruta estimada\", size=\"Receita bruta estimada\", \n",
    "                        color_continuous_scale=px.colors.sequential.Rainbow, size_max=60,\n",
    "                        zoom=5, height=1000, mapbox_style=\"open-street-map\")\n",
    "fig.update_layout(margin={\"b\":0,\"l\":0,\"t\":0,\"r\":0})\n",
    "\n",
    "fig.show()"
   ]
  },
  {
   "cell_type": "markdown",
   "metadata": {
    "colab_type": "text",
    "id": "DE2ttX6u2y3T"
   },
   "source": [
    "# *Tratamento dos dados em formato de datatimes*"
   ]
  },
  {
   "cell_type": "code",
   "execution_count": 335,
   "metadata": {
    "colab": {
     "base_uri": "https://localhost:8080/",
     "height": 204
    },
    "colab_type": "code",
    "id": "Snx-Nlsk-km6",
    "outputId": "28172319-cf10-42fc-af9e-7eb50c3f8f44"
   },
   "outputs": [
    {
     "data": {
      "text/html": [
       "<div>\n",
       "<style scoped>\n",
       "    .dataframe tbody tr th:only-of-type {\n",
       "        vertical-align: middle;\n",
       "    }\n",
       "\n",
       "    .dataframe tbody tr th {\n",
       "        vertical-align: top;\n",
       "    }\n",
       "\n",
       "    .dataframe thead th {\n",
       "        text-align: right;\n",
       "    }\n",
       "</style>\n",
       "<table border=\"1\" class=\"dataframe\">\n",
       "  <thead>\n",
       "    <tr style=\"text-align: right;\">\n",
       "      <th></th>\n",
       "      <th>Status</th>\n",
       "      <th>Check-in</th>\n",
       "      <th>Check-out</th>\n",
       "      <th>Reservado</th>\n",
       "      <th>Receita bruta estimada</th>\n",
       "      <th>Mes_reserva</th>\n",
       "    </tr>\n",
       "  </thead>\n",
       "  <tbody>\n",
       "    <tr>\n",
       "      <th>0</th>\n",
       "      <td>Confirmada</td>\n",
       "      <td>2019-03-10</td>\n",
       "      <td>2019-03-18</td>\n",
       "      <td>2019-02-04</td>\n",
       "      <td>165.50625</td>\n",
       "      <td>2</td>\n",
       "    </tr>\n",
       "    <tr>\n",
       "      <th>1</th>\n",
       "      <td>Confirmada</td>\n",
       "      <td>2019-03-01</td>\n",
       "      <td>2019-03-16</td>\n",
       "      <td>2019-02-04</td>\n",
       "      <td>382.06875</td>\n",
       "      <td>2</td>\n",
       "    </tr>\n",
       "    <tr>\n",
       "      <th>2</th>\n",
       "      <td>Confirmada</td>\n",
       "      <td>2019-04-05</td>\n",
       "      <td>2019-04-08</td>\n",
       "      <td>2019-02-04</td>\n",
       "      <td>85.85850</td>\n",
       "      <td>2</td>\n",
       "    </tr>\n",
       "    <tr>\n",
       "      <th>3</th>\n",
       "      <td>Confirmada</td>\n",
       "      <td>2019-03-01</td>\n",
       "      <td>2019-03-06</td>\n",
       "      <td>2019-02-04</td>\n",
       "      <td>118.65525</td>\n",
       "      <td>2</td>\n",
       "    </tr>\n",
       "    <tr>\n",
       "      <th>4</th>\n",
       "      <td>Confirmada</td>\n",
       "      <td>2019-04-03</td>\n",
       "      <td>2019-04-07</td>\n",
       "      <td>2019-02-05</td>\n",
       "      <td>108.47025</td>\n",
       "      <td>2</td>\n",
       "    </tr>\n",
       "  </tbody>\n",
       "</table>\n",
       "</div>"
      ],
      "text/plain": [
       "       Status   Check-in  Check-out  Reservado  Receita bruta estimada  \\\n",
       "0  Confirmada 2019-03-10 2019-03-18 2019-02-04               165.50625   \n",
       "1  Confirmada 2019-03-01 2019-03-16 2019-02-04               382.06875   \n",
       "2  Confirmada 2019-04-05 2019-04-08 2019-02-04                85.85850   \n",
       "3  Confirmada 2019-03-01 2019-03-06 2019-02-04               118.65525   \n",
       "4  Confirmada 2019-04-03 2019-04-07 2019-02-05               108.47025   \n",
       "\n",
       "   Mes_reserva  \n",
       "0            2  \n",
       "1            2  \n",
       "2            2  \n",
       "3            2  \n",
       "4            2  "
      ]
     },
     "execution_count": 335,
     "metadata": {},
     "output_type": "execute_result"
    }
   ],
   "source": [
    "df = dados.drop(columns=['Fonte_consolidada','Nº de pessoas','Nº de quartos','Cod_pais','Cod_estado'])\n",
    "df.head(5)"
   ]
  },
  {
   "cell_type": "code",
   "execution_count": 336,
   "metadata": {},
   "outputs": [],
   "source": [
    "df['Mes_ChechIn']   = df['Check-in'].dt.month \n",
    "df['Estadia'] = (df['Check-out']-df['Check-in']).dt.days"
   ]
  },
  {
   "cell_type": "code",
   "execution_count": 337,
   "metadata": {},
   "outputs": [
    {
     "data": {
      "text/html": [
       "<div>\n",
       "<style scoped>\n",
       "    .dataframe tbody tr th:only-of-type {\n",
       "        vertical-align: middle;\n",
       "    }\n",
       "\n",
       "    .dataframe tbody tr th {\n",
       "        vertical-align: top;\n",
       "    }\n",
       "\n",
       "    .dataframe thead th {\n",
       "        text-align: right;\n",
       "    }\n",
       "</style>\n",
       "<table border=\"1\" class=\"dataframe\">\n",
       "  <thead>\n",
       "    <tr style=\"text-align: right;\">\n",
       "      <th></th>\n",
       "      <th>Status</th>\n",
       "      <th>Check-in</th>\n",
       "      <th>Check-out</th>\n",
       "      <th>Reservado</th>\n",
       "      <th>Receita bruta estimada</th>\n",
       "      <th>Mes_reserva</th>\n",
       "      <th>Mes_ChechIn</th>\n",
       "      <th>Estadia</th>\n",
       "    </tr>\n",
       "  </thead>\n",
       "  <tbody>\n",
       "    <tr>\n",
       "      <th>0</th>\n",
       "      <td>Confirmada</td>\n",
       "      <td>2019-03</td>\n",
       "      <td>2019-03</td>\n",
       "      <td>2019-02</td>\n",
       "      <td>165.50625</td>\n",
       "      <td>2</td>\n",
       "      <td>3</td>\n",
       "      <td>8</td>\n",
       "    </tr>\n",
       "    <tr>\n",
       "      <th>1</th>\n",
       "      <td>Confirmada</td>\n",
       "      <td>2019-03</td>\n",
       "      <td>2019-03</td>\n",
       "      <td>2019-02</td>\n",
       "      <td>382.06875</td>\n",
       "      <td>2</td>\n",
       "      <td>3</td>\n",
       "      <td>15</td>\n",
       "    </tr>\n",
       "    <tr>\n",
       "      <th>2</th>\n",
       "      <td>Confirmada</td>\n",
       "      <td>2019-04</td>\n",
       "      <td>2019-04</td>\n",
       "      <td>2019-02</td>\n",
       "      <td>85.85850</td>\n",
       "      <td>2</td>\n",
       "      <td>4</td>\n",
       "      <td>3</td>\n",
       "    </tr>\n",
       "    <tr>\n",
       "      <th>3</th>\n",
       "      <td>Confirmada</td>\n",
       "      <td>2019-03</td>\n",
       "      <td>2019-03</td>\n",
       "      <td>2019-02</td>\n",
       "      <td>118.65525</td>\n",
       "      <td>2</td>\n",
       "      <td>3</td>\n",
       "      <td>5</td>\n",
       "    </tr>\n",
       "    <tr>\n",
       "      <th>4</th>\n",
       "      <td>Confirmada</td>\n",
       "      <td>2019-04</td>\n",
       "      <td>2019-04</td>\n",
       "      <td>2019-02</td>\n",
       "      <td>108.47025</td>\n",
       "      <td>2</td>\n",
       "      <td>4</td>\n",
       "      <td>4</td>\n",
       "    </tr>\n",
       "  </tbody>\n",
       "</table>\n",
       "</div>"
      ],
      "text/plain": [
       "       Status Check-in Check-out Reservado  Receita bruta estimada  \\\n",
       "0  Confirmada  2019-03   2019-03   2019-02               165.50625   \n",
       "1  Confirmada  2019-03   2019-03   2019-02               382.06875   \n",
       "2  Confirmada  2019-04   2019-04   2019-02                85.85850   \n",
       "3  Confirmada  2019-03   2019-03   2019-02               118.65525   \n",
       "4  Confirmada  2019-04   2019-04   2019-02               108.47025   \n",
       "\n",
       "   Mes_reserva  Mes_ChechIn  Estadia  \n",
       "0            2            3        8  \n",
       "1            2            3       15  \n",
       "2            2            4        3  \n",
       "3            2            3        5  \n",
       "4            2            4        4  "
      ]
     },
     "execution_count": 337,
     "metadata": {},
     "output_type": "execute_result"
    }
   ],
   "source": [
    "df['Check-in'] = df['Check-in'].dt.strftime('%Y-%m')\n",
    "df['Check-out']= df['Check-out'].dt.strftime('%Y-%m')\n",
    "df['Reservado']= df['Reservado'].dt.strftime('%Y-%m')\n",
    "df.head()"
   ]
  },
  {
   "cell_type": "markdown",
   "metadata": {
    "colab_type": "text",
    "id": "y70I-jxPHx3l"
   },
   "source": [
    "Podemos inferir que há uma tendência crescente na série, ou seja, o número de contagem está aumentando em relação ao tempo. \n",
    "\n",
    "Além disso é possível notar um crescimento números de reservas feitas a partir do mês 06. \n",
    "\n",
    "**Uma hipótese que podemos sustentar é:** No segundo semestre  diversos setores entram em férias. E, portanto, nesse período as reservas são iniciadas a fim de aproveitar melhores os preços, sem ter a preocupação da alta procura dos períodos seguintes.\n"
   ]
  },
  {
   "cell_type": "markdown",
   "metadata": {},
   "source": [
    "* **Vamos excluir do conjunto de dados os valores do mês 12.**  \n",
    "\n",
    "*Para isto, adicionaremos valores nan sobre o número 12 e em seguida droparemos o conjunto de dados.*  "
   ]
  },
  {
   "cell_type": "code",
   "execution_count": 338,
   "metadata": {},
   "outputs": [],
   "source": [
    "df['Mes_ChechIn'].replace({12:np.nan}, inplace=True) \n",
    "df.dropna(inplace=True)"
   ]
  },
  {
   "cell_type": "markdown",
   "metadata": {},
   "source": [
    "* ### Vamos visualizar os volumes reservado e Check-in mensais"
   ]
  },
  {
   "cell_type": "code",
   "execution_count": 339,
   "metadata": {
    "colab": {
     "base_uri": "https://localhost:8080/",
     "height": 394
    },
    "colab_type": "code",
    "id": "GHdYBM0JIvZA",
    "outputId": "74f566d8-ef29-448f-8068-355b79e69dd9"
   },
   "outputs": [
    {
     "name": "stderr",
     "output_type": "stream",
     "text": [
      "C:\\Users\\Administrador\\Anaconda3\\lib\\site-packages\\pandas\\plotting\\_matplotlib\\core.py:1192: UserWarning:\n",
      "\n",
      "FixedFormatter should only be used together with FixedLocator\n",
      "\n"
     ]
    },
    {
     "data": {
      "image/png": "[encoded data removed]",
      "text/plain": [
       "<Figure size 720x576 with 2 Axes>"
      ]
     },
     "metadata": {},
     "output_type": "display_data"
    },
    {
     "name": "stderr",
     "output_type": "stream",
     "text": [
      "C:\\Users\\Administrador\\Anaconda3\\lib\\site-packages\\pandas\\plotting\\_matplotlib\\core.py:1192: UserWarning:\n",
      "\n",
      "FixedFormatter should only be used together with FixedLocator\n",
      "\n"
     ]
    },
    {
     "data": {
      "image/png": "[encoded data removed]",
      "text/plain": [
       "<Figure size 720x576 with 2 Axes>"
      ]
     },
     "metadata": {},
     "output_type": "display_data"
    }
   ],
   "source": [
    "plt.figure(figsize=(10, 8));\n",
    "plt.subplot(221)\n",
    "df['Reservado'].value_counts().sort_index().plot(kind='bar',color='b',legend=True);\n",
    "plt.subplot(222)\n",
    "df['Reservado'].value_counts().sort_index().plot(legend=True);\n",
    "plt.show()\n",
    "plt.figure(figsize=(10, 8));\n",
    "plt.subplot(221)\n",
    "df['Check-in'].value_counts().sort_index().plot(kind='bar',color='b',legend=True);\n",
    "plt.subplot(222)\n",
    "df['Check-in'].value_counts().sort_index().plot(legend=True);\n",
    "plt.show()"
   ]
  },
  {
   "cell_type": "markdown",
   "metadata": {},
   "source": [
    "* ### Vamos excluir do conjunto de dados as reservas com Status Cancelado\n",
    "\n",
    " *Já vimos acima que correspondem 14.3% dos dados em geral* \n",
    " \n",
    "*A decisão desta exclusão se deve principalmente ao fato de não termos  que se preocuparmos com a taxa de cancelamento depois da previsão.*\n",
    "\n"
   ]
  },
  {
   "cell_type": "code",
   "execution_count": 340,
   "metadata": {},
   "outputs": [],
   "source": [
    "df = df[df['Status']=='Confirmada']"
   ]
  },
  {
   "cell_type": "markdown",
   "metadata": {
    "colab_type": "text",
    "id": "CK5Nh4rwczJw"
   },
   "source": [
    "##### Agora, vamos guardar o volume reservado de cada mês para fazermos a previsão para os próximos 2 meses"
   ]
  },
  {
   "cell_type": "code",
   "execution_count": 341,
   "metadata": {
    "colab": {
     "base_uri": "https://localhost:8080/",
     "height": 378
    },
    "colab_type": "code",
    "id": "6bPrCyKj6vDR",
    "outputId": "fbe52b4e-58b2-43f8-973d-c00661477dc2"
   },
   "outputs": [],
   "source": [
    "cont = df['Reservado'].value_counts().sort_index()\n",
    "df_cont = pd.DataFrame(cont)\n",
    "df_cont.columns = ['Count'];"
   ]
  },
  {
   "cell_type": "markdown",
   "metadata": {},
   "source": [
    "## Aplicando alguns modelos \n",
    "\n",
    "Os modelos que serão utilizados para a previsão são:\n",
    "\n",
    "* **Regressão Linear**\n",
    "* **Média Móvel**\n",
    "* **ARMA**\n",
    "* **ARIMA**"
   ]
  },
  {
   "cell_type": "markdown",
   "metadata": {
    "colab_type": "text",
    "id": "A8hUspv76vva"
   },
   "source": [
    "* **Regressão Linear** "
   ]
  },
  {
   "cell_type": "code",
   "execution_count": 342,
   "metadata": {
    "colab": {
     "base_uri": "https://localhost:8080/",
     "height": 404
    },
    "colab_type": "code",
    "id": "LhKxFa6sPL0H",
    "outputId": "2a53b036-f9d7-46f9-ebc8-3599392e1d30"
   },
   "outputs": [
    {
     "data": {
      "text/plain": [
       "LinearRegression()"
      ]
     },
     "execution_count": 342,
     "metadata": {},
     "output_type": "execute_result"
    }
   ],
   "source": [
    "X = [i for i in range(2, len(df_cont)+2)]\n",
    "X = np.reshape(X, (len(X), 1))\n",
    "y = df_cont\n",
    "model_regression = LinearRegression()\n",
    "model_regression.fit(X, y)"
   ]
  },
  {
   "cell_type": "markdown",
   "metadata": {},
   "source": [
    "*  **Média Móvel**"
   ]
  },
  {
   "cell_type": "code",
   "execution_count": 343,
   "metadata": {},
   "outputs": [],
   "source": [
    "y_hat_avg = df_cont['Count'].rolling(2).mean()"
   ]
  },
  {
   "cell_type": "markdown",
   "metadata": {
    "colab_type": "text",
    "id": "9K4yS7YI98lC"
   },
   "source": [
    "* **Modelo ARMA**\n",
    "\n",
    "\n",
    "*Lembrando que o modelo ARMA Refere-se à **Média Móvel AutoRegressiva**: que é uma combinação da equação AR + MA para previsão, onde AR - AutoRegressão e  MA - Média Móvel.*"
   ]
  },
  {
   "cell_type": "code",
   "execution_count": 344,
   "metadata": {
    "colab": {
     "base_uri": "https://localhost:8080/",
     "height": 493
    },
    "colab_type": "code",
    "id": "REiUioxe8hE4",
    "outputId": "2ddee73e-5bc7-4af1-8102-5d23eb8c8f37"
   },
   "outputs": [
    {
     "name": "stdout",
     "output_type": "stream",
     "text": [
      "                              ARMA Model Results                              \n",
      "==============================================================================\n",
      "Dep. Variable:                  Count   No. Observations:                   10\n",
      "Model:                     ARMA(3, 0)   Log Likelihood                 -60.820\n",
      "Method:                       css-mle   S.D. of innovations             93.030\n",
      "Date:                Mon, 21 Jun 2021   AIC                            131.639\n",
      "Time:                        23:19:22   BIC                            133.152\n",
      "Sample:                    02-01-2019   HQIC                           129.980\n",
      "                         - 11-01-2019                                         \n",
      "===============================================================================\n",
      "                  coef    std err          z      P>|z|      [0.025      0.975]\n",
      "-------------------------------------------------------------------------------\n",
      "const         430.0328    107.174      4.012      0.000     219.975     640.090\n",
      "ar.L1.Count     0.9687      0.227      4.260      0.000       0.523       1.414\n",
      "ar.L2.Count     0.2836      0.359      0.789      0.430      -0.421       0.988\n",
      "ar.L3.Count    -0.5362      0.255     -2.107      0.035      -1.035      -0.037\n",
      "                                    Roots                                    \n",
      "=============================================================================\n",
      "                  Real          Imaginary           Modulus         Frequency\n",
      "-----------------------------------------------------------------------------\n",
      "AR.1           -1.5015           -0.0000j            1.5015           -0.5000\n",
      "AR.2            1.0152           -0.4599j            1.1145           -0.0677\n",
      "AR.3            1.0152           +0.4599j            1.1145            0.0677\n",
      "-----------------------------------------------------------------------------\n"
     ]
    },
    {
     "name": "stderr",
     "output_type": "stream",
     "text": [
      "C:\\Users\\Administrador\\Anaconda3\\lib\\site-packages\\statsmodels\\tsa\\arima_model.py:472: FutureWarning:\n",
      "\n",
      "\n",
      "statsmodels.tsa.arima_model.ARMA and statsmodels.tsa.arima_model.ARIMA have\n",
      "been deprecated in favor of statsmodels.tsa.arima.model.ARIMA (note the .\n",
      "between arima and model) and\n",
      "statsmodels.tsa.SARIMAX. These will be removed after the 0.12 release.\n",
      "\n",
      "statsmodels.tsa.arima.model.ARIMA makes use of the statespace framework and\n",
      "is both well tested and maintained.\n",
      "\n",
      "To silence this warning and continue using ARMA and ARIMA until they are\n",
      "removed, use:\n",
      "\n",
      "import warnings\n",
      "warnings.filterwarnings('ignore', 'statsmodels.tsa.arima_model.ARMA',\n",
      "                        FutureWarning)\n",
      "warnings.filterwarnings('ignore', 'statsmodels.tsa.arima_model.ARIMA',\n",
      "                        FutureWarning)\n",
      "\n",
      "\n",
      "C:\\Users\\Administrador\\Anaconda3\\lib\\site-packages\\statsmodels\\tsa\\base\\tsa_model.py:527: ValueWarning:\n",
      "\n",
      "No frequency information was provided, so inferred frequency MS will be used.\n",
      "\n"
     ]
    }
   ],
   "source": [
    "model_ARMA = sm.tsa.ARMA(df_cont, (3,0)).fit(disp=False);\n",
    "#Estatistica do modelo\n",
    "print(model_ARMA.summary());"
   ]
  },
  {
   "cell_type": "markdown",
   "metadata": {},
   "source": [
    "* **Modelo ARIMA**\n",
    "\n",
    "*Lembrando que o modelo ARIMA: É a **Média Móvel Integrada AutoRegressiva** .*\n",
    "\n",
    "\n",
    "Além disso: o modelo depende de três variáveis-chave order=(p, d, q), onde:\n",
    "* p = número de defasagens / ordem dos termos de RA\n",
    "* d = ordem de diferenciação\n",
    "* q = número de erros de previsão atrasados ​​/ ordem dos termos de MA"
   ]
  },
  {
   "cell_type": "markdown",
   "metadata": {},
   "source": [
    "Agora, vamos usar o teste Augmented Dickey Fuller (ADF) ao nível de significância de 5% para verificar se as séries temporais estão estacionárias:"
   ]
  },
  {
   "cell_type": "code",
   "execution_count": 345,
   "metadata": {},
   "outputs": [
    {
     "name": "stdout",
     "output_type": "stream",
     "text": [
      "p-value: 0.0\n"
     ]
    }
   ],
   "source": [
    "print(\"p-value:\", adfuller(df_cont['Count'])[1])"
   ]
  },
  {
   "cell_type": "markdown",
   "metadata": {},
   "source": [
    "O p-valor é maior que o nível de significância 0,05, portanto, não é estacionário e a diferenciação é, como tal, necessária, ie. d > 0."
   ]
  },
  {
   "cell_type": "markdown",
   "metadata": {},
   "source": [
    "Agora vamos descobrir a ordem da diferenciação, d , usando a correlação automática:"
   ]
  },
  {
   "cell_type": "code",
   "execution_count": 346,
   "metadata": {
    "scrolled": true
   },
   "outputs": [
    {
     "name": "stdout",
     "output_type": "stream",
     "text": [
      "Fit ARIMA: order=(0, 0, 0); AIC=142.471, BIC=143.076, Fit time=0.004 seconds\n",
      "Fit ARIMA: order=(1, 0, 0); AIC=131.371, BIC=132.279, Fit time=0.098 seconds\n",
      "Fit ARIMA: order=(0, 0, 1); AIC=137.845, BIC=138.753, Fit time=0.014 seconds\n",
      "Fit ARIMA: order=(2, 0, 0); AIC=132.762, BIC=133.972, Fit time=0.111 seconds\n",
      "Fit ARIMA: order=(1, 0, 1); AIC=nan, BIC=nan, Fit time=nan seconds\n",
      "Fit ARIMA: order=(2, 0, 1); AIC=nan, BIC=nan, Fit time=nan seconds\n",
      "Total fit time: 0.236 seconds\n"
     ]
    },
    {
     "data": {
      "text/html": [
       "<table class=\"simpletable\">\n",
       "<caption>ARMA Model Results</caption>\n",
       "<tr>\n",
       "  <th>Dep. Variable:</th>         <td>y</td>        <th>  No. Observations:  </th>   <td>10</td>   \n",
       "</tr>\n",
       "<tr>\n",
       "  <th>Model:</th>            <td>ARMA(1, 0)</td>    <th>  Log Likelihood     </th> <td>-62.685</td>\n",
       "</tr>\n",
       "<tr>\n",
       "  <th>Method:</th>             <td>css-mle</td>     <th>  S.D. of innovations</th> <td>117.529</td>\n",
       "</tr>\n",
       "<tr>\n",
       "  <th>Date:</th>          <td>Mon, 21 Jun 2021</td> <th>  AIC                </th> <td>131.371</td>\n",
       "</tr>\n",
       "<tr>\n",
       "  <th>Time:</th>              <td>23:19:24</td>     <th>  BIC                </th> <td>132.279</td>\n",
       "</tr>\n",
       "<tr>\n",
       "  <th>Sample:</th>                <td>0</td>        <th>  HQIC               </th> <td>130.375</td>\n",
       "</tr>\n",
       "<tr>\n",
       "  <th></th>                       <td> </td>        <th>                     </th>    <td> </td>   \n",
       "</tr>\n",
       "</table>\n",
       "<table class=\"simpletable\">\n",
       "<tr>\n",
       "     <td></td>        <th>coef</th>     <th>std err</th>      <th>z</th>      <th>P>|z|</th>  <th>[0.025</th>    <th>0.975]</th>  \n",
       "</tr>\n",
       "<tr>\n",
       "  <th>const</th>   <td>  402.6800</td> <td>  222.020</td> <td>    1.814</td> <td> 0.070</td> <td>  -32.471</td> <td>  837.831</td>\n",
       "</tr>\n",
       "<tr>\n",
       "  <th>ar.L1.y</th> <td>    0.8997</td> <td>    0.114</td> <td>    7.893</td> <td> 0.000</td> <td>    0.676</td> <td>    1.123</td>\n",
       "</tr>\n",
       "</table>\n",
       "<table class=\"simpletable\">\n",
       "<caption>Roots</caption>\n",
       "<tr>\n",
       "    <td></td>   <th>            Real</th>  <th>         Imaginary</th> <th>         Modulus</th>  <th>        Frequency</th>\n",
       "</tr>\n",
       "<tr>\n",
       "  <th>AR.1</th> <td>           1.1114</td> <td>          +0.0000j</td> <td>           1.1114</td> <td>           0.0000</td>\n",
       "</tr>\n",
       "</table>"
      ],
      "text/plain": [
       "<class 'statsmodels.iolib.summary.Summary'>\n",
       "\"\"\"\n",
       "                              ARMA Model Results                              \n",
       "==============================================================================\n",
       "Dep. Variable:                      y   No. Observations:                   10\n",
       "Model:                     ARMA(1, 0)   Log Likelihood                 -62.685\n",
       "Method:                       css-mle   S.D. of innovations            117.529\n",
       "Date:                Mon, 21 Jun 2021   AIC                            131.371\n",
       "Time:                        23:19:24   BIC                            132.279\n",
       "Sample:                             0   HQIC                           130.375\n",
       "                                                                              \n",
       "==============================================================================\n",
       "                 coef    std err          z      P>|z|      [0.025      0.975]\n",
       "------------------------------------------------------------------------------\n",
       "const        402.6800    222.020      1.814      0.070     -32.471     837.831\n",
       "ar.L1.y        0.8997      0.114      7.893      0.000       0.676       1.123\n",
       "                                    Roots                                    \n",
       "=============================================================================\n",
       "                  Real          Imaginary           Modulus         Frequency\n",
       "-----------------------------------------------------------------------------\n",
       "AR.1            1.1114           +0.0000j            1.1114            0.0000\n",
       "-----------------------------------------------------------------------------\n",
       "\"\"\""
      ]
     },
     "execution_count": 346,
     "metadata": {},
     "output_type": "execute_result"
    }
   ],
   "source": [
    "model = auto_arima(df_cont['Count'], start_p=0, start_q=0,\n",
    "                          max_p=2, max_q=2, m=4,\n",
    "                          seasonal=False,\n",
    "                          d=None, trace=True,\n",
    "                          error_action='ignore',   # não queremos saber se um pedido não funciona\n",
    "                          suppress_warnings=True,  # não queremos avisos de convergência\n",
    "                          stepwise=True)           # definido como passo a passo\n",
    "\n",
    "model.summary()"
   ]
  },
  {
   "cell_type": "markdown",
   "metadata": {},
   "source": [
    "Order = (1,0,0) \n",
    "\n",
    "* p = 1 -  número de defasagens / ordem dos termos de RA\n",
    "* d = 0 -  ordem de diferenciação \n",
    "* q = 0 -  número de erros de previsão atrasados ​​/ ordem dos termos de MA\n"
   ]
  },
  {
   "cell_type": "code",
   "execution_count": 347,
   "metadata": {
    "colab": {
     "base_uri": "https://localhost:8080/",
     "height": 493
    },
    "colab_type": "code",
    "id": "kVzprwn2CtM9",
    "outputId": "b980ba85-7a93-4d33-e65f-b522fdd6b7f7"
   },
   "outputs": [
    {
     "name": "stdout",
     "output_type": "stream",
     "text": [
      "                              ARMA Model Results                              \n",
      "==============================================================================\n",
      "Dep. Variable:                  Count   No. Observations:                   10\n",
      "Model:                     ARMA(1, 0)   Log Likelihood                 -62.685\n",
      "Method:                       css-mle   S.D. of innovations            117.529\n",
      "Date:                Mon, 21 Jun 2021   AIC                            131.371\n",
      "Time:                        23:19:25   BIC                            132.279\n",
      "Sample:                    02-01-2019   HQIC                           130.375\n",
      "                         - 11-01-2019                                         \n",
      "===============================================================================\n",
      "                  coef    std err          z      P>|z|      [0.025      0.975]\n",
      "-------------------------------------------------------------------------------\n",
      "const         402.6800    222.020      1.814      0.070     -32.471     837.831\n",
      "ar.L1.Count     0.8997      0.114      7.893      0.000       0.676       1.123\n",
      "                                    Roots                                    \n",
      "=============================================================================\n",
      "                  Real          Imaginary           Modulus         Frequency\n",
      "-----------------------------------------------------------------------------\n",
      "AR.1            1.1114           +0.0000j            1.1114            0.0000\n",
      "-----------------------------------------------------------------------------\n"
     ]
    },
    {
     "name": "stderr",
     "output_type": "stream",
     "text": [
      "C:\\Users\\Administrador\\Anaconda3\\lib\\site-packages\\statsmodels\\tsa\\arima_model.py:472: FutureWarning:\n",
      "\n",
      "\n",
      "statsmodels.tsa.arima_model.ARMA and statsmodels.tsa.arima_model.ARIMA have\n",
      "been deprecated in favor of statsmodels.tsa.arima.model.ARIMA (note the .\n",
      "between arima and model) and\n",
      "statsmodels.tsa.SARIMAX. These will be removed after the 0.12 release.\n",
      "\n",
      "statsmodels.tsa.arima.model.ARIMA makes use of the statespace framework and\n",
      "is both well tested and maintained.\n",
      "\n",
      "To silence this warning and continue using ARMA and ARIMA until they are\n",
      "removed, use:\n",
      "\n",
      "import warnings\n",
      "warnings.filterwarnings('ignore', 'statsmodels.tsa.arima_model.ARMA',\n",
      "                        FutureWarning)\n",
      "warnings.filterwarnings('ignore', 'statsmodels.tsa.arima_model.ARIMA',\n",
      "                        FutureWarning)\n",
      "\n",
      "\n",
      "C:\\Users\\Administrador\\Anaconda3\\lib\\site-packages\\statsmodels\\tsa\\base\\tsa_model.py:527: ValueWarning:\n",
      "\n",
      "No frequency information was provided, so inferred frequency MS will be used.\n",
      "\n"
     ]
    }
   ],
   "source": [
    "model_ARIMA = ARIMA(df_cont, order=(1, 0, 0)).fit();\n",
    "print(model_ARIMA.summary());"
   ]
  },
  {
   "cell_type": "markdown",
   "metadata": {},
   "source": [
    "* **Calculando RMSE (Root Mean Squared Error) de cada modelo**"
   ]
  },
  {
   "cell_type": "code",
   "execution_count": 348,
   "metadata": {},
   "outputs": [
    {
     "name": "stdout",
     "output_type": "stream",
     "text": [
      "\n",
      "Root Mean Squared Error\n",
      "RMSE Regressão Linear: 85.63057369605292\n",
      "RMSE Média Móvel: 59.96573095434499\n",
      "RMSE ARMA: 134.51584285544783\n",
      "RMSE ARIMA: 146.37942205615806\n"
     ]
    }
   ],
   "source": [
    "print('\\nRoot Mean Squared Error')\n",
    "print('RMSE Regressão Linear:', sqrt(mean_squared_error(df_cont,model_regression.predict(X))))\n",
    "print('RMSE Média Móvel:', sqrt(mean_squared_error(df_cont.iloc[1:,],y_hat_avg[1:])))\n",
    "print('RMSE ARMA:', sqrt(mean_squared_error(df_cont, model_ARMA.predict())))\n",
    "print('RMSE ARIMA:',sqrt(mean_squared_error(df_cont.iloc[:,:], model_ARIMA.predict(typ = 'levels'))))"
   ]
  },
  {
   "cell_type": "markdown",
   "metadata": {
    "colab": {
     "base_uri": "https://localhost:8080/",
     "height": 608
    },
    "colab_type": "code",
    "id": "VZWyEqlZEEqx",
    "outputId": "e37b4862-c84c-45f7-d77e-fa5d47bb0ffb"
   },
   "source": [
    "* **Visualizando cada modelo**"
   ]
  },
  {
   "cell_type": "code",
   "execution_count": 349,
   "metadata": {},
   "outputs": [
    {
     "data": {
      "image/png": "[encoded data removed]",
      "text/plain": [
       "<Figure size 576x432 with 1 Axes>"
      ]
     },
     "metadata": {},
     "output_type": "display_data"
    },
    {
     "data": {
      "image/png": "[encoded data removed]",
      "text/plain": [
       "<Figure size 576x432 with 1 Axes>"
      ]
     },
     "metadata": {},
     "output_type": "display_data"
    },
    {
     "data": {
      "image/png": "[encoded data removed]",
      "text/plain": [
       "<Figure size 576x432 with 1 Axes>"
      ]
     },
     "metadata": {},
     "output_type": "display_data"
    },
    {
     "data": {
      "image/png": "[encoded data removed]",
      "text/plain": [
       "<Figure size 576x432 with 1 Axes>"
      ]
     },
     "metadata": {},
     "output_type": "display_data"
    }
   ],
   "source": [
    "#Regressão Linear\n",
    "fig, ax = plt.subplots(figsize=(8,6))\n",
    "plt.plot(model_regression.predict(X), label='Linear Regression' )\n",
    "plt.plot(df_cont.values,label='Count')\n",
    "plt.plot([9,10,11],[int(model_regression.predict(np.array([11]).reshape(-1,1))),int(model_regression.predict(np.array([12]).reshape(-1,1))),\n",
    "                 int(model_regression.predict(np.array([13]).reshape(-1,1)))],label='forecast')\n",
    "#plt.title('Regressão do Periodo por Count')\n",
    "plt.xlabel('Periodo')\n",
    "plt.ylabel('Count')\n",
    "plt.legend()\n",
    "plt.show()\n",
    "#Média móvel\n",
    "plt.figure(figsize=(8,6)) \n",
    "plt.plot(y_hat_avg, label='Média Móvel')\n",
    "plt.plot(df_cont['Count'], label='Count') \n",
    "plt.plot(['2019-11','2019-12','2020-01'],[int(y_hat_avg[-1]),int(y_hat_avg[-1]),int((y_hat_avg[-2]+y_hat_avg[-1])/2)],label='forecast')\n",
    "\n",
    "plt.ylabel('Count')\n",
    "plt.xlabel('Periodo')\n",
    "plt.legend()\n",
    "plt.show()\n",
    "#ARMA\n",
    "fig, ax = plt.subplots(figsize=(8,6))\n",
    "fig = model_ARMA.plot_predict(start='2019-03', end='2020-01', ax=ax)\n",
    "plt.title('Previsão do count para os próximos 2 meses, utilizando o modelo ARMA')\n",
    "plt.ylabel('Count')\n",
    "plt.xlabel('Periodo')\n",
    "legend = ax.legend(loc='upper left')\n",
    "plt.show()\n",
    "#ARIMA\n",
    "fig, ax = plt.subplots(figsize=(8,6))\n",
    "fig = model_ARIMA.plot_predict(start='2019-03', end='2020-01', ax=ax)\n",
    "plt.title('Previsão do count para os próximos 2 meses, utilizando o modelo ARIMA')\n",
    "plt.ylabel('Count')\n",
    "plt.xlabel('Periodo')\n",
    "legend = ax.legend(loc='upper left')\n",
    "plt.show()\n",
    "\n"
   ]
  },
  {
   "cell_type": "code",
   "execution_count": 350,
   "metadata": {},
   "outputs": [],
   "source": [
    "forecast = {'Mes':['12-2019','01-2020'], \n",
    "            'reg_linear':[int(model_regression.predict(np.array([12]).reshape(-1,1))),int(model_regression.predict(np.array([13]).reshape(-1,1)))],\n",
    "            'media_movel':[int(y_hat_avg[-1]),int((y_hat_avg[-2]+y_hat_avg[-1])/2)],\n",
    "            'ARMA':model_ARMA.predict(start='2019-12',end='2020-01').values.astype(int),\n",
    "            'ARIMA':model_ARIMA.predict(start='2019-12',end='2020-01',typ='levels').values.astype(int)}"
   ]
  },
  {
   "cell_type": "code",
   "execution_count": 351,
   "metadata": {
    "scrolled": true
   },
   "outputs": [],
   "source": [
    "foracasts = pd.DataFrame(forecast)\n",
    "foracasts.index=['2019-12','2020-01']"
   ]
  },
  {
   "cell_type": "code",
   "execution_count": 352,
   "metadata": {},
   "outputs": [
    {
     "data": {
      "image/png": "[encoded data removed]",
      "text/plain": [
       "<Figure size 864x576 with 1 Axes>"
      ]
     },
     "metadata": {},
     "output_type": "display_data"
    }
   ],
   "source": [
    "ind = ['2019-11','2019-12','2020-01']\n",
    "fig, ax = plt.subplots(figsize=(12,8))\n",
    "plt.plot(df_cont['Count'], label='Count') \n",
    "plt.plot(ind,[df_cont['Count'][-1],foracasts['reg_linear'][0],foracasts['reg_linear'][1]],label='Regressão Linear')\n",
    "plt.plot(ind,[df_cont['Count'][-1],foracasts['media_movel'][0],foracasts['media_movel'][1]],label = 'Média Móvel')\n",
    "plt.plot(ind,[df_cont['Count'][-1],foracasts['ARMA'][0],foracasts['ARMA'][1]], label = 'ARMA' )\n",
    "plt.plot(ind,[df_cont['Count'][-1],foracasts['ARIMA'][0],foracasts['ARIMA'][1]], label = 'ARIMA')\n",
    "plt.ylabel('Volumes de Reservas')\n",
    "plt.xlabel('Periodo')\n",
    "legend = ax.legend(loc='upper left')\n",
    "plt.show()"
   ]
  },
  {
   "cell_type": "markdown",
   "metadata": {},
   "source": [
    "## Premissas da planilha"
   ]
  },
  {
   "cell_type": "markdown",
   "metadata": {},
   "source": [
    "* *Custo operacional por unidade em Junho/2019*"
   ]
  },
  {
   "cell_type": "code",
   "execution_count": 353,
   "metadata": {},
   "outputs": [],
   "source": [
    "def c_op_u():\n",
    "    pessoal        = 150.0\n",
    "    manutecao      = 15.0\n",
    "    lavandeira     = 30.0\n",
    "    dispersas_fixas= 450.0\n",
    "    return (pessoal+manutecao+lavandeira+dispersas_fixas)"
   ]
  },
  {
   "cell_type": "markdown",
   "metadata": {},
   "source": [
    "* **Unidades disponíveis e Taxa de crescimento do custo por unidade**"
   ]
  },
  {
   "cell_type": "code",
   "execution_count": 354,
   "metadata": {},
   "outputs": [
    {
     "data": {
      "text/html": [
       "<div>\n",
       "<style scoped>\n",
       "    .dataframe tbody tr th:only-of-type {\n",
       "        vertical-align: middle;\n",
       "    }\n",
       "\n",
       "    .dataframe tbody tr th {\n",
       "        vertical-align: top;\n",
       "    }\n",
       "\n",
       "    .dataframe thead th {\n",
       "        text-align: right;\n",
       "    }\n",
       "</style>\n",
       "<table border=\"1\" class=\"dataframe\">\n",
       "  <thead>\n",
       "    <tr style=\"text-align: right;\">\n",
       "      <th></th>\n",
       "      <th>Unidades disponíveis</th>\n",
       "      <th>Taxa de crescimento do custo por unidade</th>\n",
       "    </tr>\n",
       "  </thead>\n",
       "  <tbody>\n",
       "    <tr>\n",
       "      <th>2019-02</th>\n",
       "      <td>10</td>\n",
       "      <td>-</td>\n",
       "    </tr>\n",
       "    <tr>\n",
       "      <th>2019-03</th>\n",
       "      <td>11</td>\n",
       "      <td>-0.05</td>\n",
       "    </tr>\n",
       "    <tr>\n",
       "      <th>2019-04</th>\n",
       "      <td>17</td>\n",
       "      <td>-0.02</td>\n",
       "    </tr>\n",
       "    <tr>\n",
       "      <th>2019-05</th>\n",
       "      <td>22</td>\n",
       "      <td>-0.03</td>\n",
       "    </tr>\n",
       "    <tr>\n",
       "      <th>2019-06</th>\n",
       "      <td>54</td>\n",
       "      <td>-0.1</td>\n",
       "    </tr>\n",
       "    <tr>\n",
       "      <th>2019-07</th>\n",
       "      <td>59</td>\n",
       "      <td>-0.05</td>\n",
       "    </tr>\n",
       "    <tr>\n",
       "      <th>2019-08</th>\n",
       "      <td>91</td>\n",
       "      <td>-0.05</td>\n",
       "    </tr>\n",
       "    <tr>\n",
       "      <th>2019-09</th>\n",
       "      <td>92</td>\n",
       "      <td>-0.01</td>\n",
       "    </tr>\n",
       "    <tr>\n",
       "      <th>2019-10</th>\n",
       "      <td>92</td>\n",
       "      <td>-0.02</td>\n",
       "    </tr>\n",
       "    <tr>\n",
       "      <th>2019-11</th>\n",
       "      <td>138</td>\n",
       "      <td>-0.15</td>\n",
       "    </tr>\n",
       "  </tbody>\n",
       "</table>\n",
       "</div>"
      ],
      "text/plain": [
       "         Unidades disponíveis Taxa de crescimento do custo por unidade\n",
       "2019-02                    10                                        -\n",
       "2019-03                    11                                    -0.05\n",
       "2019-04                    17                                    -0.02\n",
       "2019-05                    22                                    -0.03\n",
       "2019-06                    54                                     -0.1\n",
       "2019-07                    59                                    -0.05\n",
       "2019-08                    91                                    -0.05\n",
       "2019-09                    92                                    -0.01\n",
       "2019-10                    92                                    -0.02\n",
       "2019-11                   138                                    -0.15"
      ]
     },
     "execution_count": 354,
     "metadata": {},
     "output_type": "execute_result"
    }
   ],
   "source": [
    "idx = ['2019-02','2019-03','2019-04','2019-05','2019-06','2019-07','2019-08','2019-09','2019-10','2019-11']\n",
    "Unid_disp = [10,11,17,22,54,59,91,92,92,138]\n",
    "Taxa_cres_do_cust_por_unid = ['-',-0.05,-0.02,-0.03,-0.10,-0.05,-0.05,-0.01,-0.02,-0.15]\n",
    "premissas = pd.DataFrame({'Unidades disponíveis':Unid_disp,\n",
    "              'Taxa de crescimento do custo por unidade':Taxa_cres_do_cust_por_unid},\n",
    "              index=idx)\n",
    "premissas"
   ]
  },
  {
   "cell_type": "markdown",
   "metadata": {},
   "source": [
    "Agora, vamos calcular **Custo operacional por unidade** de cada mês a partir das seguintes premissas: \n",
    "1. *Custo operacional por unidade em Junho/2019*\n",
    "2. *Taxa de crescimento do custo por unidade* "
   ]
  },
  {
   "cell_type": "code",
   "execution_count": 355,
   "metadata": {},
   "outputs": [
    {
     "data": {
      "text/html": [
       "<div>\n",
       "<style scoped>\n",
       "    .dataframe tbody tr th:only-of-type {\n",
       "        vertical-align: middle;\n",
       "    }\n",
       "\n",
       "    .dataframe tbody tr th {\n",
       "        vertical-align: top;\n",
       "    }\n",
       "\n",
       "    .dataframe thead th {\n",
       "        text-align: right;\n",
       "    }\n",
       "</style>\n",
       "<table border=\"1\" class=\"dataframe\">\n",
       "  <thead>\n",
       "    <tr style=\"text-align: right;\">\n",
       "      <th></th>\n",
       "      <th>Unidades disponíveis</th>\n",
       "      <th>Taxa de crescimento do custo por unidade</th>\n",
       "      <th>Custo operacional por unidade</th>\n",
       "    </tr>\n",
       "  </thead>\n",
       "  <tbody>\n",
       "    <tr>\n",
       "      <th>2019-02</th>\n",
       "      <td>10</td>\n",
       "      <td>-</td>\n",
       "      <td>782.670735</td>\n",
       "    </tr>\n",
       "    <tr>\n",
       "      <th>2019-03</th>\n",
       "      <td>11</td>\n",
       "      <td>-0.05</td>\n",
       "      <td>745.400700</td>\n",
       "    </tr>\n",
       "    <tr>\n",
       "      <th>2019-04</th>\n",
       "      <td>17</td>\n",
       "      <td>-0.02</td>\n",
       "      <td>730.785000</td>\n",
       "    </tr>\n",
       "    <tr>\n",
       "      <th>2019-05</th>\n",
       "      <td>22</td>\n",
       "      <td>-0.03</td>\n",
       "      <td>709.500000</td>\n",
       "    </tr>\n",
       "    <tr>\n",
       "      <th>2019-06</th>\n",
       "      <td>54</td>\n",
       "      <td>-0.1</td>\n",
       "      <td>645.000000</td>\n",
       "    </tr>\n",
       "    <tr>\n",
       "      <th>2019-07</th>\n",
       "      <td>59</td>\n",
       "      <td>-0.05</td>\n",
       "      <td>612.750000</td>\n",
       "    </tr>\n",
       "    <tr>\n",
       "      <th>2019-08</th>\n",
       "      <td>91</td>\n",
       "      <td>-0.05</td>\n",
       "      <td>582.112500</td>\n",
       "    </tr>\n",
       "    <tr>\n",
       "      <th>2019-09</th>\n",
       "      <td>92</td>\n",
       "      <td>-0.01</td>\n",
       "      <td>576.291375</td>\n",
       "    </tr>\n",
       "    <tr>\n",
       "      <th>2019-10</th>\n",
       "      <td>92</td>\n",
       "      <td>-0.02</td>\n",
       "      <td>564.765547</td>\n",
       "    </tr>\n",
       "    <tr>\n",
       "      <th>2019-11</th>\n",
       "      <td>138</td>\n",
       "      <td>-0.15</td>\n",
       "      <td>480.050715</td>\n",
       "    </tr>\n",
       "  </tbody>\n",
       "</table>\n",
       "</div>"
      ],
      "text/plain": [
       "         Unidades disponíveis Taxa de crescimento do custo por unidade  \\\n",
       "2019-02                    10                                        -   \n",
       "2019-03                    11                                    -0.05   \n",
       "2019-04                    17                                    -0.02   \n",
       "2019-05                    22                                    -0.03   \n",
       "2019-06                    54                                     -0.1   \n",
       "2019-07                    59                                    -0.05   \n",
       "2019-08                    91                                    -0.05   \n",
       "2019-09                    92                                    -0.01   \n",
       "2019-10                    92                                    -0.02   \n",
       "2019-11                   138                                    -0.15   \n",
       "\n",
       "         Custo operacional por unidade  \n",
       "2019-02                     782.670735  \n",
       "2019-03                     745.400700  \n",
       "2019-04                     730.785000  \n",
       "2019-05                     709.500000  \n",
       "2019-06                     645.000000  \n",
       "2019-07                     612.750000  \n",
       "2019-08                     582.112500  \n",
       "2019-09                     576.291375  \n",
       "2019-10                     564.765547  \n",
       "2019-11                     480.050715  "
      ]
     },
     "execution_count": 355,
     "metadata": {},
     "output_type": "execute_result"
    }
   ],
   "source": [
    "Custo_oper_por_unid = [c_op_u()*(1.10)*(1.03)*(1.02)*(1.05),c_op_u()*(1.10)*(1.03)*(1.02),c_op_u()*(1.10)*(1.03),\n",
    "                       c_op_u()*(1.10),c_op_u(),c_op_u()*(0.95),c_op_u()*(0.95)*(0.95),c_op_u()*(0.95)*(0.95)*(0.99),\n",
    "                       c_op_u()*(0.95)*(0.95)*(0.99)*(0.98),c_op_u()*(0.95)*(0.95)*(0.99)*(0.98)*(0.85)]\n",
    "premissas['Custo operacional por unidade'] = Custo_oper_por_unid\n",
    "premissas"
   ]
  },
  {
   "cell_type": "markdown",
   "metadata": {},
   "source": [
    "* Veremos o custo operacional  por unidade no decorrer dos meses"
   ]
  },
  {
   "cell_type": "code",
   "execution_count": 356,
   "metadata": {},
   "outputs": [
    {
     "data": {
      "image/png": "[encoded data removed]",
      "text/plain": [
       "<Figure size 576x432 with 1 Axes>"
      ]
     },
     "metadata": {},
     "output_type": "display_data"
    }
   ],
   "source": [
    "plt.figure(figsize=(8,6)) \n",
    "plt.bar(premissas.index,premissas['Custo operacional por unidade']);"
   ]
  },
  {
   "cell_type": "markdown",
   "metadata": {},
   "source": [
    "Note que o custo por unidade diminui na medida que aumenta o número de unidade disponível.  \n",
    "\n",
    "\n",
    "* **Agora, veremos uma função que determina a estadia disponível de cada mês diante das unidades disponíveis.** "
   ]
  },
  {
   "cell_type": "code",
   "execution_count": 357,
   "metadata": {},
   "outputs": [],
   "source": [
    "def estadia_disponivel(n_unidade,mes):\n",
    "    if mes==2:\n",
    "        return n_unidade*28\n",
    "    if mes==1 or mes==3 or mes==5 or mes==7 or mes==8 or mes==10 or mes==12:\n",
    "        return n_unidade*31\n",
    "    if mes==4 or mes==6 or mes==9 or mes==11:\n",
    "        return n_unidade*30       "
   ]
  },
  {
   "cell_type": "markdown",
   "metadata": {},
   "source": [
    "* **Adicionando a estadia disponível para cada mês - dados fornecidos das premissas**"
   ]
  },
  {
   "cell_type": "code",
   "execution_count": 358,
   "metadata": {},
   "outputs": [
    {
     "data": {
      "text/html": [
       "<div>\n",
       "<style scoped>\n",
       "    .dataframe tbody tr th:only-of-type {\n",
       "        vertical-align: middle;\n",
       "    }\n",
       "\n",
       "    .dataframe tbody tr th {\n",
       "        vertical-align: top;\n",
       "    }\n",
       "\n",
       "    .dataframe thead th {\n",
       "        text-align: right;\n",
       "    }\n",
       "</style>\n",
       "<table border=\"1\" class=\"dataframe\">\n",
       "  <thead>\n",
       "    <tr style=\"text-align: right;\">\n",
       "      <th></th>\n",
       "      <th>Unidades disponíveis</th>\n",
       "      <th>Taxa de crescimento do custo por unidade</th>\n",
       "      <th>Custo operacional por unidade</th>\n",
       "      <th>Estadia disponível</th>\n",
       "    </tr>\n",
       "  </thead>\n",
       "  <tbody>\n",
       "    <tr>\n",
       "      <th>2019-02</th>\n",
       "      <td>10</td>\n",
       "      <td>-</td>\n",
       "      <td>782.670735</td>\n",
       "      <td>280</td>\n",
       "    </tr>\n",
       "    <tr>\n",
       "      <th>2019-03</th>\n",
       "      <td>11</td>\n",
       "      <td>-0.05</td>\n",
       "      <td>745.400700</td>\n",
       "      <td>341</td>\n",
       "    </tr>\n",
       "    <tr>\n",
       "      <th>2019-04</th>\n",
       "      <td>17</td>\n",
       "      <td>-0.02</td>\n",
       "      <td>730.785000</td>\n",
       "      <td>510</td>\n",
       "    </tr>\n",
       "    <tr>\n",
       "      <th>2019-05</th>\n",
       "      <td>22</td>\n",
       "      <td>-0.03</td>\n",
       "      <td>709.500000</td>\n",
       "      <td>682</td>\n",
       "    </tr>\n",
       "    <tr>\n",
       "      <th>2019-06</th>\n",
       "      <td>54</td>\n",
       "      <td>-0.1</td>\n",
       "      <td>645.000000</td>\n",
       "      <td>1620</td>\n",
       "    </tr>\n",
       "    <tr>\n",
       "      <th>2019-07</th>\n",
       "      <td>59</td>\n",
       "      <td>-0.05</td>\n",
       "      <td>612.750000</td>\n",
       "      <td>1829</td>\n",
       "    </tr>\n",
       "    <tr>\n",
       "      <th>2019-08</th>\n",
       "      <td>91</td>\n",
       "      <td>-0.05</td>\n",
       "      <td>582.112500</td>\n",
       "      <td>2821</td>\n",
       "    </tr>\n",
       "    <tr>\n",
       "      <th>2019-09</th>\n",
       "      <td>92</td>\n",
       "      <td>-0.01</td>\n",
       "      <td>576.291375</td>\n",
       "      <td>2760</td>\n",
       "    </tr>\n",
       "    <tr>\n",
       "      <th>2019-10</th>\n",
       "      <td>92</td>\n",
       "      <td>-0.02</td>\n",
       "      <td>564.765547</td>\n",
       "      <td>2852</td>\n",
       "    </tr>\n",
       "    <tr>\n",
       "      <th>2019-11</th>\n",
       "      <td>138</td>\n",
       "      <td>-0.15</td>\n",
       "      <td>480.050715</td>\n",
       "      <td>4140</td>\n",
       "    </tr>\n",
       "  </tbody>\n",
       "</table>\n",
       "</div>"
      ],
      "text/plain": [
       "         Unidades disponíveis Taxa de crescimento do custo por unidade  \\\n",
       "2019-02                    10                                        -   \n",
       "2019-03                    11                                    -0.05   \n",
       "2019-04                    17                                    -0.02   \n",
       "2019-05                    22                                    -0.03   \n",
       "2019-06                    54                                     -0.1   \n",
       "2019-07                    59                                    -0.05   \n",
       "2019-08                    91                                    -0.05   \n",
       "2019-09                    92                                    -0.01   \n",
       "2019-10                    92                                    -0.02   \n",
       "2019-11                   138                                    -0.15   \n",
       "\n",
       "         Custo operacional por unidade  Estadia disponível  \n",
       "2019-02                     782.670735                 280  \n",
       "2019-03                     745.400700                 341  \n",
       "2019-04                     730.785000                 510  \n",
       "2019-05                     709.500000                 682  \n",
       "2019-06                     645.000000                1620  \n",
       "2019-07                     612.750000                1829  \n",
       "2019-08                     582.112500                2821  \n",
       "2019-09                     576.291375                2760  \n",
       "2019-10                     564.765547                2852  \n",
       "2019-11                     480.050715                4140  "
      ]
     },
     "execution_count": 358,
     "metadata": {},
     "output_type": "execute_result"
    }
   ],
   "source": [
    "Estadia_disponivel = [estadia_disponivel(10,2),estadia_disponivel(11,3),estadia_disponivel(17,4),estadia_disponivel(22,5),\n",
    "                           estadia_disponivel(54,6),estadia_disponivel(59,7),estadia_disponivel(91,8),estadia_disponivel(92,9),\n",
    "                           estadia_disponivel(92,10),estadia_disponivel(138,11)]\n",
    "premissas['Estadia disponível']= Estadia_disponivel\n",
    "premissas"
   ]
  },
  {
   "cell_type": "markdown",
   "metadata": {},
   "source": [
    "* **Agora, adicionaremos a estadia ocupada de cada mês**  "
   ]
  },
  {
   "cell_type": "code",
   "execution_count": 359,
   "metadata": {},
   "outputs": [
    {
     "data": {
      "text/plain": [
       "[116, 308, 344, 552, 1371, 1534, 1785, 2112, 1739, 2262]"
      ]
     },
     "execution_count": 359,
     "metadata": {},
     "output_type": "execute_result"
    }
   ],
   "source": [
    "Estadia_ocupada = [df[df['Check-in'] == '2019-02']['Estadia'].sum(),df[df['Check-in'] == '2019-03']['Estadia'].sum(),\n",
    "                  df[df['Check-in'] == '2019-04']['Estadia'].sum(),df[df['Check-in'] == '2019-05']['Estadia'].sum(),\n",
    "                  df[df['Check-in'] == '2019-06']['Estadia'].sum(),df[df['Check-in'] == '2019-07']['Estadia'].sum(),\n",
    "                  df[df['Check-in'] == '2019-08']['Estadia'].sum(),df[df['Check-in'] == '2019-09']['Estadia'].sum(),\n",
    "                  df[df['Check-in'] == '2019-10']['Estadia'].sum(),df[df['Check-in'] == '2019-11']['Estadia'].sum()]\n",
    "Estadia_ocupada"
   ]
  },
  {
   "cell_type": "code",
   "execution_count": 360,
   "metadata": {},
   "outputs": [
    {
     "data": {
      "text/html": [
       "<div>\n",
       "<style scoped>\n",
       "    .dataframe tbody tr th:only-of-type {\n",
       "        vertical-align: middle;\n",
       "    }\n",
       "\n",
       "    .dataframe tbody tr th {\n",
       "        vertical-align: top;\n",
       "    }\n",
       "\n",
       "    .dataframe thead th {\n",
       "        text-align: right;\n",
       "    }\n",
       "</style>\n",
       "<table border=\"1\" class=\"dataframe\">\n",
       "  <thead>\n",
       "    <tr style=\"text-align: right;\">\n",
       "      <th></th>\n",
       "      <th>Unidades disponíveis</th>\n",
       "      <th>Taxa de crescimento do custo por unidade</th>\n",
       "      <th>Custo operacional por unidade</th>\n",
       "      <th>Estadia disponível</th>\n",
       "      <th>Ocupação</th>\n",
       "    </tr>\n",
       "  </thead>\n",
       "  <tbody>\n",
       "    <tr>\n",
       "      <th>2019-02</th>\n",
       "      <td>10</td>\n",
       "      <td>-</td>\n",
       "      <td>782.670735</td>\n",
       "      <td>280</td>\n",
       "      <td>116</td>\n",
       "    </tr>\n",
       "    <tr>\n",
       "      <th>2019-03</th>\n",
       "      <td>11</td>\n",
       "      <td>-0.05</td>\n",
       "      <td>745.400700</td>\n",
       "      <td>341</td>\n",
       "      <td>308</td>\n",
       "    </tr>\n",
       "    <tr>\n",
       "      <th>2019-04</th>\n",
       "      <td>17</td>\n",
       "      <td>-0.02</td>\n",
       "      <td>730.785000</td>\n",
       "      <td>510</td>\n",
       "      <td>344</td>\n",
       "    </tr>\n",
       "    <tr>\n",
       "      <th>2019-05</th>\n",
       "      <td>22</td>\n",
       "      <td>-0.03</td>\n",
       "      <td>709.500000</td>\n",
       "      <td>682</td>\n",
       "      <td>552</td>\n",
       "    </tr>\n",
       "    <tr>\n",
       "      <th>2019-06</th>\n",
       "      <td>54</td>\n",
       "      <td>-0.1</td>\n",
       "      <td>645.000000</td>\n",
       "      <td>1620</td>\n",
       "      <td>1371</td>\n",
       "    </tr>\n",
       "    <tr>\n",
       "      <th>2019-07</th>\n",
       "      <td>59</td>\n",
       "      <td>-0.05</td>\n",
       "      <td>612.750000</td>\n",
       "      <td>1829</td>\n",
       "      <td>1534</td>\n",
       "    </tr>\n",
       "    <tr>\n",
       "      <th>2019-08</th>\n",
       "      <td>91</td>\n",
       "      <td>-0.05</td>\n",
       "      <td>582.112500</td>\n",
       "      <td>2821</td>\n",
       "      <td>1785</td>\n",
       "    </tr>\n",
       "    <tr>\n",
       "      <th>2019-09</th>\n",
       "      <td>92</td>\n",
       "      <td>-0.01</td>\n",
       "      <td>576.291375</td>\n",
       "      <td>2760</td>\n",
       "      <td>2112</td>\n",
       "    </tr>\n",
       "    <tr>\n",
       "      <th>2019-10</th>\n",
       "      <td>92</td>\n",
       "      <td>-0.02</td>\n",
       "      <td>564.765547</td>\n",
       "      <td>2852</td>\n",
       "      <td>1739</td>\n",
       "    </tr>\n",
       "    <tr>\n",
       "      <th>2019-11</th>\n",
       "      <td>138</td>\n",
       "      <td>-0.15</td>\n",
       "      <td>480.050715</td>\n",
       "      <td>4140</td>\n",
       "      <td>2262</td>\n",
       "    </tr>\n",
       "  </tbody>\n",
       "</table>\n",
       "</div>"
      ],
      "text/plain": [
       "         Unidades disponíveis Taxa de crescimento do custo por unidade  \\\n",
       "2019-02                    10                                        -   \n",
       "2019-03                    11                                    -0.05   \n",
       "2019-04                    17                                    -0.02   \n",
       "2019-05                    22                                    -0.03   \n",
       "2019-06                    54                                     -0.1   \n",
       "2019-07                    59                                    -0.05   \n",
       "2019-08                    91                                    -0.05   \n",
       "2019-09                    92                                    -0.01   \n",
       "2019-10                    92                                    -0.02   \n",
       "2019-11                   138                                    -0.15   \n",
       "\n",
       "         Custo operacional por unidade  Estadia disponível  Ocupação  \n",
       "2019-02                     782.670735                 280       116  \n",
       "2019-03                     745.400700                 341       308  \n",
       "2019-04                     730.785000                 510       344  \n",
       "2019-05                     709.500000                 682       552  \n",
       "2019-06                     645.000000                1620      1371  \n",
       "2019-07                     612.750000                1829      1534  \n",
       "2019-08                     582.112500                2821      1785  \n",
       "2019-09                     576.291375                2760      2112  \n",
       "2019-10                     564.765547                2852      1739  \n",
       "2019-11                     480.050715                4140      2262  "
      ]
     },
     "execution_count": 360,
     "metadata": {},
     "output_type": "execute_result"
    }
   ],
   "source": [
    "premissas['Ocupação'] = Estadia_ocupada\n",
    "premissas"
   ]
  },
  {
   "cell_type": "markdown",
   "metadata": {},
   "source": [
    "* **Adicionando a Taxa de ocupação**"
   ]
  },
  {
   "cell_type": "code",
   "execution_count": 361,
   "metadata": {},
   "outputs": [
    {
     "data": {
      "text/html": [
       "<div>\n",
       "<style scoped>\n",
       "    .dataframe tbody tr th:only-of-type {\n",
       "        vertical-align: middle;\n",
       "    }\n",
       "\n",
       "    .dataframe tbody tr th {\n",
       "        vertical-align: top;\n",
       "    }\n",
       "\n",
       "    .dataframe thead th {\n",
       "        text-align: right;\n",
       "    }\n",
       "</style>\n",
       "<table border=\"1\" class=\"dataframe\">\n",
       "  <thead>\n",
       "    <tr style=\"text-align: right;\">\n",
       "      <th></th>\n",
       "      <th>Unidades disponíveis</th>\n",
       "      <th>Taxa de crescimento do custo por unidade</th>\n",
       "      <th>Custo operacional por unidade</th>\n",
       "      <th>Estadia disponível</th>\n",
       "      <th>Ocupação</th>\n",
       "      <th>Taxa de Ocupação %</th>\n",
       "    </tr>\n",
       "  </thead>\n",
       "  <tbody>\n",
       "    <tr>\n",
       "      <th>2019-02</th>\n",
       "      <td>10</td>\n",
       "      <td>-</td>\n",
       "      <td>782.670735</td>\n",
       "      <td>280</td>\n",
       "      <td>116</td>\n",
       "      <td>41.43</td>\n",
       "    </tr>\n",
       "    <tr>\n",
       "      <th>2019-03</th>\n",
       "      <td>11</td>\n",
       "      <td>-0.05</td>\n",
       "      <td>745.400700</td>\n",
       "      <td>341</td>\n",
       "      <td>308</td>\n",
       "      <td>90.32</td>\n",
       "    </tr>\n",
       "    <tr>\n",
       "      <th>2019-04</th>\n",
       "      <td>17</td>\n",
       "      <td>-0.02</td>\n",
       "      <td>730.785000</td>\n",
       "      <td>510</td>\n",
       "      <td>344</td>\n",
       "      <td>67.45</td>\n",
       "    </tr>\n",
       "    <tr>\n",
       "      <th>2019-05</th>\n",
       "      <td>22</td>\n",
       "      <td>-0.03</td>\n",
       "      <td>709.500000</td>\n",
       "      <td>682</td>\n",
       "      <td>552</td>\n",
       "      <td>80.94</td>\n",
       "    </tr>\n",
       "    <tr>\n",
       "      <th>2019-06</th>\n",
       "      <td>54</td>\n",
       "      <td>-0.1</td>\n",
       "      <td>645.000000</td>\n",
       "      <td>1620</td>\n",
       "      <td>1371</td>\n",
       "      <td>84.63</td>\n",
       "    </tr>\n",
       "    <tr>\n",
       "      <th>2019-07</th>\n",
       "      <td>59</td>\n",
       "      <td>-0.05</td>\n",
       "      <td>612.750000</td>\n",
       "      <td>1829</td>\n",
       "      <td>1534</td>\n",
       "      <td>83.87</td>\n",
       "    </tr>\n",
       "    <tr>\n",
       "      <th>2019-08</th>\n",
       "      <td>91</td>\n",
       "      <td>-0.05</td>\n",
       "      <td>582.112500</td>\n",
       "      <td>2821</td>\n",
       "      <td>1785</td>\n",
       "      <td>63.28</td>\n",
       "    </tr>\n",
       "    <tr>\n",
       "      <th>2019-09</th>\n",
       "      <td>92</td>\n",
       "      <td>-0.01</td>\n",
       "      <td>576.291375</td>\n",
       "      <td>2760</td>\n",
       "      <td>2112</td>\n",
       "      <td>76.52</td>\n",
       "    </tr>\n",
       "    <tr>\n",
       "      <th>2019-10</th>\n",
       "      <td>92</td>\n",
       "      <td>-0.02</td>\n",
       "      <td>564.765547</td>\n",
       "      <td>2852</td>\n",
       "      <td>1739</td>\n",
       "      <td>60.97</td>\n",
       "    </tr>\n",
       "    <tr>\n",
       "      <th>2019-11</th>\n",
       "      <td>138</td>\n",
       "      <td>-0.15</td>\n",
       "      <td>480.050715</td>\n",
       "      <td>4140</td>\n",
       "      <td>2262</td>\n",
       "      <td>54.64</td>\n",
       "    </tr>\n",
       "  </tbody>\n",
       "</table>\n",
       "</div>"
      ],
      "text/plain": [
       "         Unidades disponíveis Taxa de crescimento do custo por unidade  \\\n",
       "2019-02                    10                                        -   \n",
       "2019-03                    11                                    -0.05   \n",
       "2019-04                    17                                    -0.02   \n",
       "2019-05                    22                                    -0.03   \n",
       "2019-06                    54                                     -0.1   \n",
       "2019-07                    59                                    -0.05   \n",
       "2019-08                    91                                    -0.05   \n",
       "2019-09                    92                                    -0.01   \n",
       "2019-10                    92                                    -0.02   \n",
       "2019-11                   138                                    -0.15   \n",
       "\n",
       "         Custo operacional por unidade  Estadia disponível  Ocupação  \\\n",
       "2019-02                     782.670735                 280       116   \n",
       "2019-03                     745.400700                 341       308   \n",
       "2019-04                     730.785000                 510       344   \n",
       "2019-05                     709.500000                 682       552   \n",
       "2019-06                     645.000000                1620      1371   \n",
       "2019-07                     612.750000                1829      1534   \n",
       "2019-08                     582.112500                2821      1785   \n",
       "2019-09                     576.291375                2760      2112   \n",
       "2019-10                     564.765547                2852      1739   \n",
       "2019-11                     480.050715                4140      2262   \n",
       "\n",
       "         Taxa de Ocupação %  \n",
       "2019-02               41.43  \n",
       "2019-03               90.32  \n",
       "2019-04               67.45  \n",
       "2019-05               80.94  \n",
       "2019-06               84.63  \n",
       "2019-07               83.87  \n",
       "2019-08               63.28  \n",
       "2019-09               76.52  \n",
       "2019-10               60.97  \n",
       "2019-11               54.64  "
      ]
     },
     "execution_count": 361,
     "metadata": {},
     "output_type": "execute_result"
    }
   ],
   "source": [
    "premissas['Taxa de Ocupação %'] = ((premissas['Ocupação']/premissas['Estadia disponível'])*100).round(2)\n",
    "premissas"
   ]
  },
  {
   "cell_type": "markdown",
   "metadata": {},
   "source": [
    "* **Visualizando a estadia disponível e a ocupação** "
   ]
  },
  {
   "cell_type": "code",
   "execution_count": 362,
   "metadata": {},
   "outputs": [
    {
     "data": {
      "image/png": "[encoded data removed]",
      "text/plain": [
       "<Figure size 864x576 with 1 Axes>"
      ]
     },
     "metadata": {},
     "output_type": "display_data"
    }
   ],
   "source": [
    "fig, ax = plt.subplots(figsize=(12,8))\n",
    "plt.bar(premissas.index,premissas['Estadia disponível'],label='Estadia disponível')\n",
    "ax=plt.bar(premissas.index,premissas['Ocupação'], label = 'Ocupação')\n",
    "plt.legend();"
   ]
  },
  {
   "cell_type": "markdown",
   "metadata": {},
   "source": [
    " * **Agora, analisaremos a variável Receita bruta estimada** "
   ]
  },
  {
   "cell_type": "code",
   "execution_count": 363,
   "metadata": {
    "colab": {
     "base_uri": "https://localhost:8080/",
     "height": 394
    },
    "colab_type": "code",
    "id": "SYo8rCwo1_Eg",
    "outputId": "9c128f1b-2a3a-4f9f-b59c-2a10e6604320"
   },
   "outputs": [
    {
     "data": {
      "image/png": "[encoded data removed]",
      "text/plain": [
       "<Figure size 576x432 with 1 Axes>"
      ]
     },
     "metadata": {},
     "output_type": "display_data"
    }
   ],
   "source": [
    "plt.figure(figsize=(8,6)) \n",
    "plt.scatter(df['Estadia'],df['Receita bruta estimada'])\n",
    "plt.xlabel('Estadia')\n",
    "plt.ylabel('Receita bruta estimada')\n",
    "plt.show()"
   ]
  },
  {
   "cell_type": "markdown",
   "metadata": {},
   "source": [
    "Confirmano a teoria que:  quanto maior a estadia maior receita.   "
   ]
  },
  {
   "cell_type": "markdown",
   "metadata": {},
   "source": [
    "* **Agora, vamos adicionar o custo total de cada mês** "
   ]
  },
  {
   "cell_type": "code",
   "execution_count": 364,
   "metadata": {},
   "outputs": [
    {
     "data": {
      "text/html": [
       "<div>\n",
       "<style scoped>\n",
       "    .dataframe tbody tr th:only-of-type {\n",
       "        vertical-align: middle;\n",
       "    }\n",
       "\n",
       "    .dataframe tbody tr th {\n",
       "        vertical-align: top;\n",
       "    }\n",
       "\n",
       "    .dataframe thead th {\n",
       "        text-align: right;\n",
       "    }\n",
       "</style>\n",
       "<table border=\"1\" class=\"dataframe\">\n",
       "  <thead>\n",
       "    <tr style=\"text-align: right;\">\n",
       "      <th></th>\n",
       "      <th>Unidades disponíveis</th>\n",
       "      <th>Taxa de crescimento do custo por unidade</th>\n",
       "      <th>Custo operacional por unidade</th>\n",
       "      <th>Estadia disponível</th>\n",
       "      <th>Ocupação</th>\n",
       "      <th>Taxa de Ocupação %</th>\n",
       "      <th>Custo Total</th>\n",
       "    </tr>\n",
       "  </thead>\n",
       "  <tbody>\n",
       "    <tr>\n",
       "      <th>2019-02</th>\n",
       "      <td>10</td>\n",
       "      <td>-</td>\n",
       "      <td>782.670735</td>\n",
       "      <td>280</td>\n",
       "      <td>116</td>\n",
       "      <td>41.43</td>\n",
       "      <td>7826.707350</td>\n",
       "    </tr>\n",
       "    <tr>\n",
       "      <th>2019-03</th>\n",
       "      <td>11</td>\n",
       "      <td>-0.05</td>\n",
       "      <td>745.400700</td>\n",
       "      <td>341</td>\n",
       "      <td>308</td>\n",
       "      <td>90.32</td>\n",
       "      <td>8199.407700</td>\n",
       "    </tr>\n",
       "    <tr>\n",
       "      <th>2019-04</th>\n",
       "      <td>17</td>\n",
       "      <td>-0.02</td>\n",
       "      <td>730.785000</td>\n",
       "      <td>510</td>\n",
       "      <td>344</td>\n",
       "      <td>67.45</td>\n",
       "      <td>12423.345000</td>\n",
       "    </tr>\n",
       "    <tr>\n",
       "      <th>2019-05</th>\n",
       "      <td>22</td>\n",
       "      <td>-0.03</td>\n",
       "      <td>709.500000</td>\n",
       "      <td>682</td>\n",
       "      <td>552</td>\n",
       "      <td>80.94</td>\n",
       "      <td>15609.000000</td>\n",
       "    </tr>\n",
       "    <tr>\n",
       "      <th>2019-06</th>\n",
       "      <td>54</td>\n",
       "      <td>-0.1</td>\n",
       "      <td>645.000000</td>\n",
       "      <td>1620</td>\n",
       "      <td>1371</td>\n",
       "      <td>84.63</td>\n",
       "      <td>34830.000000</td>\n",
       "    </tr>\n",
       "    <tr>\n",
       "      <th>2019-07</th>\n",
       "      <td>59</td>\n",
       "      <td>-0.05</td>\n",
       "      <td>612.750000</td>\n",
       "      <td>1829</td>\n",
       "      <td>1534</td>\n",
       "      <td>83.87</td>\n",
       "      <td>36152.250000</td>\n",
       "    </tr>\n",
       "    <tr>\n",
       "      <th>2019-08</th>\n",
       "      <td>91</td>\n",
       "      <td>-0.05</td>\n",
       "      <td>582.112500</td>\n",
       "      <td>2821</td>\n",
       "      <td>1785</td>\n",
       "      <td>63.28</td>\n",
       "      <td>52972.237500</td>\n",
       "    </tr>\n",
       "    <tr>\n",
       "      <th>2019-09</th>\n",
       "      <td>92</td>\n",
       "      <td>-0.01</td>\n",
       "      <td>576.291375</td>\n",
       "      <td>2760</td>\n",
       "      <td>2112</td>\n",
       "      <td>76.52</td>\n",
       "      <td>53018.806500</td>\n",
       "    </tr>\n",
       "    <tr>\n",
       "      <th>2019-10</th>\n",
       "      <td>92</td>\n",
       "      <td>-0.02</td>\n",
       "      <td>564.765547</td>\n",
       "      <td>2852</td>\n",
       "      <td>1739</td>\n",
       "      <td>60.97</td>\n",
       "      <td>51958.430370</td>\n",
       "    </tr>\n",
       "    <tr>\n",
       "      <th>2019-11</th>\n",
       "      <td>138</td>\n",
       "      <td>-0.15</td>\n",
       "      <td>480.050715</td>\n",
       "      <td>4140</td>\n",
       "      <td>2262</td>\n",
       "      <td>54.64</td>\n",
       "      <td>66246.998722</td>\n",
       "    </tr>\n",
       "  </tbody>\n",
       "</table>\n",
       "</div>"
      ],
      "text/plain": [
       "         Unidades disponíveis Taxa de crescimento do custo por unidade  \\\n",
       "2019-02                    10                                        -   \n",
       "2019-03                    11                                    -0.05   \n",
       "2019-04                    17                                    -0.02   \n",
       "2019-05                    22                                    -0.03   \n",
       "2019-06                    54                                     -0.1   \n",
       "2019-07                    59                                    -0.05   \n",
       "2019-08                    91                                    -0.05   \n",
       "2019-09                    92                                    -0.01   \n",
       "2019-10                    92                                    -0.02   \n",
       "2019-11                   138                                    -0.15   \n",
       "\n",
       "         Custo operacional por unidade  Estadia disponível  Ocupação  \\\n",
       "2019-02                     782.670735                 280       116   \n",
       "2019-03                     745.400700                 341       308   \n",
       "2019-04                     730.785000                 510       344   \n",
       "2019-05                     709.500000                 682       552   \n",
       "2019-06                     645.000000                1620      1371   \n",
       "2019-07                     612.750000                1829      1534   \n",
       "2019-08                     582.112500                2821      1785   \n",
       "2019-09                     576.291375                2760      2112   \n",
       "2019-10                     564.765547                2852      1739   \n",
       "2019-11                     480.050715                4140      2262   \n",
       "\n",
       "         Taxa de Ocupação %   Custo Total  \n",
       "2019-02               41.43   7826.707350  \n",
       "2019-03               90.32   8199.407700  \n",
       "2019-04               67.45  12423.345000  \n",
       "2019-05               80.94  15609.000000  \n",
       "2019-06               84.63  34830.000000  \n",
       "2019-07               83.87  36152.250000  \n",
       "2019-08               63.28  52972.237500  \n",
       "2019-09               76.52  53018.806500  \n",
       "2019-10               60.97  51958.430370  \n",
       "2019-11               54.64  66246.998722  "
      ]
     },
     "execution_count": 364,
     "metadata": {},
     "output_type": "execute_result"
    }
   ],
   "source": [
    "premissas['Custo Total'] = premissas['Unidades disponíveis']*premissas['Custo operacional por unidade']\n",
    "premissas"
   ]
  },
  {
   "cell_type": "markdown",
   "metadata": {},
   "source": [
    "## Avaliando a saúde financeira do negócio "
   ]
  },
  {
   "cell_type": "markdown",
   "metadata": {},
   "source": [
    "Usaremos as seguintes métricas para verificar a saúde financeira do negócio:\n",
    "\n",
    "\n",
    "* **Crescimento real de receita**\n",
    "\n",
    "\n",
    "* **Lucro**\n",
    "\n",
    "\n",
    "* **Retorno sobre investimento (ROI)**\n"
   ]
  },
  {
   "cell_type": "markdown",
   "metadata": {},
   "source": [
    "### Crescimento real de receita"
   ]
  },
  {
   "cell_type": "markdown",
   "metadata": {},
   "source": [
    "* **Receita total de cada mês**"
   ]
  },
  {
   "cell_type": "code",
   "execution_count": 365,
   "metadata": {},
   "outputs": [],
   "source": [
    "Receita_Total = [df[df['Check-in'] == '2019-02']['Receita bruta estimada'].sum(),df[df['Check-in'] == '2019-03']['Receita bruta estimada'].sum(),\n",
    "                  df[df['Check-in'] == '2019-04']['Receita bruta estimada'].sum(),df[df['Check-in'] == '2019-05']['Receita bruta estimada'].sum(),\n",
    "                  df[df['Check-in'] == '2019-06']['Receita bruta estimada'].sum(),df[df['Check-in'] == '2019-07']['Receita bruta estimada'].sum(),\n",
    "                  df[df['Check-in'] == '2019-08']['Receita bruta estimada'].sum(),df[df['Check-in'] == '2019-09']['Receita bruta estimada'].sum(),\n",
    "                  df[df['Check-in'] == '2019-10']['Receita bruta estimada'].sum(),df[df['Check-in'] == '2019-11']['Receita bruta estimada'].sum()]\n",
    "premissas['Receita Total'] = Receita_Total"
   ]
  },
  {
   "cell_type": "code",
   "execution_count": 366,
   "metadata": {},
   "outputs": [
    {
     "data": {
      "image/png": "[encoded data removed]",
      "text/plain": [
       "<Figure size 864x576 with 1 Axes>"
      ]
     },
     "metadata": {},
     "output_type": "display_data"
    }
   ],
   "source": [
    "fig, ax = plt.subplots(figsize=(12,8))\n",
    "plt.plot(premissas['Receita Total'])\n",
    "plt.title('Receita Total');"
   ]
  },
  {
   "cell_type": "markdown",
   "metadata": {},
   "source": [
    "Podemos notar um crescimento da receita no decorrer dos meses"
   ]
  },
  {
   "cell_type": "markdown",
   "metadata": {},
   "source": [
    "### Lucro"
   ]
  },
  {
   "cell_type": "markdown",
   "metadata": {},
   "source": [
    "* **Lucro de cada mês**"
   ]
  },
  {
   "cell_type": "code",
   "execution_count": 367,
   "metadata": {},
   "outputs": [
    {
     "data": {
      "text/html": [
       "<div>\n",
       "<style scoped>\n",
       "    .dataframe tbody tr th:only-of-type {\n",
       "        vertical-align: middle;\n",
       "    }\n",
       "\n",
       "    .dataframe tbody tr th {\n",
       "        vertical-align: top;\n",
       "    }\n",
       "\n",
       "    .dataframe thead th {\n",
       "        text-align: right;\n",
       "    }\n",
       "</style>\n",
       "<table border=\"1\" class=\"dataframe\">\n",
       "  <thead>\n",
       "    <tr style=\"text-align: right;\">\n",
       "      <th></th>\n",
       "      <th>Lucro</th>\n",
       "    </tr>\n",
       "  </thead>\n",
       "  <tbody>\n",
       "    <tr>\n",
       "      <th>2019-02</th>\n",
       "      <td>-4885.686225</td>\n",
       "    </tr>\n",
       "    <tr>\n",
       "      <th>2019-03</th>\n",
       "      <td>1138.982550</td>\n",
       "    </tr>\n",
       "    <tr>\n",
       "      <th>2019-04</th>\n",
       "      <td>-1478.142375</td>\n",
       "    </tr>\n",
       "    <tr>\n",
       "      <th>2019-05</th>\n",
       "      <td>3378.924375</td>\n",
       "    </tr>\n",
       "    <tr>\n",
       "      <th>2019-06</th>\n",
       "      <td>11689.365375</td>\n",
       "    </tr>\n",
       "    <tr>\n",
       "      <th>2019-07</th>\n",
       "      <td>17952.643500</td>\n",
       "    </tr>\n",
       "    <tr>\n",
       "      <th>2019-08</th>\n",
       "      <td>13460.217750</td>\n",
       "    </tr>\n",
       "    <tr>\n",
       "      <th>2019-09</th>\n",
       "      <td>19837.711500</td>\n",
       "    </tr>\n",
       "    <tr>\n",
       "      <th>2019-10</th>\n",
       "      <td>6502.188630</td>\n",
       "    </tr>\n",
       "    <tr>\n",
       "      <th>2019-11</th>\n",
       "      <td>22007.819153</td>\n",
       "    </tr>\n",
       "  </tbody>\n",
       "</table>\n",
       "</div>"
      ],
      "text/plain": [
       "                Lucro\n",
       "2019-02  -4885.686225\n",
       "2019-03   1138.982550\n",
       "2019-04  -1478.142375\n",
       "2019-05   3378.924375\n",
       "2019-06  11689.365375\n",
       "2019-07  17952.643500\n",
       "2019-08  13460.217750\n",
       "2019-09  19837.711500\n",
       "2019-10   6502.188630\n",
       "2019-11  22007.819153"
      ]
     },
     "execution_count": 367,
     "metadata": {},
     "output_type": "execute_result"
    }
   ],
   "source": [
    "premissas['Lucro'] = premissas['Receita Total']-premissas['Custo Total']\n",
    "premissas[['Lucro']]"
   ]
  },
  {
   "cell_type": "markdown",
   "metadata": {},
   "source": [
    "### Visualizando o Lucro de cada mês"
   ]
  },
  {
   "cell_type": "code",
   "execution_count": 368,
   "metadata": {},
   "outputs": [
    {
     "data": {
      "image/png": "[encoded data removed]",
      "text/plain": [
       "<Figure size 576x432 with 1 Axes>"
      ]
     },
     "metadata": {},
     "output_type": "display_data"
    }
   ],
   "source": [
    "plt.figure(figsize=(8,6)) \n",
    "premissas['Lucro'].plot(kind='bar', color = ['red' if i<0 else 'blue' for i in premissas['Lucro']]); \n",
    "plt.title('Lucro',fontsize=20);"
   ]
  },
  {
   "cell_type": "markdown",
   "metadata": {},
   "source": [
    "### Retorno sobre investimento (ROI)"
   ]
  },
  {
   "cell_type": "code",
   "execution_count": 369,
   "metadata": {},
   "outputs": [
    {
     "data": {
      "text/plain": [
       "2019-02   -62.42\n",
       "2019-03    13.89\n",
       "2019-04   -11.90\n",
       "2019-05    21.65\n",
       "2019-06    33.56\n",
       "2019-07    49.66\n",
       "2019-08    25.41\n",
       "2019-09    37.42\n",
       "2019-10    12.51\n",
       "2019-11    33.22\n",
       "dtype: float64"
      ]
     },
     "execution_count": 369,
     "metadata": {},
     "output_type": "execute_result"
    }
   ],
   "source": [
    "ROI = (((premissas['Receita Total']-premissas['Custo Total'])/premissas['Custo Total'])*100).round(2)\n",
    "ROI"
   ]
  },
  {
   "cell_type": "markdown",
   "metadata": {},
   "source": [
    "Podemos notar que os meses 02 e 04 obtiveram um ROI negativo, i.e., o investimento nestes meses fez o negócio perder dinheiro.\n",
    "Contudo, nos demais meses temos o ROI positivo, ou seja, o negócio teve ganho. Podendo destacar os meses 06,07,09 e 11 os quais o negócio teve um retorno sobre o investimento de mais de 30%. \n",
    "\n",
    "Além disso, podemos observar que em nenhum mês, o negócio faturou acima de 50%. "
   ]
  },
  {
   "cell_type": "markdown",
   "metadata": {},
   "source": [
    "* Adicionando o volume de reservas de cada mês"
   ]
  },
  {
   "cell_type": "code",
   "execution_count": 370,
   "metadata": {},
   "outputs": [],
   "source": [
    "premissas['Volume Reserva'] = df_cont['Count']"
   ]
  },
  {
   "cell_type": "code",
   "execution_count": 371,
   "metadata": {},
   "outputs": [
    {
     "data": {
      "text/plain": [
       "2019-02     96\n",
       "2019-03    104\n",
       "2019-04    122\n",
       "2019-05    224\n",
       "2019-06    527\n",
       "2019-07    517\n",
       "2019-08    678\n",
       "2019-09    656\n",
       "2019-10    667\n",
       "2019-11    682\n",
       "Name: Volume Reserva, dtype: int64"
      ]
     },
     "execution_count": 371,
     "metadata": {},
     "output_type": "execute_result"
    }
   ],
   "source": [
    "premissas['Volume Reserva']"
   ]
  },
  {
   "cell_type": "code",
   "execution_count": 372,
   "metadata": {},
   "outputs": [
    {
     "name": "stdout",
     "output_type": "stream",
     "text": [
      "Estadia disponível para 170 unidades em 12/2019: 5270\n",
      "Estadia disponível para 200 unidades em 01/2020 6200\n"
     ]
    }
   ],
   "source": [
    "print('Estadia disponível para 170 unidades em 12/2019:',estadia_disponivel(170,12))\n",
    "print('Estadia disponível para 200 unidades em 01/2020',estadia_disponivel(200,1))"
   ]
  },
  {
   "cell_type": "code",
   "execution_count": 373,
   "metadata": {},
   "outputs": [
    {
     "data": {
      "text/html": [
       "<div>\n",
       "<style scoped>\n",
       "    .dataframe tbody tr th:only-of-type {\n",
       "        vertical-align: middle;\n",
       "    }\n",
       "\n",
       "    .dataframe tbody tr th {\n",
       "        vertical-align: top;\n",
       "    }\n",
       "\n",
       "    .dataframe thead th {\n",
       "        text-align: right;\n",
       "    }\n",
       "</style>\n",
       "<table border=\"1\" class=\"dataframe\">\n",
       "  <thead>\n",
       "    <tr style=\"text-align: right;\">\n",
       "      <th></th>\n",
       "      <th>Unidades disponíveis</th>\n",
       "      <th>Taxa de crescimento do custo por unidade</th>\n",
       "      <th>Custo operacional por unidade</th>\n",
       "      <th>Estadia disponível</th>\n",
       "      <th>Ocupação</th>\n",
       "      <th>Taxa de Ocupação %</th>\n",
       "      <th>Custo Total</th>\n",
       "      <th>Receita Total</th>\n",
       "      <th>Lucro</th>\n",
       "      <th>Volume Reserva</th>\n",
       "    </tr>\n",
       "  </thead>\n",
       "  <tbody>\n",
       "    <tr>\n",
       "      <th>2019-02</th>\n",
       "      <td>10</td>\n",
       "      <td>-</td>\n",
       "      <td>782.670735</td>\n",
       "      <td>280</td>\n",
       "      <td>116</td>\n",
       "      <td>41.43</td>\n",
       "      <td>7826.707350</td>\n",
       "      <td>2941.021125</td>\n",
       "      <td>-4885.686225</td>\n",
       "      <td>96</td>\n",
       "    </tr>\n",
       "    <tr>\n",
       "      <th>2019-03</th>\n",
       "      <td>11</td>\n",
       "      <td>-0.05</td>\n",
       "      <td>745.400700</td>\n",
       "      <td>341</td>\n",
       "      <td>308</td>\n",
       "      <td>90.32</td>\n",
       "      <td>8199.407700</td>\n",
       "      <td>9338.390250</td>\n",
       "      <td>1138.982550</td>\n",
       "      <td>104</td>\n",
       "    </tr>\n",
       "    <tr>\n",
       "      <th>2019-04</th>\n",
       "      <td>17</td>\n",
       "      <td>-0.02</td>\n",
       "      <td>730.785000</td>\n",
       "      <td>510</td>\n",
       "      <td>344</td>\n",
       "      <td>67.45</td>\n",
       "      <td>12423.345000</td>\n",
       "      <td>10945.202625</td>\n",
       "      <td>-1478.142375</td>\n",
       "      <td>122</td>\n",
       "    </tr>\n",
       "    <tr>\n",
       "      <th>2019-05</th>\n",
       "      <td>22</td>\n",
       "      <td>-0.03</td>\n",
       "      <td>709.500000</td>\n",
       "      <td>682</td>\n",
       "      <td>552</td>\n",
       "      <td>80.94</td>\n",
       "      <td>15609.000000</td>\n",
       "      <td>18987.924375</td>\n",
       "      <td>3378.924375</td>\n",
       "      <td>224</td>\n",
       "    </tr>\n",
       "    <tr>\n",
       "      <th>2019-06</th>\n",
       "      <td>54</td>\n",
       "      <td>-0.1</td>\n",
       "      <td>645.000000</td>\n",
       "      <td>1620</td>\n",
       "      <td>1371</td>\n",
       "      <td>84.63</td>\n",
       "      <td>34830.000000</td>\n",
       "      <td>46519.365375</td>\n",
       "      <td>11689.365375</td>\n",
       "      <td>527</td>\n",
       "    </tr>\n",
       "    <tr>\n",
       "      <th>2019-07</th>\n",
       "      <td>59</td>\n",
       "      <td>-0.05</td>\n",
       "      <td>612.750000</td>\n",
       "      <td>1829</td>\n",
       "      <td>1534</td>\n",
       "      <td>83.87</td>\n",
       "      <td>36152.250000</td>\n",
       "      <td>54104.893500</td>\n",
       "      <td>17952.643500</td>\n",
       "      <td>517</td>\n",
       "    </tr>\n",
       "    <tr>\n",
       "      <th>2019-08</th>\n",
       "      <td>91</td>\n",
       "      <td>-0.05</td>\n",
       "      <td>582.112500</td>\n",
       "      <td>2821</td>\n",
       "      <td>1785</td>\n",
       "      <td>63.28</td>\n",
       "      <td>52972.237500</td>\n",
       "      <td>66432.455250</td>\n",
       "      <td>13460.217750</td>\n",
       "      <td>678</td>\n",
       "    </tr>\n",
       "    <tr>\n",
       "      <th>2019-09</th>\n",
       "      <td>92</td>\n",
       "      <td>-0.01</td>\n",
       "      <td>576.291375</td>\n",
       "      <td>2760</td>\n",
       "      <td>2112</td>\n",
       "      <td>76.52</td>\n",
       "      <td>53018.806500</td>\n",
       "      <td>72856.518000</td>\n",
       "      <td>19837.711500</td>\n",
       "      <td>656</td>\n",
       "    </tr>\n",
       "    <tr>\n",
       "      <th>2019-10</th>\n",
       "      <td>92</td>\n",
       "      <td>-0.02</td>\n",
       "      <td>564.765547</td>\n",
       "      <td>2852</td>\n",
       "      <td>1739</td>\n",
       "      <td>60.97</td>\n",
       "      <td>51958.430370</td>\n",
       "      <td>58460.619000</td>\n",
       "      <td>6502.188630</td>\n",
       "      <td>667</td>\n",
       "    </tr>\n",
       "    <tr>\n",
       "      <th>2019-11</th>\n",
       "      <td>138</td>\n",
       "      <td>-0.15</td>\n",
       "      <td>480.050715</td>\n",
       "      <td>4140</td>\n",
       "      <td>2262</td>\n",
       "      <td>54.64</td>\n",
       "      <td>66246.998722</td>\n",
       "      <td>88254.817875</td>\n",
       "      <td>22007.819153</td>\n",
       "      <td>682</td>\n",
       "    </tr>\n",
       "  </tbody>\n",
       "</table>\n",
       "</div>"
      ],
      "text/plain": [
       "         Unidades disponíveis Taxa de crescimento do custo por unidade  \\\n",
       "2019-02                    10                                        -   \n",
       "2019-03                    11                                    -0.05   \n",
       "2019-04                    17                                    -0.02   \n",
       "2019-05                    22                                    -0.03   \n",
       "2019-06                    54                                     -0.1   \n",
       "2019-07                    59                                    -0.05   \n",
       "2019-08                    91                                    -0.05   \n",
       "2019-09                    92                                    -0.01   \n",
       "2019-10                    92                                    -0.02   \n",
       "2019-11                   138                                    -0.15   \n",
       "\n",
       "         Custo operacional por unidade  Estadia disponível  Ocupação  \\\n",
       "2019-02                     782.670735                 280       116   \n",
       "2019-03                     745.400700                 341       308   \n",
       "2019-04                     730.785000                 510       344   \n",
       "2019-05                     709.500000                 682       552   \n",
       "2019-06                     645.000000                1620      1371   \n",
       "2019-07                     612.750000                1829      1534   \n",
       "2019-08                     582.112500                2821      1785   \n",
       "2019-09                     576.291375                2760      2112   \n",
       "2019-10                     564.765547                2852      1739   \n",
       "2019-11                     480.050715                4140      2262   \n",
       "\n",
       "         Taxa de Ocupação %   Custo Total  Receita Total         Lucro  \\\n",
       "2019-02               41.43   7826.707350    2941.021125  -4885.686225   \n",
       "2019-03               90.32   8199.407700    9338.390250   1138.982550   \n",
       "2019-04               67.45  12423.345000   10945.202625  -1478.142375   \n",
       "2019-05               80.94  15609.000000   18987.924375   3378.924375   \n",
       "2019-06               84.63  34830.000000   46519.365375  11689.365375   \n",
       "2019-07               83.87  36152.250000   54104.893500  17952.643500   \n",
       "2019-08               63.28  52972.237500   66432.455250  13460.217750   \n",
       "2019-09               76.52  53018.806500   72856.518000  19837.711500   \n",
       "2019-10               60.97  51958.430370   58460.619000   6502.188630   \n",
       "2019-11               54.64  66246.998722   88254.817875  22007.819153   \n",
       "\n",
       "         Volume Reserva  \n",
       "2019-02              96  \n",
       "2019-03             104  \n",
       "2019-04             122  \n",
       "2019-05             224  \n",
       "2019-06             527  \n",
       "2019-07             517  \n",
       "2019-08             678  \n",
       "2019-09             656  \n",
       "2019-10             667  \n",
       "2019-11             682  "
      ]
     },
     "execution_count": 373,
     "metadata": {},
     "output_type": "execute_result"
    }
   ],
   "source": [
    "premissas"
   ]
  },
  {
   "cell_type": "markdown",
   "metadata": {},
   "source": [
    "### O volume de Reserva de [12-2019, 12-2020] é:"
   ]
  },
  {
   "cell_type": "code",
   "execution_count": 374,
   "metadata": {},
   "outputs": [
    {
     "data": {
      "text/html": [
       "<div>\n",
       "<style scoped>\n",
       "    .dataframe tbody tr th:only-of-type {\n",
       "        vertical-align: middle;\n",
       "    }\n",
       "\n",
       "    .dataframe tbody tr th {\n",
       "        vertical-align: top;\n",
       "    }\n",
       "\n",
       "    .dataframe thead th {\n",
       "        text-align: right;\n",
       "    }\n",
       "</style>\n",
       "<table border=\"1\" class=\"dataframe\">\n",
       "  <thead>\n",
       "    <tr style=\"text-align: right;\">\n",
       "      <th></th>\n",
       "      <th>Mes</th>\n",
       "      <th>reg_linear</th>\n",
       "      <th>media_movel</th>\n",
       "      <th>ARMA</th>\n",
       "      <th>ARIMA</th>\n",
       "    </tr>\n",
       "  </thead>\n",
       "  <tbody>\n",
       "    <tr>\n",
       "      <th>2019-12</th>\n",
       "      <td>12-2019</td>\n",
       "      <td>868</td>\n",
       "      <td>674</td>\n",
       "      <td>620</td>\n",
       "      <td>653</td>\n",
       "    </tr>\n",
       "    <tr>\n",
       "      <th>2020-01</th>\n",
       "      <td>01-2020</td>\n",
       "      <td>948</td>\n",
       "      <td>668</td>\n",
       "      <td>558</td>\n",
       "      <td>628</td>\n",
       "    </tr>\n",
       "  </tbody>\n",
       "</table>\n",
       "</div>"
      ],
      "text/plain": [
       "             Mes  reg_linear  media_movel  ARMA  ARIMA\n",
       "2019-12  12-2019         868          674   620    653\n",
       "2020-01  01-2020         948          668   558    628"
      ]
     },
     "execution_count": 374,
     "metadata": {},
     "output_type": "execute_result"
    }
   ],
   "source": [
    "foracasts"
   ]
  },
  {
   "cell_type": "code",
   "execution_count": 375,
   "metadata": {},
   "outputs": [
    {
     "data": {
      "text/plain": [
       "653"
      ]
     },
     "execution_count": 375,
     "metadata": {},
     "output_type": "execute_result"
    }
   ],
   "source": [
    "foracasts.loc['2019-12','ARIMA']"
   ]
  },
  {
   "cell_type": "markdown",
   "metadata": {},
   "source": [
    "## Variáveis Correlacionadas\n"
   ]
  },
  {
   "cell_type": "code",
   "execution_count": 376,
   "metadata": {},
   "outputs": [
    {
     "data": {
      "image/png": "[encoded data removed]",
      "text/plain": [
       "<Figure size 1080x720 with 4 Axes>"
      ]
     },
     "metadata": {},
     "output_type": "display_data"
    }
   ],
   "source": [
    "plt.figure(figsize=(15,10))\n",
    "plt.subplot(221)\n",
    "plt.scatter(premissas['Volume Reserva'],premissas['Ocupação'])\n",
    "#plt.title('Volume de Reserva versus Ocupação ',fontsize=10);\n",
    "plt.xlabel('Volume Reserva')\n",
    "plt.ylabel('Ocupação')\n",
    "#plt.show()\n",
    "plt.subplot(222)\n",
    "plt.scatter(premissas['Estadia disponível'],premissas['Ocupação'])\n",
    "#plt.title('Estadia disponível versus Ocupação',fontsize=10)\n",
    "plt.xlabel('Estadia Disponível')\n",
    "plt.ylabel('Ocupação')\n",
    "#plt.show()\n",
    "plt.subplot(223)\n",
    "plt.scatter(premissas['Unidades disponíveis'],premissas['Custo Total']);\n",
    "#plt.title('Unidades disponíveis versus Custo Total',fontsize=10);\n",
    "plt.xlabel('Unidade Disponível')\n",
    "plt.ylabel('Custo Total')\n",
    "#plt.show()\n",
    "plt.subplot(224)\n",
    "plt.scatter(premissas['Volume Reserva'], premissas['Receita Total'])\n",
    "#plt.title('Volume Reserva versus Receita Total',fontsize=10);\n",
    "plt.xlabel('Volume Reserva')\n",
    "plt.ylabel('Receita Total')\n",
    "plt.show()"
   ]
  },
  {
   "cell_type": "markdown",
   "metadata": {},
   "source": [
    "* **Regressão Linear**"
   ]
  },
  {
   "cell_type": "code",
   "execution_count": 377,
   "metadata": {},
   "outputs": [],
   "source": [
    "def reg_linear(X,y):\n",
    "    rl = LinearRegression()\n",
    "    return rl.fit(X,y)"
   ]
  },
  {
   "cell_type": "markdown",
   "metadata": {},
   "source": [
    "## Prevendo **Ocupação, Custo Total** e **Receita Total** com Regressão Linear \n",
    "\n",
    "* _**Volume de Reserva** utilizado será o projetado pelo o modelo de **Média Móvel**_"
   ]
  },
  {
   "cell_type": "markdown",
   "metadata": {},
   "source": [
    "* Prevendo **ocupação** "
   ]
  },
  {
   "cell_type": "code",
   "execution_count": 379,
   "metadata": {},
   "outputs": [],
   "source": [
    "reg_lin_ocupacao = reg_linear(premissas[['Volume Reserva','Estadia disponível']],premissas[['Ocupação']]) "
   ]
  },
  {
   "cell_type": "code",
   "execution_count": 380,
   "metadata": {},
   "outputs": [
    {
     "name": "stdout",
     "output_type": "stream",
     "text": [
      "Ocupação mês de 12/2019:  2463.7764357983688\n",
      "Ocupação mês de 01/2020:  2653.5634263281227\n"
     ]
    }
   ],
   "source": [
    "ocupacao = []\n",
    "ocupacao.append(reg_lin_ocupacao.predict(np.array([674,estadia_disponivel(170,12)]).reshape(1,-1)))\n",
    "ocupacao.append(reg_lin_ocupacao.predict(np.array([668,estadia_disponivel(200,1)]).reshape(1,-1)))\n",
    "\n",
    "print('Ocupação mês de 12/2019: ', float(ocupacao[0])),\n",
    "print('Ocupação mês de 01/2020: ', float(ocupacao[1]))\n"
   ]
  },
  {
   "cell_type": "markdown",
   "metadata": {},
   "source": [
    "* Prevendo **custo total** com regressão linear"
   ]
  },
  {
   "cell_type": "code",
   "execution_count": 381,
   "metadata": {},
   "outputs": [],
   "source": [
    "reg_linear_CustoTotal = reg_linear(premissas[['Unidades disponíveis','Estadia disponível','Ocupação']].values,\n",
    "                                   premissas[['Custo Total']])"
   ]
  },
  {
   "cell_type": "code",
   "execution_count": 382,
   "metadata": {},
   "outputs": [
    {
     "name": "stdout",
     "output_type": "stream",
     "text": [
      "Custo Total mês de 12/2019:  84397.32494396655\n",
      "Custo Total mês de 01/2020:  96176.11861762867\n"
     ]
    },
    {
     "name": "stderr",
     "output_type": "stream",
     "text": [
      "C:\\Users\\Administrador\\Anaconda3\\lib\\site-packages\\ipykernel_launcher.py:3: VisibleDeprecationWarning:\n",
      "\n",
      "Creating an ndarray from ragged nested sequences (which is a list-or-tuple of lists-or-tuples-or ndarrays with different lengths or shapes) is deprecated. If you meant to do this, you must specify 'dtype=object' when creating the ndarray\n",
      "\n",
      "C:\\Users\\Administrador\\Anaconda3\\lib\\site-packages\\ipykernel_launcher.py:4: VisibleDeprecationWarning:\n",
      "\n",
      "Creating an ndarray from ragged nested sequences (which is a list-or-tuple of lists-or-tuples-or ndarrays with different lengths or shapes) is deprecated. If you meant to do this, you must specify 'dtype=object' when creating the ndarray\n",
      "\n"
     ]
    }
   ],
   "source": [
    "CustoTotal=[]\n",
    "\n",
    "CustoTotal.append(reg_linear_CustoTotal.predict(np.array([[170,estadia_disponivel(170,12),ocupacao[0]]])))\n",
    "CustoTotal.append(reg_linear_CustoTotal.predict(np.array([[200,estadia_disponivel(200,1),ocupacao[1]]])))\n",
    "\n",
    "print('Custo Total mês de 12/2019: ', float(CustoTotal[0])),\n",
    "print('Custo Total mês de 01/2020: ', float(CustoTotal[1]));"
   ]
  },
  {
   "cell_type": "markdown",
   "metadata": {},
   "source": [
    "* Prevendo **Receita Total** com regressão linear"
   ]
  },
  {
   "cell_type": "code",
   "execution_count": 383,
   "metadata": {},
   "outputs": [],
   "source": [
    "reg_linear_receita_total =reg_linear(premissas[['Unidades disponíveis','Estadia disponível','Ocupação','Custo Total']].values,\n",
    "                                     premissas[['Receita Total']])"
   ]
  },
  {
   "cell_type": "code",
   "execution_count": 384,
   "metadata": {},
   "outputs": [
    {
     "name": "stdout",
     "output_type": "stream",
     "text": [
      "Ocupação mês de 12/2019:  [[95848.81847186]]\n",
      "Ocupação mês de 01/2020:  [[105990.75545154]]\n"
     ]
    },
    {
     "name": "stderr",
     "output_type": "stream",
     "text": [
      "C:\\Users\\Administrador\\Anaconda3\\lib\\site-packages\\ipykernel_launcher.py:2: VisibleDeprecationWarning:\n",
      "\n",
      "Creating an ndarray from ragged nested sequences (which is a list-or-tuple of lists-or-tuples-or ndarrays with different lengths or shapes) is deprecated. If you meant to do this, you must specify 'dtype=object' when creating the ndarray\n",
      "\n",
      "C:\\Users\\Administrador\\Anaconda3\\lib\\site-packages\\ipykernel_launcher.py:3: VisibleDeprecationWarning:\n",
      "\n",
      "Creating an ndarray from ragged nested sequences (which is a list-or-tuple of lists-or-tuples-or ndarrays with different lengths or shapes) is deprecated. If you meant to do this, you must specify 'dtype=object' when creating the ndarray\n",
      "\n"
     ]
    }
   ],
   "source": [
    "ReceitaTotal = []\n",
    "ReceitaTotal.append(reg_linear_receita_total.predict(np.array([[170,estadia_disponivel(170,12),ocupacao[0],CustoTotal[0]]])))\n",
    "ReceitaTotal.append(reg_linear_receita_total.predict(np.array([[200,estadia_disponivel(200,12),ocupacao[1],CustoTotal[1]]])))\n",
    "\n",
    "\n",
    "print('Ocupação mês de 12/2019: ', ReceitaTotal[0]),\n",
    "print('Ocupação mês de 01/2020: ', ReceitaTotal[1]);"
   ]
  },
  {
   "cell_type": "markdown",
   "metadata": {},
   "source": [
    "* **Lucro**"
   ]
  },
  {
   "cell_type": "code",
   "execution_count": 385,
   "metadata": {},
   "outputs": [],
   "source": [
    "lucro = []\n",
    "lucro.append(float(ReceitaTotal[0]-CustoTotal[0]))\n",
    "lucro.append(float(ReceitaTotal[1]-CustoTotal[1]))"
   ]
  },
  {
   "cell_type": "markdown",
   "metadata": {},
   "source": [
    "## Expandindo o negócio para 200 unidades em 12-2019 e 01-2020:"
   ]
  },
  {
   "cell_type": "code",
   "execution_count": 386,
   "metadata": {},
   "outputs": [
    {
     "name": "stdout",
     "output_type": "stream",
     "text": [
      "LUCRO [11451.493527898405, 9814.63683390744]\n"
     ]
    }
   ],
   "source": [
    "print('LUCRO', lucro)"
   ]
  },
  {
   "cell_type": "code",
   "execution_count": 387,
   "metadata": {},
   "outputs": [
    {
     "data": {
      "text/plain": [
       "{'Mes': ['12-2019', '20-2020'],\n",
       " 'Lucro': [11451.493527898405, 9814.63683390744]}"
      ]
     },
     "execution_count": 387,
     "metadata": {},
     "output_type": "execute_result"
    }
   ],
   "source": [
    "col= {'Mes':['12-2019','20-2020'],'Lucro': lucro }\n",
    "col\n"
   ]
  },
  {
   "cell_type": "code",
   "execution_count": 388,
   "metadata": {},
   "outputs": [],
   "source": [
    "Lucro = pd.DataFrame(col)"
   ]
  },
  {
   "cell_type": "code",
   "execution_count": 389,
   "metadata": {},
   "outputs": [],
   "source": [
    "Lucro.index = Lucro['Mes']\n",
    "Lucro.drop('Mes',inplace=True,axis=1)"
   ]
  },
  {
   "cell_type": "code",
   "execution_count": 390,
   "metadata": {},
   "outputs": [
    {
     "data": {
      "text/html": [
       "<div>\n",
       "<style scoped>\n",
       "    .dataframe tbody tr th:only-of-type {\n",
       "        vertical-align: middle;\n",
       "    }\n",
       "\n",
       "    .dataframe tbody tr th {\n",
       "        vertical-align: top;\n",
       "    }\n",
       "\n",
       "    .dataframe thead th {\n",
       "        text-align: right;\n",
       "    }\n",
       "</style>\n",
       "<table border=\"1\" class=\"dataframe\">\n",
       "  <thead>\n",
       "    <tr style=\"text-align: right;\">\n",
       "      <th></th>\n",
       "      <th>Lucro</th>\n",
       "    </tr>\n",
       "    <tr>\n",
       "      <th>Mes</th>\n",
       "      <th></th>\n",
       "    </tr>\n",
       "  </thead>\n",
       "  <tbody>\n",
       "    <tr>\n",
       "      <th>12-2019</th>\n",
       "      <td>11451.493528</td>\n",
       "    </tr>\n",
       "    <tr>\n",
       "      <th>20-2020</th>\n",
       "      <td>9814.636834</td>\n",
       "    </tr>\n",
       "  </tbody>\n",
       "</table>\n",
       "</div>"
      ],
      "text/plain": [
       "                Lucro\n",
       "Mes                  \n",
       "12-2019  11451.493528\n",
       "20-2020   9814.636834"
      ]
     },
     "execution_count": 390,
     "metadata": {},
     "output_type": "execute_result"
    }
   ],
   "source": [
    "Lucro"
   ]
  },
  {
   "cell_type": "code",
   "execution_count": 391,
   "metadata": {},
   "outputs": [
    {
     "data": {
      "image/png": "[encoded data removed]",
      "text/plain": [
       "<Figure size 576x432 with 1 Axes>"
      ]
     },
     "metadata": {},
     "output_type": "display_data"
    }
   ],
   "source": [
    "Lucro['Lucro'].plot(kind='bar', color = ['blue']); \n",
    "plt.title('Lucro',fontsize=20);"
   ]
  },
  {
   "cell_type": "markdown",
   "metadata": {},
   "source": [
    "## Prevendo o Lucro utilizando o Volume de Reserva projetado por cada modelo"
   ]
  },
  {
   "cell_type": "code",
   "execution_count": 392,
   "metadata": {},
   "outputs": [],
   "source": [
    "def ocupacao(vol_reserva,n_unid,mes):\n",
    "    return reg_lin_ocupacao.predict(np.array([vol_reserva,estadia_disponivel(n_unid,mes)]).reshape(1,-1))\n",
    "def custo_total(vol_reserva,n_unid,mes):\n",
    "    return reg_linear_CustoTotal.predict(np.array([[n_unid,estadia_disponivel(n_unid,mes),\n",
    "                                                    ocupacao(vol_reserva,n_unid,mes)]]))\n",
    "def receita_total(vol_reserva,n_unid,mes):\n",
    "    return reg_linear_receita_total.predict(np.array([[n_unid,estadia_disponivel(n_unid,mes), ocupacao(vol_reserva,n_unid,mes),\n",
    "                                                       custo_total(vol_reserva,n_unid,mes)]]))\n",
    "def lucro(vol_reserva,n_unid,mes):\n",
    "    return float(receita_total(vol_reserva,n_unid,mes)-custo_total(vol_reserva,n_unid,mes))\n"
   ]
  },
  {
   "cell_type": "code",
   "execution_count": 393,
   "metadata": {},
   "outputs": [
    {
     "name": "stderr",
     "output_type": "stream",
     "text": [
      "C:\\Users\\Administrador\\Anaconda3\\lib\\site-packages\\ipykernel_launcher.py:5: VisibleDeprecationWarning:\n",
      "\n",
      "Creating an ndarray from ragged nested sequences (which is a list-or-tuple of lists-or-tuples-or ndarrays with different lengths or shapes) is deprecated. If you meant to do this, you must specify 'dtype=object' when creating the ndarray\n",
      "\n",
      "C:\\Users\\Administrador\\Anaconda3\\lib\\site-packages\\ipykernel_launcher.py:8: VisibleDeprecationWarning:\n",
      "\n",
      "Creating an ndarray from ragged nested sequences (which is a list-or-tuple of lists-or-tuples-or ndarrays with different lengths or shapes) is deprecated. If you meant to do this, you must specify 'dtype=object' when creating the ndarray\n",
      "\n",
      "C:\\Users\\Administrador\\Anaconda3\\lib\\site-packages\\ipykernel_launcher.py:5: VisibleDeprecationWarning:\n",
      "\n",
      "Creating an ndarray from ragged nested sequences (which is a list-or-tuple of lists-or-tuples-or ndarrays with different lengths or shapes) is deprecated. If you meant to do this, you must specify 'dtype=object' when creating the ndarray\n",
      "\n",
      "C:\\Users\\Administrador\\Anaconda3\\lib\\site-packages\\ipykernel_launcher.py:5: VisibleDeprecationWarning:\n",
      "\n",
      "Creating an ndarray from ragged nested sequences (which is a list-or-tuple of lists-or-tuples-or ndarrays with different lengths or shapes) is deprecated. If you meant to do this, you must specify 'dtype=object' when creating the ndarray\n",
      "\n",
      "C:\\Users\\Administrador\\Anaconda3\\lib\\site-packages\\ipykernel_launcher.py:8: VisibleDeprecationWarning:\n",
      "\n",
      "Creating an ndarray from ragged nested sequences (which is a list-or-tuple of lists-or-tuples-or ndarrays with different lengths or shapes) is deprecated. If you meant to do this, you must specify 'dtype=object' when creating the ndarray\n",
      "\n",
      "C:\\Users\\Administrador\\Anaconda3\\lib\\site-packages\\ipykernel_launcher.py:5: VisibleDeprecationWarning:\n",
      "\n",
      "Creating an ndarray from ragged nested sequences (which is a list-or-tuple of lists-or-tuples-or ndarrays with different lengths or shapes) is deprecated. If you meant to do this, you must specify 'dtype=object' when creating the ndarray\n",
      "\n",
      "C:\\Users\\Administrador\\Anaconda3\\lib\\site-packages\\ipykernel_launcher.py:5: VisibleDeprecationWarning:\n",
      "\n",
      "Creating an ndarray from ragged nested sequences (which is a list-or-tuple of lists-or-tuples-or ndarrays with different lengths or shapes) is deprecated. If you meant to do this, you must specify 'dtype=object' when creating the ndarray\n",
      "\n",
      "C:\\Users\\Administrador\\Anaconda3\\lib\\site-packages\\ipykernel_launcher.py:8: VisibleDeprecationWarning:\n",
      "\n",
      "Creating an ndarray from ragged nested sequences (which is a list-or-tuple of lists-or-tuples-or ndarrays with different lengths or shapes) is deprecated. If you meant to do this, you must specify 'dtype=object' when creating the ndarray\n",
      "\n",
      "C:\\Users\\Administrador\\Anaconda3\\lib\\site-packages\\ipykernel_launcher.py:5: VisibleDeprecationWarning:\n",
      "\n",
      "Creating an ndarray from ragged nested sequences (which is a list-or-tuple of lists-or-tuples-or ndarrays with different lengths or shapes) is deprecated. If you meant to do this, you must specify 'dtype=object' when creating the ndarray\n",
      "\n",
      "C:\\Users\\Administrador\\Anaconda3\\lib\\site-packages\\ipykernel_launcher.py:5: VisibleDeprecationWarning:\n",
      "\n",
      "Creating an ndarray from ragged nested sequences (which is a list-or-tuple of lists-or-tuples-or ndarrays with different lengths or shapes) is deprecated. If you meant to do this, you must specify 'dtype=object' when creating the ndarray\n",
      "\n",
      "C:\\Users\\Administrador\\Anaconda3\\lib\\site-packages\\ipykernel_launcher.py:8: VisibleDeprecationWarning:\n",
      "\n",
      "Creating an ndarray from ragged nested sequences (which is a list-or-tuple of lists-or-tuples-or ndarrays with different lengths or shapes) is deprecated. If you meant to do this, you must specify 'dtype=object' when creating the ndarray\n",
      "\n",
      "C:\\Users\\Administrador\\Anaconda3\\lib\\site-packages\\ipykernel_launcher.py:5: VisibleDeprecationWarning:\n",
      "\n",
      "Creating an ndarray from ragged nested sequences (which is a list-or-tuple of lists-or-tuples-or ndarrays with different lengths or shapes) is deprecated. If you meant to do this, you must specify 'dtype=object' when creating the ndarray\n",
      "\n",
      "C:\\Users\\Administrador\\Anaconda3\\lib\\site-packages\\ipykernel_launcher.py:5: VisibleDeprecationWarning:\n",
      "\n",
      "Creating an ndarray from ragged nested sequences (which is a list-or-tuple of lists-or-tuples-or ndarrays with different lengths or shapes) is deprecated. If you meant to do this, you must specify 'dtype=object' when creating the ndarray\n",
      "\n",
      "C:\\Users\\Administrador\\Anaconda3\\lib\\site-packages\\ipykernel_launcher.py:8: VisibleDeprecationWarning:\n",
      "\n",
      "Creating an ndarray from ragged nested sequences (which is a list-or-tuple of lists-or-tuples-or ndarrays with different lengths or shapes) is deprecated. If you meant to do this, you must specify 'dtype=object' when creating the ndarray\n",
      "\n",
      "C:\\Users\\Administrador\\Anaconda3\\lib\\site-packages\\ipykernel_launcher.py:5: VisibleDeprecationWarning:\n",
      "\n",
      "Creating an ndarray from ragged nested sequences (which is a list-or-tuple of lists-or-tuples-or ndarrays with different lengths or shapes) is deprecated. If you meant to do this, you must specify 'dtype=object' when creating the ndarray\n",
      "\n",
      "C:\\Users\\Administrador\\Anaconda3\\lib\\site-packages\\ipykernel_launcher.py:5: VisibleDeprecationWarning:\n",
      "\n",
      "Creating an ndarray from ragged nested sequences (which is a list-or-tuple of lists-or-tuples-or ndarrays with different lengths or shapes) is deprecated. If you meant to do this, you must specify 'dtype=object' when creating the ndarray\n",
      "\n",
      "C:\\Users\\Administrador\\Anaconda3\\lib\\site-packages\\ipykernel_launcher.py:8: VisibleDeprecationWarning:\n",
      "\n",
      "Creating an ndarray from ragged nested sequences (which is a list-or-tuple of lists-or-tuples-or ndarrays with different lengths or shapes) is deprecated. If you meant to do this, you must specify 'dtype=object' when creating the ndarray\n",
      "\n",
      "C:\\Users\\Administrador\\Anaconda3\\lib\\site-packages\\ipykernel_launcher.py:5: VisibleDeprecationWarning:\n",
      "\n",
      "Creating an ndarray from ragged nested sequences (which is a list-or-tuple of lists-or-tuples-or ndarrays with different lengths or shapes) is deprecated. If you meant to do this, you must specify 'dtype=object' when creating the ndarray\n",
      "\n",
      "C:\\Users\\Administrador\\Anaconda3\\lib\\site-packages\\ipykernel_launcher.py:5: VisibleDeprecationWarning:\n",
      "\n",
      "Creating an ndarray from ragged nested sequences (which is a list-or-tuple of lists-or-tuples-or ndarrays with different lengths or shapes) is deprecated. If you meant to do this, you must specify 'dtype=object' when creating the ndarray\n",
      "\n",
      "C:\\Users\\Administrador\\Anaconda3\\lib\\site-packages\\ipykernel_launcher.py:8: VisibleDeprecationWarning:\n",
      "\n",
      "Creating an ndarray from ragged nested sequences (which is a list-or-tuple of lists-or-tuples-or ndarrays with different lengths or shapes) is deprecated. If you meant to do this, you must specify 'dtype=object' when creating the ndarray\n",
      "\n",
      "C:\\Users\\Administrador\\Anaconda3\\lib\\site-packages\\ipykernel_launcher.py:5: VisibleDeprecationWarning:\n",
      "\n",
      "Creating an ndarray from ragged nested sequences (which is a list-or-tuple of lists-or-tuples-or ndarrays with different lengths or shapes) is deprecated. If you meant to do this, you must specify 'dtype=object' when creating the ndarray\n",
      "\n",
      "C:\\Users\\Administrador\\Anaconda3\\lib\\site-packages\\ipykernel_launcher.py:5: VisibleDeprecationWarning:\n",
      "\n",
      "Creating an ndarray from ragged nested sequences (which is a list-or-tuple of lists-or-tuples-or ndarrays with different lengths or shapes) is deprecated. If you meant to do this, you must specify 'dtype=object' when creating the ndarray\n",
      "\n",
      "C:\\Users\\Administrador\\Anaconda3\\lib\\site-packages\\ipykernel_launcher.py:8: VisibleDeprecationWarning:\n",
      "\n",
      "Creating an ndarray from ragged nested sequences (which is a list-or-tuple of lists-or-tuples-or ndarrays with different lengths or shapes) is deprecated. If you meant to do this, you must specify 'dtype=object' when creating the ndarray\n",
      "\n",
      "C:\\Users\\Administrador\\Anaconda3\\lib\\site-packages\\ipykernel_launcher.py:5: VisibleDeprecationWarning:\n",
      "\n",
      "Creating an ndarray from ragged nested sequences (which is a list-or-tuple of lists-or-tuples-or ndarrays with different lengths or shapes) is deprecated. If you meant to do this, you must specify 'dtype=object' when creating the ndarray\n",
      "\n"
     ]
    }
   ],
   "source": [
    "lucro_cd_model = {'Mes':['12-2019','01-2020'], \n",
    "            'reg_linear':[lucro(foracasts.loc['2019-12','reg_linear'], 170,12),\n",
    "                          lucro(foracasts.loc['2020-01','reg_linear'], 200,1)],\n",
    "            'media_movel':[lucro(foracasts.loc['2019-12','media_movel'], 170,12),\n",
    "                           lucro(foracasts.loc['2020-01','media_movel'],200,1)],\n",
    "            'ARMA':[lucro(foracasts.loc['2019-12','ARMA'], 170,12),\n",
    "                    lucro(foracasts.loc['2020-01','ARMA'], 200,1)],\n",
    "            'ARIMA':[lucro(foracasts.loc['2019-12','ARIMA'], 170,12),\n",
    "                     lucro(foracasts.loc['2020-01','ARIMA'], 200,1)]};"
   ]
  },
  {
   "cell_type": "code",
   "execution_count": 394,
   "metadata": {},
   "outputs": [],
   "source": [
    "lucro_cd_model = pd.DataFrame(lucro_cd_model)\n",
    "lucro_cd_model.index=['2019-12','2020-01']"
   ]
  },
  {
   "cell_type": "markdown",
   "metadata": {},
   "source": [
    "* Projeção do Lucro a partir do volume de reserva projetado por cada modelo"
   ]
  },
  {
   "cell_type": "code",
   "execution_count": 395,
   "metadata": {},
   "outputs": [
    {
     "data": {
      "image/png": "[encoded data removed]",
      "text/plain": [
       "<Figure size 576x432 with 1 Axes>"
      ]
     },
     "metadata": {},
     "output_type": "display_data"
    }
   ],
   "source": [
    "lucro_cd_model.plot.bar()\n",
    "plt.title('Projeção do Lucro',fontsize=20)\n",
    "plt.show()"
   ]
  }
 ],
 "metadata": {
  "colab": {
   "collapsed_sections": [],
   "name": "Desafio_DS.ipynb",
   "provenance": [],
   "toc_visible": true
  },
  "kernelspec": {
   "display_name": "Python 3",
   "language": "python",
   "name": "python3"
  },
  "language_info": {
   "codemirror_mode": {
    "name": "ipython",
    "version": 3
   },
   "file_extension": ".py",
   "mimetype": "text/x-python",
   "name": "python",
   "nbconvert_exporter": "python",
   "pygments_lexer": "ipython3",
   "version": "3.7.10"
  }
 },
 "nbformat": 4,
 "nbformat_minor": 1
}
