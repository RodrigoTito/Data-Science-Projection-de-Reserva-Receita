{
 "cells": [
  {
   "cell_type": "markdown",
   "metadata": {
    "colab_type": "text",
    "id": "Evz_8lA_nhwe"
   },
   "source": [
    "# **Projeto de Data Science**\n"
   ]
  },
  {
   "cell_type": "markdown",
   "metadata": {},
   "source": [
    "* **Bibliotecas**"
   ]
  },
  {
   "cell_type": "code",
   "execution_count": 352,
   "metadata": {
    "colab": {},
    "colab_type": "code",
    "id": "NK_U_hgjNdpa"
   },
   "outputs": [],
   "source": [
    "import pandas as pd\n",
    "import numpy as np\n",
    "import matplotlib.pyplot as plt\n",
    "import seaborn as sns\n",
    "import sklearn\n",
    "import datetime\n",
    "import statsmodels.api as sm"
   ]
  },
  {
   "cell_type": "code",
   "execution_count": 353,
   "metadata": {},
   "outputs": [],
   "source": [
    "from statsmodels.tsa.arima_model import ARIMA\n",
    "from sklearn.linear_model import LinearRegression\n",
    "\n",
    "from statsmodels.tsa.stattools import adfuller\n",
    "from sklearn.metrics import mean_squared_error\n",
    "from math import sqrt \n"
   ]
  },
  {
   "cell_type": "markdown",
   "metadata": {},
   "source": [
    "* **Algumas configurações para o matplotlib**"
   ]
  },
  {
   "cell_type": "code",
   "execution_count": 354,
   "metadata": {},
   "outputs": [],
   "source": [
    "%matplotlib inline\n",
    "\n",
    "from IPython.core.pylabtools import figsize\n",
    "\n",
    "\n",
    "figsize(8, 6)\n",
    "\n",
    "sns.set()"
   ]
  },
  {
   "cell_type": "markdown",
   "metadata": {},
   "source": [
    "### Importando o conjunto de dados"
   ]
  },
  {
   "cell_type": "code",
   "execution_count": 355,
   "metadata": {
    "colab": {
     "base_uri": "https://localhost:8080/",
     "height": 343
    },
    "colab_type": "code",
    "id": "pnr1H1ez8GAl",
    "outputId": "01aa95a2-ef4a-4ad3-c226-fdda2983ed16"
   },
   "outputs": [],
   "source": [
    "dados = pd.read_excel('Desafio_DS.xlsx', parse_dates=['Check-in', 'Check-out', 'Reservado'])"
   ]
  },
  {
   "cell_type": "markdown",
   "metadata": {},
   "source": [
    "## Uma visão inicial do conjunto de dados"
   ]
  },
  {
   "cell_type": "markdown",
   "metadata": {},
   "source": [
    "* **Tamanho do conjunto de dados**"
   ]
  },
  {
   "cell_type": "code",
   "execution_count": 356,
   "metadata": {},
   "outputs": [
    {
     "data": {
      "text/plain": [
       "(5192, 13)"
      ]
     },
     "execution_count": 356,
     "metadata": {},
     "output_type": "execute_result"
    }
   ],
   "source": [
    "dados.shape"
   ]
  },
  {
   "cell_type": "markdown",
   "metadata": {},
   "source": [
    "* **São 13 variáveis:**"
   ]
  },
  {
   "cell_type": "code",
   "execution_count": 357,
   "metadata": {},
   "outputs": [
    {
     "data": {
      "text/plain": [
       "Index(['Fonte_consolidada', 'Codigo da reserva', 'Nome do Hóspede', 'Status',\n",
       "       'Nº de pessoas', 'Nº de quartos', 'Check-in', 'Check-out', 'Reservado',\n",
       "       'Receita bruta estimada', 'Cod_pais', 'Cod_estado', 'Telefone_1'],\n",
       "      dtype='object')"
      ]
     },
     "execution_count": 357,
     "metadata": {},
     "output_type": "execute_result"
    }
   ],
   "source": [
    "dados.columns"
   ]
  },
  {
   "cell_type": "markdown",
   "metadata": {},
   "source": [
    "* **Tipo das variáveis**"
   ]
  },
  {
   "cell_type": "code",
   "execution_count": 358,
   "metadata": {},
   "outputs": [
    {
     "data": {
      "text/plain": [
       "float64           4\n",
       "int64             3\n",
       "object            3\n",
       "datetime64[ns]    3\n",
       "dtype: int64"
      ]
     },
     "execution_count": 358,
     "metadata": {},
     "output_type": "execute_result"
    }
   ],
   "source": [
    "dados.dtypes.value_counts()"
   ]
  },
  {
   "cell_type": "markdown",
   "metadata": {},
   "source": [
    "* **Visualizando o conjunto de dados**"
   ]
  },
  {
   "cell_type": "code",
   "execution_count": 709,
   "metadata": {},
   "outputs": [],
   "source": [
    "#dados.head()"
   ]
  },
  {
   "cell_type": "markdown",
   "metadata": {},
   "source": [
    "* **Um resumo de cada variável do conjunto de dados**"
   ]
  },
  {
   "cell_type": "code",
   "execution_count": 360,
   "metadata": {},
   "outputs": [
    {
     "data": {
      "text/html": [
       "<div>\n",
       "<style scoped>\n",
       "    .dataframe tbody tr th:only-of-type {\n",
       "        vertical-align: middle;\n",
       "    }\n",
       "\n",
       "    .dataframe tbody tr th {\n",
       "        vertical-align: top;\n",
       "    }\n",
       "\n",
       "    .dataframe thead th {\n",
       "        text-align: right;\n",
       "    }\n",
       "</style>\n",
       "<table border=\"1\" class=\"dataframe\">\n",
       "  <thead>\n",
       "    <tr style=\"text-align: right;\">\n",
       "      <th></th>\n",
       "      <th>Type</th>\n",
       "      <th>Missing</th>\n",
       "      <th>Size</th>\n",
       "      <th>Unique</th>\n",
       "      <th>Missing_%</th>\n",
       "    </tr>\n",
       "  </thead>\n",
       "  <tbody>\n",
       "    <tr>\n",
       "      <td>Cod_pais</td>\n",
       "      <td>float64</td>\n",
       "      <td>1231</td>\n",
       "      <td>5192</td>\n",
       "      <td>63</td>\n",
       "      <td>23.709553</td>\n",
       "    </tr>\n",
       "    <tr>\n",
       "      <td>Cod_estado</td>\n",
       "      <td>float64</td>\n",
       "      <td>1231</td>\n",
       "      <td>5192</td>\n",
       "      <td>204</td>\n",
       "      <td>23.709553</td>\n",
       "    </tr>\n",
       "    <tr>\n",
       "      <td>Telefone_1</td>\n",
       "      <td>float64</td>\n",
       "      <td>1196</td>\n",
       "      <td>5192</td>\n",
       "      <td>782</td>\n",
       "      <td>23.035439</td>\n",
       "    </tr>\n",
       "    <tr>\n",
       "      <td>Nome do Hóspede</td>\n",
       "      <td>object</td>\n",
       "      <td>107</td>\n",
       "      <td>5192</td>\n",
       "      <td>4569</td>\n",
       "      <td>2.060863</td>\n",
       "    </tr>\n",
       "    <tr>\n",
       "      <td>Fonte_consolidada</td>\n",
       "      <td>object</td>\n",
       "      <td>0</td>\n",
       "      <td>5192</td>\n",
       "      <td>2</td>\n",
       "      <td>0.000000</td>\n",
       "    </tr>\n",
       "    <tr>\n",
       "      <td>Codigo da reserva</td>\n",
       "      <td>int64</td>\n",
       "      <td>0</td>\n",
       "      <td>5192</td>\n",
       "      <td>5192</td>\n",
       "      <td>0.000000</td>\n",
       "    </tr>\n",
       "    <tr>\n",
       "      <td>Status</td>\n",
       "      <td>object</td>\n",
       "      <td>0</td>\n",
       "      <td>5192</td>\n",
       "      <td>2</td>\n",
       "      <td>0.000000</td>\n",
       "    </tr>\n",
       "    <tr>\n",
       "      <td>Nº de pessoas</td>\n",
       "      <td>int64</td>\n",
       "      <td>0</td>\n",
       "      <td>5192</td>\n",
       "      <td>7</td>\n",
       "      <td>0.000000</td>\n",
       "    </tr>\n",
       "    <tr>\n",
       "      <td>Nº de quartos</td>\n",
       "      <td>int64</td>\n",
       "      <td>0</td>\n",
       "      <td>5192</td>\n",
       "      <td>5</td>\n",
       "      <td>0.000000</td>\n",
       "    </tr>\n",
       "    <tr>\n",
       "      <td>Check-in</td>\n",
       "      <td>datetime64[ns]</td>\n",
       "      <td>0</td>\n",
       "      <td>5192</td>\n",
       "      <td>307</td>\n",
       "      <td>0.000000</td>\n",
       "    </tr>\n",
       "    <tr>\n",
       "      <td>Check-out</td>\n",
       "      <td>datetime64[ns]</td>\n",
       "      <td>0</td>\n",
       "      <td>5192</td>\n",
       "      <td>312</td>\n",
       "      <td>0.000000</td>\n",
       "    </tr>\n",
       "    <tr>\n",
       "      <td>Reservado</td>\n",
       "      <td>datetime64[ns]</td>\n",
       "      <td>0</td>\n",
       "      <td>5192</td>\n",
       "      <td>293</td>\n",
       "      <td>0.000000</td>\n",
       "    </tr>\n",
       "    <tr>\n",
       "      <td>Receita bruta estimada</td>\n",
       "      <td>float64</td>\n",
       "      <td>0</td>\n",
       "      <td>5192</td>\n",
       "      <td>1503</td>\n",
       "      <td>0.000000</td>\n",
       "    </tr>\n",
       "  </tbody>\n",
       "</table>\n",
       "</div>"
      ],
      "text/plain": [
       "                                  Type  Missing  Size  Unique  Missing_%\n",
       "Cod_pais                       float64     1231  5192      63  23.709553\n",
       "Cod_estado                     float64     1231  5192     204  23.709553\n",
       "Telefone_1                     float64     1196  5192     782  23.035439\n",
       "Nome do Hóspede                 object      107  5192    4569   2.060863\n",
       "Fonte_consolidada               object        0  5192       2   0.000000\n",
       "Codigo da reserva                int64        0  5192    5192   0.000000\n",
       "Status                          object        0  5192       2   0.000000\n",
       "Nº de pessoas                    int64        0  5192       7   0.000000\n",
       "Nº de quartos                    int64        0  5192       5   0.000000\n",
       "Check-in                datetime64[ns]        0  5192     307   0.000000\n",
       "Check-out               datetime64[ns]        0  5192     312   0.000000\n",
       "Reservado               datetime64[ns]        0  5192     293   0.000000\n",
       "Receita bruta estimada         float64        0  5192    1503   0.000000"
      ]
     },
     "execution_count": 360,
     "metadata": {},
     "output_type": "execute_result"
    }
   ],
   "source": [
    "df_aux = pd.DataFrame({'Type': dados.dtypes,\n",
    "                      'Missing': dados.isna().sum(),\n",
    "                      'Size': dados.shape[0],\n",
    "                       'Unique': dados.nunique()\n",
    "                     })\n",
    "df_aux['Missing_%']= df_aux.Missing/df_aux.Size * 100\n",
    "df_aux.sort_values(by='Missing_%', ascending=False)"
   ]
  },
  {
   "cell_type": "markdown",
   "metadata": {
    "colab_type": "text",
    "id": "lUElEippm6-8"
   },
   "source": [
    "Podemos observar que as variáveis **Cod_pais, Cod_estado, Telefone_1** e  **Nome do Hóspede** estão com valores ausentes. Contudo, a princípio, deixaremos as variáveis **Cod_pais** e **Cod_estado** no conjunto de dados, pois estão abaixo de 50%. \n",
    "\n",
    "\n",
    "Apesar das variáveis **Telefone_1** e  **Nome do Hóspede** estarem com valores ausentes abaixo de 50%, iremos descartá-los do conjunto de dados juntamente com a variável **Codigo da reserva** pois resguardam dados pessoais dos clientes. "
   ]
  },
  {
   "cell_type": "markdown",
   "metadata": {},
   "source": [
    "* **Removendo variáveis**"
   ]
  },
  {
   "cell_type": "code",
   "execution_count": 361,
   "metadata": {},
   "outputs": [],
   "source": [
    "dados.drop(columns=['Codigo da reserva','Telefone_1','Nome do Hóspede'], inplace=True)"
   ]
  },
  {
   "cell_type": "code",
   "execution_count": 362,
   "metadata": {},
   "outputs": [
    {
     "data": {
      "text/html": [
       "<div>\n",
       "<style scoped>\n",
       "    .dataframe tbody tr th:only-of-type {\n",
       "        vertical-align: middle;\n",
       "    }\n",
       "\n",
       "    .dataframe tbody tr th {\n",
       "        vertical-align: top;\n",
       "    }\n",
       "\n",
       "    .dataframe thead th {\n",
       "        text-align: right;\n",
       "    }\n",
       "</style>\n",
       "<table border=\"1\" class=\"dataframe\">\n",
       "  <thead>\n",
       "    <tr style=\"text-align: right;\">\n",
       "      <th></th>\n",
       "      <th>Fonte_consolidada</th>\n",
       "      <th>Status</th>\n",
       "      <th>Nº de pessoas</th>\n",
       "      <th>Nº de quartos</th>\n",
       "      <th>Check-in</th>\n",
       "      <th>Check-out</th>\n",
       "      <th>Reservado</th>\n",
       "      <th>Receita bruta estimada</th>\n",
       "      <th>Cod_pais</th>\n",
       "      <th>Cod_estado</th>\n",
       "    </tr>\n",
       "  </thead>\n",
       "  <tbody>\n",
       "    <tr>\n",
       "      <td>0</td>\n",
       "      <td>Site A</td>\n",
       "      <td>Confirmada</td>\n",
       "      <td>1</td>\n",
       "      <td>1</td>\n",
       "      <td>2019-03-10</td>\n",
       "      <td>2019-03-18</td>\n",
       "      <td>2019-02-04</td>\n",
       "      <td>165.50625</td>\n",
       "      <td>55.0</td>\n",
       "      <td>31.0</td>\n",
       "    </tr>\n",
       "    <tr>\n",
       "      <td>1</td>\n",
       "      <td>Site A</td>\n",
       "      <td>Confirmada</td>\n",
       "      <td>1</td>\n",
       "      <td>1</td>\n",
       "      <td>2019-03-01</td>\n",
       "      <td>2019-03-16</td>\n",
       "      <td>2019-02-04</td>\n",
       "      <td>382.06875</td>\n",
       "      <td>55.0</td>\n",
       "      <td>551.0</td>\n",
       "    </tr>\n",
       "    <tr>\n",
       "      <td>2</td>\n",
       "      <td>Site A</td>\n",
       "      <td>Confirmada</td>\n",
       "      <td>2</td>\n",
       "      <td>1</td>\n",
       "      <td>2019-04-05</td>\n",
       "      <td>2019-04-08</td>\n",
       "      <td>2019-02-04</td>\n",
       "      <td>85.85850</td>\n",
       "      <td>55.0</td>\n",
       "      <td>53.0</td>\n",
       "    </tr>\n",
       "    <tr>\n",
       "      <td>3</td>\n",
       "      <td>Site A</td>\n",
       "      <td>Confirmada</td>\n",
       "      <td>2</td>\n",
       "      <td>1</td>\n",
       "      <td>2019-03-01</td>\n",
       "      <td>2019-03-06</td>\n",
       "      <td>2019-02-04</td>\n",
       "      <td>118.65525</td>\n",
       "      <td>57.0</td>\n",
       "      <td>300.0</td>\n",
       "    </tr>\n",
       "    <tr>\n",
       "      <td>4</td>\n",
       "      <td>Site A</td>\n",
       "      <td>Confirmada</td>\n",
       "      <td>2</td>\n",
       "      <td>1</td>\n",
       "      <td>2019-04-03</td>\n",
       "      <td>2019-04-07</td>\n",
       "      <td>2019-02-05</td>\n",
       "      <td>108.47025</td>\n",
       "      <td>55.0</td>\n",
       "      <td>11.0</td>\n",
       "    </tr>\n",
       "  </tbody>\n",
       "</table>\n",
       "</div>"
      ],
      "text/plain": [
       "  Fonte_consolidada      Status  Nº de pessoas  Nº de quartos   Check-in  \\\n",
       "0            Site A  Confirmada              1              1 2019-03-10   \n",
       "1            Site A  Confirmada              1              1 2019-03-01   \n",
       "2            Site A  Confirmada              2              1 2019-04-05   \n",
       "3            Site A  Confirmada              2              1 2019-03-01   \n",
       "4            Site A  Confirmada              2              1 2019-04-03   \n",
       "\n",
       "   Check-out  Reservado  Receita bruta estimada  Cod_pais  Cod_estado  \n",
       "0 2019-03-18 2019-02-04               165.50625      55.0        31.0  \n",
       "1 2019-03-16 2019-02-04               382.06875      55.0       551.0  \n",
       "2 2019-04-08 2019-02-04                85.85850      55.0        53.0  \n",
       "3 2019-03-06 2019-02-04               118.65525      57.0       300.0  \n",
       "4 2019-04-07 2019-02-05               108.47025      55.0        11.0  "
      ]
     },
     "execution_count": 362,
     "metadata": {},
     "output_type": "execute_result"
    }
   ],
   "source": [
    "dados.head()"
   ]
  },
  {
   "cell_type": "markdown",
   "metadata": {},
   "source": [
    "* **Adicionando a variável mês da reserva** "
   ]
  },
  {
   "cell_type": "code",
   "execution_count": 363,
   "metadata": {},
   "outputs": [],
   "source": [
    "dados['Mes_reserva'] = dados['Reservado'].dt.month "
   ]
  },
  {
   "cell_type": "markdown",
   "metadata": {},
   "source": [
    "# Análise exploratória de dados "
   ]
  },
  {
   "cell_type": "markdown",
   "metadata": {},
   "source": [
    "### 1.  Analisando as fontes consolidadas: sites A e B"
   ]
  },
  {
   "cell_type": "code",
   "execution_count": 364,
   "metadata": {},
   "outputs": [
    {
     "data": {
      "image/png": "[encoded data removed]",
      "text/plain": [
       "<Figure size 576x432 with 1 Axes>"
      ]
     },
     "metadata": {},
     "output_type": "display_data"
    }
   ],
   "source": [
    "dados['Fonte_consolidada'].value_counts().plot(kind='pie',autopct='%.2f%%');"
   ]
  },
  {
   "cell_type": "markdown",
   "metadata": {
    "colab_type": "text",
    "id": "He3bb9uZmhkP"
   },
   "source": [
    "Podemos observar que a plataforma que dispõe de um maior número de reserva é o site A. \n",
    "\n",
    "Com isso podemos investigar alguns possíveis motivos para isto, por exemplo: visibilidade, consolidação no mercado, taxa de serviço e entre outros. \n",
    "\n",
    "**Questionamento:** Qual site tem maior\n",
    "1. visibilidade? \n",
    "2. tempo no mercado?\n",
    "3. taxa de ferramenta?\n",
    "4. vaga disponível?"
   ]
  },
  {
   "cell_type": "code",
   "execution_count": 365,
   "metadata": {},
   "outputs": [
    {
     "data": {
      "image/png": "[encoded data removed]",
      "text/plain": [
       "<Figure size 576x432 with 1 Axes>"
      ]
     },
     "metadata": {},
     "output_type": "display_data"
    }
   ],
   "source": [
    "total = len(dados[['Status']])\n",
    "ax =  sns.countplot(x='Status', data=dados[['Status']])\n",
    "plt.title('Status', fontsize=20)\n",
    "\n",
    "for p in ax.patches:\n",
    "    x = p.get_x() + p.get_width()/2\n",
    "    y = p.get_height()\n",
    "    ax.annotate('{:.2f}%'.format(100*p.get_height()/total), (x, y), ha='center')\n",
    "plt.show()"
   ]
  },
  {
   "cell_type": "markdown",
   "metadata": {
    "colab_type": "text",
    "id": "HVimCZFcntg9"
   },
   "source": [
    "* **Status em geral (reservas com sites A e B)**"
   ]
  },
  {
   "cell_type": "markdown",
   "metadata": {},
   "source": [
    "Podemos observar que 85.7% confirmaram a reserva de um modo geral. Isto pode ser um indicativo positivo, contudo, vale uma investigação por que 14.3% cancelaram. \n",
    "\n",
    "\n",
    "**Questionamento:** Quais os possíveis motivos que levam o cancelamento da reserva? \n",
    "1. Será que o site tem influência no cancelamento? Qual dos sites tem maior taxa de cancelamento? Por que? "
   ]
  },
  {
   "cell_type": "markdown",
   "metadata": {},
   "source": [
    "* **Status da fonte consolidada por cada site**"
   ]
  },
  {
   "cell_type": "code",
   "execution_count": 367,
   "metadata": {
    "colab": {
     "base_uri": "https://localhost:8080/",
     "height": 474
    },
    "colab_type": "code",
    "id": "Gp-BOaspkLL8",
    "outputId": "d43a1b2b-9791-4b18-9047-b2b45f6c7bdf"
   },
   "outputs": [
    {
     "data": {
      "image/png": "[encoded data removed]",
      "text/plain": [
       "<Figure size 576x432 with 1 Axes>"
      ]
     },
     "metadata": {},
     "output_type": "display_data"
    }
   ],
   "source": [
    "#ax = sns.factorplot('Fonte_consolidada', data=dados, hue='Status', kind='count');\n",
    "ax = sns.countplot(x='Fonte_consolidada',hue='Status',data=dados)\n",
    "\n",
    "for p in ax.patches:\n",
    "    x = p.get_x() + p.get_width()/2\n",
    "    y = p.get_height()\n",
    "    ax.annotate('{:.2f}%'.format(100*p.get_height()/total), (x, y), ha='center')\n",
    "plt.show()"
   ]
  },
  {
   "cell_type": "markdown",
   "metadata": {},
   "source": [
    "Podemos notar um baixo índice de cancelamento do site A. Já do site B por sua vez percebemos um alto valor.  "
   ]
  },
  {
   "cell_type": "markdown",
   "metadata": {},
   "source": [
    "* *Para melhor entendermos a dimensão do gráfico acima, exibiremos a taxa de confirmação/cancelamento dos sites A e B*"
   ]
  },
  {
   "cell_type": "code",
   "execution_count": 373,
   "metadata": {},
   "outputs": [
    {
     "data": {
      "image/png": "[encoded data removed]",
      "text/plain": [
       "<Figure size 744.85x360 with 1 Axes>"
      ]
     },
     "metadata": {},
     "output_type": "display_data"
    }
   ],
   "source": [
    "df1 = dados.groupby('Fonte_consolidada')['Status'].value_counts(normalize=True)*100\n",
    "df1 = df1.rename('percent').reset_index()\n",
    "\n",
    "g = sns.catplot(x='Fonte_consolidada',y='percent',hue='Status',kind='bar',data=df1, height=5,aspect = 1.8)\n",
    "g.ax.set_ylim(0,100)\n",
    "\n",
    "for p in g.ax.patches:\n",
    "    x = p.get_x() + p.get_width()/2\n",
    "    y = p.get_height()\n",
    "    g.ax.annotate('{:.2f}%'.format(p.get_height()), (x, y), ha='center')\n",
    "plt.show()"
   ]
  },
  {
   "cell_type": "markdown",
   "metadata": {},
   "source": [
    "**Taxa do site A:**"
   ]
  },
  {
   "cell_type": "code",
   "execution_count": 374,
   "metadata": {},
   "outputs": [
    {
     "data": {
      "text/plain": [
       "Confirmada    94.95\n",
       "Cancelado      5.05\n",
       "Name: Status, dtype: float64"
      ]
     },
     "execution_count": 374,
     "metadata": {},
     "output_type": "execute_result"
    }
   ],
   "source": [
    "(dados[dados['Fonte_consolidada']=='Site A']['Status'].value_counts(normalize=True)*100).round(2)"
   ]
  },
  {
   "cell_type": "markdown",
   "metadata": {},
   "source": [
    "**Taxa do site B:**"
   ]
  },
  {
   "cell_type": "code",
   "execution_count": 375,
   "metadata": {},
   "outputs": [
    {
     "data": {
      "text/plain": [
       "Confirmada    67.43\n",
       "Cancelado     32.57\n",
       "Name: Status, dtype: float64"
      ]
     },
     "execution_count": 375,
     "metadata": {},
     "output_type": "execute_result"
    }
   ],
   "source": [
    "(dados[dados['Fonte_consolidada']=='Site B']['Status'].value_counts(normalize=True)*100).round(2)"
   ]
  },
  {
   "cell_type": "markdown",
   "metadata": {},
   "source": [
    "Podemos observar que a taxa de confirmação do **site A** é aprox. 95% e, a taxa de cancelamento é 5%. Que é um indicativo bom (ou muito bom). \n",
    "\n",
    "Já o **site B** tem uma taxa de confirmação de 67%. Confirmando que o site B além de ter pouca reserva comparado ao site A existe  uma taxa de cancelamento de aproximadamente 33%, o qual não é um bom indicativo se compararmos com o site A. \n",
    "\n",
    "*Com isso podemos concluir que o site B  tem influência na taxa de cancelamento em geral. Deste modo podemos investigar possíveis motivações para isto.*  "
   ]
  },
  {
   "cell_type": "markdown",
   "metadata": {},
   "source": [
    "* **Agora veremos em qual mês teve maior número de cancelamento**"
   ]
  },
  {
   "cell_type": "code",
   "execution_count": 376,
   "metadata": {},
   "outputs": [
    {
     "data": {
      "image/png": "[encoded data removed]",
      "text/plain": [
       "<Figure size 1104.85x504 with 1 Axes>"
      ]
     },
     "metadata": {},
     "output_type": "display_data"
    }
   ],
   "source": [
    "#sns.factorplot('Mes_reserva', data=dados, hue='Status', kind='count');\n",
    "df1 = dados.groupby('Mes_reserva')['Status'].value_counts(normalize=True)*100\n",
    "df1 = df1.rename('percent').reset_index()\n",
    "\n",
    "#g = sns.countplot(x=\"Mes_reserva\", hue=\"Status\", data=df1)\n",
    "g = sns.catplot(x='Mes_reserva',y='percent',hue='Status',kind='bar',data=df1, height=7,aspect = 2)\n",
    "g.ax.set_ylim(0,100)\n",
    "for p in g.ax.patches:\n",
    "    x = p.get_x() + p.get_width()/2\n",
    "    y = p.get_height()\n",
    "    g.ax.annotate('{:.2f}%'.format(p.get_height()), (x, y), ha='center')\n",
    "\n",
    "plt.title('Taxa de Confirmada\\Cancelada por mês \\n', fontsize=20)\n",
    "plt.show()"
   ]
  },
  {
   "cell_type": "markdown",
   "metadata": {},
   "source": [
    "Claramente o mês 11 teve o maior número de cancelamento.  \n",
    "\n",
    "Uma possível resposta para isto é que no  mês 11 o site B possui um grande  número de reservas (vejamos isso no gráfico abaixo), o que acarreta no alto número de cancelamento. Visto que o site B possui uma alta taxa de cancelamento. "
   ]
  },
  {
   "cell_type": "markdown",
   "metadata": {},
   "source": [
    "* **A plataforma que teve maior número de reservas em cada mês** "
   ]
  },
  {
   "cell_type": "code",
   "execution_count": 377,
   "metadata": {},
   "outputs": [
    {
     "name": "stderr",
     "output_type": "stream",
     "text": [
      "C:\\Users\\Administrador\\Anaconda3\\lib\\site-packages\\seaborn\\categorical.py:3666: UserWarning: The `factorplot` function has been renamed to `catplot`. The original name will be removed in a future release. Please update your code. Note that the default `kind` in `factorplot` (`'point'`) has changed `'strip'` in `catplot`.\n",
      "  warnings.warn(msg)\n"
     ]
    },
    {
     "data": {
      "image/png": "[encoded data removed]",
      "text/plain": [
       "<Figure size 1103.05x504 with 1 Axes>"
      ]
     },
     "metadata": {},
     "output_type": "display_data"
    }
   ],
   "source": [
    "sns.factorplot('Mes_reserva', data=dados, hue='Fonte_consolidada', kind='count',height=7,aspect = 2);\n",
    "plt.title('Número de reservas em cada mês',fontsize=20)\n",
    "plt.show()"
   ]
  },
  {
   "cell_type": "markdown",
   "metadata": {},
   "source": [
    "Podemos notar que os números de reservas do site B aumentaram ao longo dos meses. No entanto, a sua taxa de cancelamento é alta. Caso essa  tendência se mantenha nos próximos 2 meses e, reduzindo a taxa de cancelamento, podemos ter um bom indicativo, já que sua taxa de serviço corresponde a 5% e a do site A  10%.\n"
   ]
  },
  {
   "cell_type": "markdown",
   "metadata": {},
   "source": [
    "* Qual o número de cancelamento de cada site em cada mês?\n"
   ]
  },
  {
   "cell_type": "code",
   "execution_count": 378,
   "metadata": {},
   "outputs": [
    {
     "name": "stdout",
     "output_type": "stream",
     "text": [
      "Mês 2\n",
      "Site A    10\n",
      "Name: Fonte_consolidada, dtype: int64\n",
      "Mês 3\n",
      "Site A    6\n",
      "Name: Fonte_consolidada, dtype: int64\n",
      "Mês 4\n",
      "Site A    9\n",
      "Name: Fonte_consolidada, dtype: int64\n",
      "Mês 5\n",
      "Site A    15\n",
      "Name: Fonte_consolidada, dtype: int64\n",
      "Mês 6\n",
      "Site A    24\n",
      "Site B     4\n",
      "Name: Fonte_consolidada, dtype: int64\n",
      "Mês 7\n",
      "Site A    18\n",
      "Site B     8\n",
      "Name: Fonte_consolidada, dtype: int64\n",
      "Mês 8\n",
      "Site A    23\n",
      "Site B     5\n",
      "Name: Fonte_consolidada, dtype: int64\n",
      "Mês 9\n",
      "Site B    28\n",
      "Site A    16\n",
      "Name: Fonte_consolidada, dtype: int64\n",
      "Mês 10\n",
      "Site B    190\n",
      "Site A     22\n",
      "Name: Fonte_consolidada, dtype: int64\n",
      "Mês 11\n",
      "Site B    334\n",
      "Site A     31\n",
      "Name: Fonte_consolidada, dtype: int64\n"
     ]
    }
   ],
   "source": [
    "aux_dados = dados[dados['Status']=='Cancelado'][['Fonte_consolidada','Status','Mes_reserva']]\n",
    "for i in range(2,12):\n",
    "    print('Mês',i)\n",
    "    print(aux_dados[aux_dados['Mes_reserva']==i]['Fonte_consolidada'].value_counts())"
   ]
  },
  {
   "cell_type": "code",
   "execution_count": 379,
   "metadata": {},
   "outputs": [],
   "source": [
    "aux_df_cofirmada = dados[dados['Status']=='Confirmada'][['Fonte_consolidada','Status','Mes_reserva']]\n",
    "aux_df_cancelado = dados[dados['Status']=='Cancelado'][['Fonte_consolidada','Status','Mes_reserva']]"
   ]
  },
  {
   "cell_type": "code",
   "execution_count": 380,
   "metadata": {},
   "outputs": [],
   "source": [
    "siteA_conf = aux_df_cofirmada[aux_df_cofirmada['Mes_reserva']==10]['Fonte_consolidada'].value_counts()[0]\n",
    "siteA_canc = aux_df_cancelado[aux_df_cancelado['Mes_reserva']==10]['Fonte_consolidada'].value_counts()[1]\n",
    "\n",
    "siteB_conf = aux_df_cofirmada[aux_df_cofirmada['Mes_reserva']==10]['Fonte_consolidada'].value_counts()[1]\n",
    "siteB_canc = aux_df_cancelado[aux_df_cancelado['Mes_reserva']==10]['Fonte_consolidada'].value_counts()[0]"
   ]
  },
  {
   "cell_type": "code",
   "execution_count": 381,
   "metadata": {},
   "outputs": [
    {
     "name": "stdout",
     "output_type": "stream",
     "text": [
      "Taxa de cacelamento mês 10/2019 site A 2.45\n",
      "Taxa de cacelamento mês 10/2019 site B 21.13\n"
     ]
    }
   ],
   "source": [
    "print('Taxa de cacelamento mês 10/2019 site A', round(100*(siteA_canc/(siteA_conf+siteA_canc+siteB_conf+siteB_canc)),2))\n",
    "print('Taxa de cacelamento mês 10/2019 site B', round(100*(siteB_canc/(siteA_conf+siteA_canc+siteB_conf+siteB_canc)),2))"
   ]
  },
  {
   "cell_type": "code",
   "execution_count": 382,
   "metadata": {},
   "outputs": [],
   "source": [
    "siteA_conf = aux_df_cofirmada[aux_df_cofirmada['Mes_reserva']==11]['Fonte_consolidada'].value_counts()[0]\n",
    "siteA_canc = aux_df_cancelado[aux_df_cancelado['Mes_reserva']==11]['Fonte_consolidada'].value_counts()[1]\n",
    "\n",
    "siteB_conf = aux_df_cofirmada[aux_df_cofirmada['Mes_reserva']==11]['Fonte_consolidada'].value_counts()[1]\n",
    "siteB_canc = aux_df_cancelado[aux_df_cancelado['Mes_reserva']==11]['Fonte_consolidada'].value_counts()[0]"
   ]
  },
  {
   "cell_type": "code",
   "execution_count": 383,
   "metadata": {},
   "outputs": [
    {
     "name": "stdout",
     "output_type": "stream",
     "text": [
      "Taxa de cacelamento mês 11/2019 site A 2.59\n",
      "Taxa de cacelamento mês 11/2019 site B 27.9\n"
     ]
    }
   ],
   "source": [
    "print('Taxa de cacelamento mês 11/2019 site A', round(100*(siteA_canc/(siteA_conf+siteA_canc+siteB_conf+siteB_canc)),2))\n",
    "print('Taxa de cacelamento mês 11/2019 site B', round(100*(siteB_canc/(siteB_conf+siteB_canc+siteA_conf+siteA_canc)),2))"
   ]
  },
  {
   "cell_type": "markdown",
   "metadata": {},
   "source": [
    "* Visualizando os números de cancelamentos de cada site em cada mês"
   ]
  },
  {
   "cell_type": "code",
   "execution_count": 384,
   "metadata": {},
   "outputs": [
    {
     "data": {
      "text/plain": [
       "Text(0.5, 1, 'Reserva cancelada em cada mês')"
      ]
     },
     "execution_count": 384,
     "metadata": {},
     "output_type": "execute_result"
    },
    {
     "data": {
      "image/png": "[encoded data removed]",
      "text/plain": [
       "<Figure size 1103.05x504 with 1 Axes>"
      ]
     },
     "metadata": {},
     "output_type": "display_data"
    }
   ],
   "source": [
    "sns.factorplot('Mes_reserva', data=dados[dados['Status']=='Cancelado'][['Fonte_consolidada','Status','Mes_reserva']], hue='Fonte_consolidada', kind='count',height=7,aspect = 2)\n",
    "plt.title('Reserva cancelada em cada mês',fontsize=20)"
   ]
  },
  {
   "cell_type": "markdown",
   "metadata": {},
   "source": [
    "* Visualizando os números de confirmação de cada site em cada mês"
   ]
  },
  {
   "cell_type": "code",
   "execution_count": 385,
   "metadata": {},
   "outputs": [
    {
     "data": {
      "text/plain": [
       "Text(0.5, 1, 'Reserva Confirmada em cada mês')"
      ]
     },
     "execution_count": 385,
     "metadata": {},
     "output_type": "execute_result"
    },
    {
     "data": {
      "image/png": "[encoded data removed]",
      "text/plain": [
       "<Figure size 1103.05x504 with 1 Axes>"
      ]
     },
     "metadata": {},
     "output_type": "display_data"
    }
   ],
   "source": [
    "ax=sns.factorplot('Mes_reserva', data=dados[dados['Status']=='Confirmada'][['Fonte_consolidada','Status','Mes_reserva']], hue='Fonte_consolidada', kind='count',height=7,aspect = 2)\n",
    "plt.title('Reserva Confirmada em cada mês',fontsize=20)"
   ]
  },
  {
   "cell_type": "markdown",
   "metadata": {},
   "source": [
    "### 2. Analisando a variável Nº de pessoas"
   ]
  },
  {
   "cell_type": "markdown",
   "metadata": {},
   "source": [
    "* **Visualizando - Nº de pessoas por reserva**"
   ]
  },
  {
   "cell_type": "code",
   "execution_count": 386,
   "metadata": {},
   "outputs": [
    {
     "data": {
      "image/png": "[encoded data removed]",
      "text/plain": [
       "<Figure size 864x432 with 1 Axes>"
      ]
     },
     "metadata": {},
     "output_type": "display_data"
    }
   ],
   "source": [
    "plt.figure(figsize=(12,6))\n",
    "total = len(dados['Nº de pessoas'])\n",
    "#ax=dados['Nº de pessoas'].value_counts().plot(kind='bar')\n",
    "ax =  sns.countplot(x=\"Nº de pessoas\", hue=\"Nº de pessoas\", data=dados[['Nº de pessoas']])\n",
    "plt.title('Nº de pessoas', fontsize=20)\n",
    "for p in ax.patches:\n",
    "    x = p.get_x() + p.get_width()\n",
    "    y = p.get_height()\n",
    "    ax.annotate('{:.2f}%'.format(100 * p.get_height()/total), (x, y),ha='center')\n",
    "plt.show()"
   ]
  },
  {
   "cell_type": "markdown",
   "metadata": {},
   "source": [
    "Podemos observar que aprox. 68% das reservas foram solicitadas para 2 pessoas e aprox. 31%  para 1 pessoa. Que equivale uma taxa de 99% das reservas. "
   ]
  },
  {
   "cell_type": "markdown",
   "metadata": {},
   "source": [
    "* **Taxa dos Nº de quartos por reserva**"
   ]
  },
  {
   "cell_type": "code",
   "execution_count": 387,
   "metadata": {},
   "outputs": [
    {
     "data": {
      "image/png": "[encoded data removed]",
      "text/plain": [
       "<Figure size 864x432 with 1 Axes>"
      ]
     },
     "metadata": {},
     "output_type": "display_data"
    }
   ],
   "source": [
    "#ax=dados['Nº de quartos'].value_counts().plot.bar();\n",
    "plt.figure(figsize=(12,6))\n",
    "total = len(dados['Nº de quartos'])\n",
    "ax =  sns.countplot(x=\"Nº de quartos\", hue=\"Nº de quartos\", data=dados[['Nº de quartos']])\n",
    "plt.title('Nº de quartos', fontsize=20)\n",
    "for p in ax.patches:\n",
    "    x = p.get_x() + p.get_width()\n",
    "    y = p.get_height()\n",
    "    ax.annotate('{:.2f}%'.format(100 * p.get_height()/total), (x, y),ha='center')\n",
    "plt.show()"
   ]
  },
  {
   "cell_type": "markdown",
   "metadata": {},
   "source": [
    "Notemos 99% das reservas foram para 1 quarto.    "
   ]
  },
  {
   "cell_type": "markdown",
   "metadata": {},
   "source": [
    "### 3. Analisando a variável Código de País"
   ]
  },
  {
   "cell_type": "markdown",
   "metadata": {},
   "source": [
    "* **Os 10 países com maior número de reservas**"
   ]
  },
  {
   "cell_type": "code",
   "execution_count": 388,
   "metadata": {},
   "outputs": [
    {
     "data": {
      "text/plain": [
       "55.0    3636\n",
       "1.0       77\n",
       "33.0      22\n",
       "44.0      18\n",
       "54.0      13\n",
       "51.0      12\n",
       "56.0      11\n",
       "57.0      10\n",
       "61.0      10\n",
       "49.0      10\n",
       "Name: Cod_pais, dtype: int64"
      ]
     },
     "execution_count": 388,
     "metadata": {},
     "output_type": "execute_result"
    }
   ],
   "source": [
    "dados['Cod_pais'].value_counts()[:10,]"
   ]
  },
  {
   "cell_type": "markdown",
   "metadata": {},
   "source": [
    "Podemos notar que o Brasil (Cod_país=55) tem um maior número de reservas "
   ]
  },
  {
   "cell_type": "markdown",
   "metadata": {},
   "source": [
    "* *Vamos organizar os códigos dos países como: Brasil (BRA), Não informado (No_INFO) e Exterior ao Brasil (EXT).* "
   ]
  },
  {
   "cell_type": "code",
   "execution_count": 389,
   "metadata": {},
   "outputs": [],
   "source": [
    "dados['Cod_pais'].fillna(0,inplace=True) # substituindo zero nos valores ausentes\n",
    "for i in dados['Cod_pais']:\n",
    "    if i==55:\n",
    "        dados['Cod_pais'].replace({i:'BRA'},inplace=True)\n",
    "    elif i==0:\n",
    "        dados['Cod_pais'].replace({i:'NO_INFO'},inplace=True)\n",
    "    else:\n",
    "        dados['Cod_pais'].replace({i:'EXT'},inplace=True)"
   ]
  },
  {
   "cell_type": "markdown",
   "metadata": {},
   "source": [
    "* **Taxa de reserva feita por pessoas do Brasil, Não informado e Exterior ao Brasil.**"
   ]
  },
  {
   "cell_type": "code",
   "execution_count": 390,
   "metadata": {},
   "outputs": [
    {
     "data": {
      "text/plain": [
       "BRA        70.03\n",
       "NO_INFO    23.71\n",
       "EXT         6.26\n",
       "Name: Cod_pais, dtype: float64"
      ]
     },
     "execution_count": 390,
     "metadata": {},
     "output_type": "execute_result"
    }
   ],
   "source": [
    "(dados['Cod_pais'].value_counts(normalize=True)*100).round(2)"
   ]
  },
  {
   "cell_type": "code",
   "execution_count": 391,
   "metadata": {},
   "outputs": [
    {
     "data": {
      "image/png": "[encoded data removed]",
      "text/plain": [
       "<Figure size 720x432 with 1 Axes>"
      ]
     },
     "metadata": {},
     "output_type": "display_data"
    }
   ],
   "source": [
    "#dados['Cod_pais'].value_counts(normalize=True).plot.bar()\n",
    "plt.figure(figsize=(10,6))\n",
    "total = len(dados['Cod_pais'])\n",
    "ax =  sns.countplot(x=\"Cod_pais\", hue=\"Cod_pais\", data=dados[['Cod_pais']])\n",
    "plt.title('Cod_pais', fontsize=20)\n",
    "for p in ax.patches:\n",
    "    x = p.get_x() + p.get_width()/2\n",
    "    y = p.get_height()\n",
    "    ax.annotate('{:.2f}%'.format(100 * p.get_height()/total), (x, y), ha='center')\n",
    "plt.show()"
   ]
  },
  {
   "cell_type": "markdown",
   "metadata": {},
   "source": [
    "Notemos que de todos os valores do conjunto de dados:\n",
    "* 70% das reservas são feitas por pessoas que moram no Brasil. \n",
    "* 24% não informaram. (Podem morar no Brasil ou não) \n",
    "* 6% das reservas feitas são por pessoas que moram no exterior. \n",
    "\n",
    "*Note que 24% não informaram onde moram, podendo assim aumentar tanto a taxa das reservas feitas por pessoas que moram no Brasil quanto as feitas por pessoas que moram no exterior.*"
   ]
  },
  {
   "cell_type": "markdown",
   "metadata": {},
   "source": [
    "### 4. Analisando a variável Códido de Estado "
   ]
  },
  {
   "cell_type": "markdown",
   "metadata": {},
   "source": [
    "* **Estados no conjunto de dados**"
   ]
  },
  {
   "cell_type": "code",
   "execution_count": 392,
   "metadata": {
    "colab": {},
    "colab_type": "code",
    "id": "yZlARSaVmETD"
   },
   "outputs": [],
   "source": [
    "#Estados brasileiro\n",
    "EstadoPorDdd = {11:\"SP\",12:\"SP\",13:\"SP\",14:\"SP\",15:\"SP\",16:\"SP\",17:\"SP\",18:\"SP\",19:\"SP\",\n",
    "                21:\"RJ\",22:\"RJ\",24:\"RJ\",27:\"ES\",28:\"ES\",31:\"MG\",32:\"MG\",33:\"MG\",34:\"MG\",\n",
    "                35:\"MG\",37:\"MG\",38:\"MG\",41:\"PR\",42:\"PR\",43:\"PR\",44:\"PR\",45:\"PR\",46:\"PR\",\n",
    "                47:\"SC\",48:\"SC\",49:\"SC\",51:\"RS\",53:\"RS\",54:\"RS\",55:\"RS\",61:\"DF\",62:\"GO\",\n",
    "                63:\"TO\",64:\"GO\",65:\"MT\",66:\"MT\",67:\"MS\",68:\"AC\",69:\"RO\",71:\"BA\",73:\"BA\",\n",
    "                74:\"BA\",75:\"BA\",77:\"BA\",79:\"SE\",81:\"PE\",82:\"AL\",83:\"PB\",84:\"RN\",85:\"CE\",\n",
    "                86:\"PI\",87:\"PE\",88:\"CE\",89:\"PI\",91:\"PA\",92:\"AM\",93:\"PA\",94:\"PA\",95:\"RR\",\n",
    "                96:\"AP\",97:\"AM\",98:\"MA\",99:\"MA\" }\n",
    "dados['Cod_estado'].replace(EstadoPorDdd,inplace=True) \n",
    "\n",
    "#Estados não informados\n",
    "dados['Cod_estado'].fillna(0,inplace=True) # substituindo zero nos valores ausentes\n",
    "for i in dados['Cod_estado']:\n",
    "    if i==0:\n",
    "        dados['Cod_estado'].replace({i:'No_info'},inplace=True)\n",
    "##Estados exteriores        \n",
    "for i in dados['Cod_estado']:\n",
    "    if type(i)==float:\n",
    "        dados['Cod_estado'].replace({i:'Est_Ext'},inplace=True)    "
   ]
  },
  {
   "cell_type": "markdown",
   "metadata": {},
   "source": [
    "* **Taxas das reservas dos estados**\n",
    "\n",
    "*Veremos os 10 estados com maior taxa de reservas*"
   ]
  },
  {
   "cell_type": "code",
   "execution_count": 393,
   "metadata": {},
   "outputs": [
    {
     "data": {
      "image/png": "[encoded data removed]",
      "text/plain": [
       "<Figure size 576x432 with 1 Axes>"
      ]
     },
     "metadata": {},
     "output_type": "display_data"
    }
   ],
   "source": [
    "ax=(dados['Cod_estado'].value_counts(normalize=True)*100).round(2)[:10].plot.bar(color='b');\n",
    "plt.title('Taxas de reserva de cada estado', fontsize=20)\n",
    "for p in ax.patches:\n",
    "    x = p.get_x() + p.get_width()/2\n",
    "    y = p.get_height()\n",
    "    ax.annotate('{:.2f}%'.format(100 * p.get_height()/total), (x, y), ha='center')\n",
    "plt.show()"
   ]
  },
  {
   "cell_type": "markdown",
   "metadata": {},
   "source": [
    "*Podemos concluir que a procura por reservas está essencialmente em território nacional, mais precisamente nos estados de São Paulo, Rio de Janeiro e Minas Gerais.* \n",
    "\n",
    "*Também vale a pena ressaltar o alto número de estados não informados. Talvez conhecendo esses valores poderia ter uma conclusão diferente da vista no gráfico.*   "
   ]
  },
  {
   "cell_type": "markdown",
   "metadata": {
    "colab_type": "text",
    "id": "DE2ttX6u2y3T"
   },
   "source": [
    "# *Tratamento dos dados em formato de datatimes*"
   ]
  },
  {
   "cell_type": "code",
   "execution_count": 394,
   "metadata": {
    "colab": {
     "base_uri": "https://localhost:8080/",
     "height": 204
    },
    "colab_type": "code",
    "id": "Snx-Nlsk-km6",
    "outputId": "28172319-cf10-42fc-af9e-7eb50c3f8f44"
   },
   "outputs": [
    {
     "data": {
      "text/html": [
       "<div>\n",
       "<style scoped>\n",
       "    .dataframe tbody tr th:only-of-type {\n",
       "        vertical-align: middle;\n",
       "    }\n",
       "\n",
       "    .dataframe tbody tr th {\n",
       "        vertical-align: top;\n",
       "    }\n",
       "\n",
       "    .dataframe thead th {\n",
       "        text-align: right;\n",
       "    }\n",
       "</style>\n",
       "<table border=\"1\" class=\"dataframe\">\n",
       "  <thead>\n",
       "    <tr style=\"text-align: right;\">\n",
       "      <th></th>\n",
       "      <th>Status</th>\n",
       "      <th>Check-in</th>\n",
       "      <th>Check-out</th>\n",
       "      <th>Reservado</th>\n",
       "      <th>Receita bruta estimada</th>\n",
       "      <th>Mes_reserva</th>\n",
       "    </tr>\n",
       "  </thead>\n",
       "  <tbody>\n",
       "    <tr>\n",
       "      <td>0</td>\n",
       "      <td>Confirmada</td>\n",
       "      <td>2019-03-10</td>\n",
       "      <td>2019-03-18</td>\n",
       "      <td>2019-02-04</td>\n",
       "      <td>165.50625</td>\n",
       "      <td>2</td>\n",
       "    </tr>\n",
       "    <tr>\n",
       "      <td>1</td>\n",
       "      <td>Confirmada</td>\n",
       "      <td>2019-03-01</td>\n",
       "      <td>2019-03-16</td>\n",
       "      <td>2019-02-04</td>\n",
       "      <td>382.06875</td>\n",
       "      <td>2</td>\n",
       "    </tr>\n",
       "    <tr>\n",
       "      <td>2</td>\n",
       "      <td>Confirmada</td>\n",
       "      <td>2019-04-05</td>\n",
       "      <td>2019-04-08</td>\n",
       "      <td>2019-02-04</td>\n",
       "      <td>85.85850</td>\n",
       "      <td>2</td>\n",
       "    </tr>\n",
       "    <tr>\n",
       "      <td>3</td>\n",
       "      <td>Confirmada</td>\n",
       "      <td>2019-03-01</td>\n",
       "      <td>2019-03-06</td>\n",
       "      <td>2019-02-04</td>\n",
       "      <td>118.65525</td>\n",
       "      <td>2</td>\n",
       "    </tr>\n",
       "    <tr>\n",
       "      <td>4</td>\n",
       "      <td>Confirmada</td>\n",
       "      <td>2019-04-03</td>\n",
       "      <td>2019-04-07</td>\n",
       "      <td>2019-02-05</td>\n",
       "      <td>108.47025</td>\n",
       "      <td>2</td>\n",
       "    </tr>\n",
       "  </tbody>\n",
       "</table>\n",
       "</div>"
      ],
      "text/plain": [
       "       Status   Check-in  Check-out  Reservado  Receita bruta estimada  \\\n",
       "0  Confirmada 2019-03-10 2019-03-18 2019-02-04               165.50625   \n",
       "1  Confirmada 2019-03-01 2019-03-16 2019-02-04               382.06875   \n",
       "2  Confirmada 2019-04-05 2019-04-08 2019-02-04                85.85850   \n",
       "3  Confirmada 2019-03-01 2019-03-06 2019-02-04               118.65525   \n",
       "4  Confirmada 2019-04-03 2019-04-07 2019-02-05               108.47025   \n",
       "\n",
       "   Mes_reserva  \n",
       "0            2  \n",
       "1            2  \n",
       "2            2  \n",
       "3            2  \n",
       "4            2  "
      ]
     },
     "execution_count": 394,
     "metadata": {},
     "output_type": "execute_result"
    }
   ],
   "source": [
    "df = dados.drop(columns=['Fonte_consolidada','Nº de pessoas','Nº de quartos','Cod_pais','Cod_estado'])\n",
    "df.head(5)"
   ]
  },
  {
   "cell_type": "code",
   "execution_count": 395,
   "metadata": {},
   "outputs": [],
   "source": [
    "df['Mes_ChechIn']   = df['Check-in'].dt.month \n",
    "df['Estadia'] = (df['Check-out']-df['Check-in']).dt.days"
   ]
  },
  {
   "cell_type": "code",
   "execution_count": 396,
   "metadata": {},
   "outputs": [
    {
     "data": {
      "text/html": [
       "<div>\n",
       "<style scoped>\n",
       "    .dataframe tbody tr th:only-of-type {\n",
       "        vertical-align: middle;\n",
       "    }\n",
       "\n",
       "    .dataframe tbody tr th {\n",
       "        vertical-align: top;\n",
       "    }\n",
       "\n",
       "    .dataframe thead th {\n",
       "        text-align: right;\n",
       "    }\n",
       "</style>\n",
       "<table border=\"1\" class=\"dataframe\">\n",
       "  <thead>\n",
       "    <tr style=\"text-align: right;\">\n",
       "      <th></th>\n",
       "      <th>Status</th>\n",
       "      <th>Check-in</th>\n",
       "      <th>Check-out</th>\n",
       "      <th>Reservado</th>\n",
       "      <th>Receita bruta estimada</th>\n",
       "      <th>Mes_reserva</th>\n",
       "      <th>Mes_ChechIn</th>\n",
       "      <th>Estadia</th>\n",
       "    </tr>\n",
       "  </thead>\n",
       "  <tbody>\n",
       "    <tr>\n",
       "      <td>0</td>\n",
       "      <td>Confirmada</td>\n",
       "      <td>2019-03</td>\n",
       "      <td>2019-03</td>\n",
       "      <td>2019-02</td>\n",
       "      <td>165.50625</td>\n",
       "      <td>2</td>\n",
       "      <td>3</td>\n",
       "      <td>8</td>\n",
       "    </tr>\n",
       "    <tr>\n",
       "      <td>1</td>\n",
       "      <td>Confirmada</td>\n",
       "      <td>2019-03</td>\n",
       "      <td>2019-03</td>\n",
       "      <td>2019-02</td>\n",
       "      <td>382.06875</td>\n",
       "      <td>2</td>\n",
       "      <td>3</td>\n",
       "      <td>15</td>\n",
       "    </tr>\n",
       "    <tr>\n",
       "      <td>2</td>\n",
       "      <td>Confirmada</td>\n",
       "      <td>2019-04</td>\n",
       "      <td>2019-04</td>\n",
       "      <td>2019-02</td>\n",
       "      <td>85.85850</td>\n",
       "      <td>2</td>\n",
       "      <td>4</td>\n",
       "      <td>3</td>\n",
       "    </tr>\n",
       "    <tr>\n",
       "      <td>3</td>\n",
       "      <td>Confirmada</td>\n",
       "      <td>2019-03</td>\n",
       "      <td>2019-03</td>\n",
       "      <td>2019-02</td>\n",
       "      <td>118.65525</td>\n",
       "      <td>2</td>\n",
       "      <td>3</td>\n",
       "      <td>5</td>\n",
       "    </tr>\n",
       "    <tr>\n",
       "      <td>4</td>\n",
       "      <td>Confirmada</td>\n",
       "      <td>2019-04</td>\n",
       "      <td>2019-04</td>\n",
       "      <td>2019-02</td>\n",
       "      <td>108.47025</td>\n",
       "      <td>2</td>\n",
       "      <td>4</td>\n",
       "      <td>4</td>\n",
       "    </tr>\n",
       "  </tbody>\n",
       "</table>\n",
       "</div>"
      ],
      "text/plain": [
       "       Status Check-in Check-out Reservado  Receita bruta estimada  \\\n",
       "0  Confirmada  2019-03   2019-03   2019-02               165.50625   \n",
       "1  Confirmada  2019-03   2019-03   2019-02               382.06875   \n",
       "2  Confirmada  2019-04   2019-04   2019-02                85.85850   \n",
       "3  Confirmada  2019-03   2019-03   2019-02               118.65525   \n",
       "4  Confirmada  2019-04   2019-04   2019-02               108.47025   \n",
       "\n",
       "   Mes_reserva  Mes_ChechIn  Estadia  \n",
       "0            2            3        8  \n",
       "1            2            3       15  \n",
       "2            2            4        3  \n",
       "3            2            3        5  \n",
       "4            2            4        4  "
      ]
     },
     "execution_count": 396,
     "metadata": {},
     "output_type": "execute_result"
    }
   ],
   "source": [
    "df['Check-in'] = df['Check-in'].dt.strftime('%Y-%m')\n",
    "df['Check-out']= df['Check-out'].dt.strftime('%Y-%m')\n",
    "df['Reservado']= df['Reservado'].dt.strftime('%Y-%m')\n",
    "df.head()"
   ]
  },
  {
   "cell_type": "markdown",
   "metadata": {
    "colab_type": "text",
    "id": "y70I-jxPHx3l"
   },
   "source": [
    "Podemos inferir que há uma tendência crescente na série, ou seja, o número de contagem está aumentando em relação ao tempo. \n",
    "\n",
    "Além disso é possível notar um crescimento números de reservas feitas a partir do mês 06. \n",
    "\n",
    "**Uma hipótese que podemos sustentar é:** No segundo semestre  diversos setores entram em férias. E, portanto, nesse período as reservas são iniciadas a fim de aproveitar melhores os preços, sem ter a preocupação da alta procura dos períodos seguintes.\n"
   ]
  },
  {
   "cell_type": "markdown",
   "metadata": {},
   "source": [
    "* **Vamos excluir do conjunto de dados os valores do mês 12.**  \n",
    "\n",
    "*Para isto, adicionaremos valores nan sobre o número 12 e em seguida droparemos o conjunto de dados.*  "
   ]
  },
  {
   "cell_type": "code",
   "execution_count": 397,
   "metadata": {},
   "outputs": [],
   "source": [
    "df['Mes_ChechIn'].replace({12:np.nan}, inplace=True) \n",
    "df.dropna(inplace=True)"
   ]
  },
  {
   "cell_type": "markdown",
   "metadata": {},
   "source": [
    "* ### Vamos visualizar os volumes reservado e Check-in mensais"
   ]
  },
  {
   "cell_type": "code",
   "execution_count": 398,
   "metadata": {
    "colab": {
     "base_uri": "https://localhost:8080/",
     "height": 394
    },
    "colab_type": "code",
    "id": "GHdYBM0JIvZA",
    "outputId": "74f566d8-ef29-448f-8068-355b79e69dd9"
   },
   "outputs": [
    {
     "data": {
      "image/png": "[encoded data removed]",
      "text/plain": [
       "<Figure size 720x576 with 2 Axes>"
      ]
     },
     "metadata": {},
     "output_type": "display_data"
    },
    {
     "data": {
      "image/png": "[encoded data removed]",
      "text/plain": [
       "<Figure size 720x576 with 2 Axes>"
      ]
     },
     "metadata": {},
     "output_type": "display_data"
    }
   ],
   "source": [
    "plt.figure(figsize=(10, 8));\n",
    "plt.subplot(221)\n",
    "df['Reservado'].value_counts().sort_index().plot(kind='bar',color='b',legend=True);\n",
    "plt.subplot(222)\n",
    "df['Reservado'].value_counts().sort_index().plot(legend=True);\n",
    "plt.show()\n",
    "plt.figure(figsize=(10, 8));\n",
    "plt.subplot(221)\n",
    "df['Check-in'].value_counts().sort_index().plot(kind='bar',color='b',legend=True);\n",
    "plt.subplot(222)\n",
    "df['Check-in'].value_counts().sort_index().plot(legend=True);\n",
    "plt.show()"
   ]
  },
  {
   "cell_type": "markdown",
   "metadata": {},
   "source": [
    "* ### Vamos excluir do conjunto de dados as reservas com Status Cancelado\n",
    "\n",
    " *Já vimos acima que correspondem 14.3% dos dados em geral* \n",
    " \n",
    "*A decisão desta exclusão se deve principalmente ao fato de não termos  que se preocuparmos com a taxa de cancelamento depois da previsão.*\n",
    "\n"
   ]
  },
  {
   "cell_type": "code",
   "execution_count": 399,
   "metadata": {},
   "outputs": [],
   "source": [
    "df = df[df['Status']=='Confirmada']"
   ]
  },
  {
   "cell_type": "markdown",
   "metadata": {
    "colab_type": "text",
    "id": "CK5Nh4rwczJw"
   },
   "source": [
    "##### Agora, vamos guardar o volume reservado de cada mês para fazermos a previsão para os próximos 2 meses"
   ]
  },
  {
   "cell_type": "code",
   "execution_count": 400,
   "metadata": {
    "colab": {
     "base_uri": "https://localhost:8080/",
     "height": 378
    },
    "colab_type": "code",
    "id": "6bPrCyKj6vDR",
    "outputId": "fbe52b4e-58b2-43f8-973d-c00661477dc2"
   },
   "outputs": [],
   "source": [
    "cont = df['Reservado'].value_counts().sort_index()\n",
    "df_cont = pd.DataFrame(cont)\n",
    "df_cont.columns = ['Count'];"
   ]
  },
  {
   "cell_type": "markdown",
   "metadata": {},
   "source": [
    "## Aplicando alguns modelos \n",
    "\n",
    "Os modelos que serão utilizados para a previsão são:\n",
    "\n",
    "* **Regressão Linear**\n",
    "* **Média Móvel**\n",
    "* **ARMA**\n",
    "* **ARIMA**"
   ]
  },
  {
   "cell_type": "markdown",
   "metadata": {
    "colab_type": "text",
    "id": "A8hUspv76vva"
   },
   "source": [
    "* ### Regressão Linear "
   ]
  },
  {
   "cell_type": "code",
   "execution_count": 401,
   "metadata": {
    "colab": {
     "base_uri": "https://localhost:8080/",
     "height": 404
    },
    "colab_type": "code",
    "id": "LhKxFa6sPL0H",
    "outputId": "2a53b036-f9d7-46f9-ebc8-3599392e1d30"
   },
   "outputs": [
    {
     "data": {
      "text/plain": [
       "LinearRegression(copy_X=True, fit_intercept=True, n_jobs=None, normalize=False)"
      ]
     },
     "execution_count": 401,
     "metadata": {},
     "output_type": "execute_result"
    }
   ],
   "source": [
    "X = [i for i in range(2, len(df_cont)+2)]\n",
    "X = np.reshape(X, (len(X), 1))\n",
    "y = df_cont\n",
    "model_regression = LinearRegression()\n",
    "model_regression.fit(X, y)"
   ]
  },
  {
   "cell_type": "markdown",
   "metadata": {},
   "source": [
    "* ### Média Móvel"
   ]
  },
  {
   "cell_type": "code",
   "execution_count": 402,
   "metadata": {},
   "outputs": [],
   "source": [
    "y_hat_avg = df_cont['Count'].rolling(2).mean()"
   ]
  },
  {
   "cell_type": "markdown",
   "metadata": {
    "colab_type": "text",
    "id": "9K4yS7YI98lC"
   },
   "source": [
    "* ### Modelo ARMA\n",
    "\n",
    "\n",
    "*Lembrando que o modelo ARMA Refere-se à **Média Móvel AutoRegressiva**: que é uma combinação da equação AR + MA para previsão, onde AR - AutoRegressão e  MA - Média Móvel.*"
   ]
  },
  {
   "cell_type": "code",
   "execution_count": 403,
   "metadata": {
    "colab": {
     "base_uri": "https://localhost:8080/",
     "height": 493
    },
    "colab_type": "code",
    "id": "REiUioxe8hE4",
    "outputId": "2ddee73e-5bc7-4af1-8102-5d23eb8c8f37"
   },
   "outputs": [
    {
     "name": "stderr",
     "output_type": "stream",
     "text": [
      "C:\\Users\\Administrador\\Anaconda3\\lib\\site-packages\\statsmodels\\tsa\\base\\tsa_model.py:165: ValueWarning: No frequency information was provided, so inferred frequency MS will be used.\n",
      "  % freq, ValueWarning)\n"
     ]
    }
   ],
   "source": [
    "model_ARMA = sm.tsa.ARMA(df_cont, (3,0)).fit(disp=False)\n",
    "#Estatistica do modelo\n",
    "#print(model_ARMA.summary());"
   ]
  },
  {
   "cell_type": "markdown",
   "metadata": {},
   "source": [
    "* ### Modelo ARIMA\n",
    "\n",
    "*Lembrando que o modelo ARIMA: É a **Média Móvel Integrada AutoRegressiva** .*\n",
    "\n",
    "\n",
    "Além disso: o modelo depende de três variáveis-chave order=(p, d, q), onde:\n",
    "* p = número de defasagens / ordem dos termos de RA\n",
    "* d = ordem de diferenciação\n",
    "* q = número de erros de previsão atrasados ​​/ ordem dos termos de MA"
   ]
  },
  {
   "cell_type": "markdown",
   "metadata": {},
   "source": [
    "Agora, vamos usar o teste Augmented Dickey Fuller (ADF) ao nível de significância de 5% para verificar se as séries temporais estão estacionárias:"
   ]
  },
  {
   "cell_type": "code",
   "execution_count": 404,
   "metadata": {},
   "outputs": [
    {
     "name": "stdout",
     "output_type": "stream",
     "text": [
      "p-value: 0.0\n"
     ]
    }
   ],
   "source": [
    "print(\"p-value:\", adfuller(df_cont['Count'])[1])"
   ]
  },
  {
   "cell_type": "markdown",
   "metadata": {},
   "source": [
    "O p-valor é maior que o nível de significância 0,05, portanto, não é estacionário e a diferenciação é, como tal, necessária, ie. d > 0."
   ]
  },
  {
   "cell_type": "markdown",
   "metadata": {},
   "source": [
    "Agora vamos descobrir a ordem da diferenciação, d , usando a correlação automática:"
   ]
  },
  {
   "cell_type": "code",
   "execution_count": 405,
   "metadata": {},
   "outputs": [
    {
     "data": {
      "image/png": "[encoded data removed]",
      "text/plain": [
       "<Figure size 720x720 with 3 Axes>"
      ]
     },
     "metadata": {},
     "output_type": "display_data"
    }
   ],
   "source": [
    "from statsmodels.graphics.tsaplots import plot_acf, plot_pacf\n",
    "fig = plt.figure(figsize=(10, 10))\n",
    "ax1 = fig.add_subplot(311)\n",
    "fig = plot_acf(df_cont, ax=ax1,title=\"Autocorrelation on Original Series\") \n",
    "\n",
    "ax2 = fig.add_subplot(312)\n",
    "fig = plot_acf(df_cont.diff().dropna(), ax=ax2, title=\"1st Order Differencing\")\n",
    "\n",
    "ax3 = fig.add_subplot(313)\n",
    "fig = plot_acf(df_cont.diff().diff().dropna(), ax=ax3, title=\"2nd Order Differencing\")\n"
   ]
  },
  {
   "cell_type": "markdown",
   "metadata": {},
   "source": [
    "Podemos observar que as séries temporais são estacionárias na ordem de diferenciação d = 1, onde apenas o primeiro atraso está acima do nível de significância."
   ]
  },
  {
   "cell_type": "markdown",
   "metadata": {},
   "source": [
    "Agora, vamos descobrir a ordem da AR, p. Para obter isso, vamos contar o número de defasagens acima do nível de significância na autocorrelação parcial:"
   ]
  },
  {
   "cell_type": "code",
   "execution_count": 406,
   "metadata": {},
   "outputs": [
    {
     "name": "stderr",
     "output_type": "stream",
     "text": [
      "C:\\Users\\Administrador\\Anaconda3\\lib\\site-packages\\statsmodels\\regression\\linear_model.py:1358: RuntimeWarning: invalid value encountered in sqrt\n",
      "  return rho, np.sqrt(sigmasq)\n",
      "C:\\Users\\Administrador\\Anaconda3\\lib\\site-packages\\statsmodels\\regression\\linear_model.py:1350: RuntimeWarning: invalid value encountered in double_scalars\n",
      "  r[k] = (X[0:-k] * X[k:]).sum() / denom(k)\n"
     ]
    },
    {
     "data": {
      "image/png": "[encoded data removed]",
      "text/plain": [
       "<Figure size 576x432 with 1 Axes>"
      ]
     },
     "metadata": {},
     "output_type": "display_data"
    }
   ],
   "source": [
    "plot_pacf(df_cont.diff().dropna(), lags=40);"
   ]
  },
  {
   "cell_type": "markdown",
   "metadata": {},
   "source": [
    "Encontramos 3  atrasos que estão bem acima do nível de significância e, portanto, p = 3.  "
   ]
  },
  {
   "cell_type": "markdown",
   "metadata": {},
   "source": [
    "Agora, vamos usar a função de autocorrelação para descobrirmos a ordem dos termos MA, q, o qual são necessários para remover a autocorrelação nas séries estacionárias."
   ]
  },
  {
   "cell_type": "code",
   "execution_count": 407,
   "metadata": {
    "colab": {
     "base_uri": "https://localhost:8080/",
     "height": 763
    },
    "colab_type": "code",
    "id": "-5Ep4HIU__Ju",
    "outputId": "57999808-a500-4553-d959-ddad4407810c"
   },
   "outputs": [
    {
     "data": {
      "image/png": "[encoded data removed]",
      "text/plain": [
       "<Figure size 576x432 with 1 Axes>"
      ]
     },
     "metadata": {},
     "output_type": "display_data"
    }
   ],
   "source": [
    "plot_acf(df_cont.diff().dropna());"
   ]
  },
  {
   "cell_type": "markdown",
   "metadata": {},
   "source": [
    "Podemos ver existe um atraso acima do nível de significância e, portanto, q = 1 ."
   ]
  },
  {
   "cell_type": "code",
   "execution_count": 408,
   "metadata": {
    "colab": {
     "base_uri": "https://localhost:8080/",
     "height": 493
    },
    "colab_type": "code",
    "id": "kVzprwn2CtM9",
    "outputId": "b980ba85-7a93-4d33-e65f-b522fdd6b7f7"
   },
   "outputs": [
    {
     "name": "stderr",
     "output_type": "stream",
     "text": [
      "C:\\Users\\Administrador\\Anaconda3\\lib\\site-packages\\statsmodels\\tsa\\base\\tsa_model.py:165: ValueWarning: No frequency information was provided, so inferred frequency MS will be used.\n",
      "  % freq, ValueWarning)\n",
      "C:\\Users\\Administrador\\Anaconda3\\lib\\site-packages\\statsmodels\\tsa\\base\\tsa_model.py:165: ValueWarning: No frequency information was provided, so inferred frequency MS will be used.\n",
      "  % freq, ValueWarning)\n",
      "C:\\Users\\Administrador\\Anaconda3\\lib\\site-packages\\statsmodels\\tsa\\ar_model.py:763: RuntimeWarning: divide by zero encountered in log\n",
      "  return np.log(self.sigma2) + (1 + self.df_model) * np.log(nobs)/nobs\n",
      "C:\\Users\\Administrador\\Anaconda3\\lib\\site-packages\\statsmodels\\base\\model.py:492: HessianInversionWarning: Inverting hessian failed, no bse or cov_params available\n",
      "  'available', HessianInversionWarning)\n"
     ]
    }
   ],
   "source": [
    "model_ARIMA = ARIMA(df_cont, order=(3, 1, 1)).fit()\n",
    "#print(model_ARIMA.summary())"
   ]
  },
  {
   "cell_type": "markdown",
   "metadata": {},
   "source": [
    "* ### Calculando RMSE (Root Mean Squared Error) de cada modelo##"
   ]
  },
  {
   "cell_type": "code",
   "execution_count": 409,
   "metadata": {},
   "outputs": [
    {
     "name": "stdout",
     "output_type": "stream",
     "text": [
      "\n",
      "Root Mean Squared Error\n",
      "RMSE Regressão Linear: 85.63057369605292\n",
      "RMSE Média Móvel: 59.96573095434499\n",
      "RMSE ARMA: 134.5148651497514\n",
      "RMSE ARIMA: 81.90637501500959\n"
     ]
    }
   ],
   "source": [
    "print('\\nRoot Mean Squared Error')\n",
    "print('RMSE Regressão Linear:', sqrt(mean_squared_error(df_cont,model_regression.predict(X))))\n",
    "print('RMSE Média Móvel:', sqrt(mean_squared_error(df_cont.iloc[1:,],y_hat_avg[1:])))\n",
    "print('RMSE ARMA:', sqrt(mean_squared_error(df_cont, model_ARMA.predict())))\n",
    "print('RMSE ARIMA:',sqrt(mean_squared_error(df_cont.iloc[1:,:], model_ARIMA.predict(typ = 'levels'))))"
   ]
  },
  {
   "cell_type": "markdown",
   "metadata": {},
   "source": [
    "Podemos observar que o modelo de média móvel tem uma melhor aproximação aos dados.  "
   ]
  },
  {
   "cell_type": "markdown",
   "metadata": {
    "colab": {
     "base_uri": "https://localhost:8080/",
     "height": 608
    },
    "colab_type": "code",
    "id": "VZWyEqlZEEqx",
    "outputId": "e37b4862-c84c-45f7-d77e-fa5d47bb0ffb"
   },
   "source": [
    "* ### Visualizando cada modelo"
   ]
  },
  {
   "cell_type": "code",
   "execution_count": 410,
   "metadata": {},
   "outputs": [
    {
     "data": {
      "image/png": "[encoded data removed]",
      "text/plain": [
       "<Figure size 576x432 with 1 Axes>"
      ]
     },
     "metadata": {},
     "output_type": "display_data"
    },
    {
     "data": {
      "image/png": "[encoded data removed]",
      "text/plain": [
       "<Figure size 576x432 with 1 Axes>"
      ]
     },
     "metadata": {},
     "output_type": "display_data"
    },
    {
     "data": {
      "image/png": "[encoded data removed]",
      "text/plain": [
       "<Figure size 576x432 with 1 Axes>"
      ]
     },
     "metadata": {},
     "output_type": "display_data"
    },
    {
     "data": {
      "image/png": "[encoded data removed]",
      "text/plain": [
       "<Figure size 576x432 with 1 Axes>"
      ]
     },
     "metadata": {},
     "output_type": "display_data"
    }
   ],
   "source": [
    "#Regressão Linear\n",
    "fig, ax = plt.subplots(figsize=(8,6))\n",
    "plt.plot(model_regression.predict(X), label='Linear Regression' )\n",
    "plt.plot(df_cont.values,label='Count')\n",
    "plt.plot([9,10,11],[int(model_regression.predict(np.array([11]).reshape(-1,1))),int(model_regression.predict(np.array([12]).reshape(-1,1))),\n",
    "                 int(model_regression.predict(np.array([13]).reshape(-1,1)))],label='forecast')\n",
    "#plt.title('Regressão do Periodo por Count')\n",
    "plt.xlabel('Periodo')\n",
    "plt.ylabel('Count')\n",
    "plt.legend()\n",
    "plt.show()\n",
    "#Média móvel\n",
    "plt.figure(figsize=(8,6)) \n",
    "plt.plot(y_hat_avg, label='Média Móvel')\n",
    "plt.plot(df_cont['Count'], label='Count') \n",
    "plt.plot(['2019-11','2019-12','2020-01'],[int(y_hat_avg[-1]),int(y_hat_avg[-1]),int((y_hat_avg[-2]+y_hat_avg[-1])/2)],label='forecast')\n",
    "\n",
    "plt.ylabel('Count')\n",
    "plt.xlabel('Periodo')\n",
    "plt.legend()\n",
    "plt.show()\n",
    "#ARMA\n",
    "fig, ax = plt.subplots(figsize=(8,6))\n",
    "fig = model_ARMA.plot_predict(start='2019-03', end='2020-01', ax=ax)\n",
    "plt.title('Previsão do count para os próximos 2 meses, utilizando o modelo ARMA')\n",
    "plt.ylabel('Count')\n",
    "plt.xlabel('Periodo')\n",
    "legend = ax.legend(loc='upper left')\n",
    "plt.show()\n",
    "#ARIMA\n",
    "fig, ax = plt.subplots(figsize=(8,6))\n",
    "fig = model_ARIMA.plot_predict(start='2019-03', end='2020-01', ax=ax)\n",
    "plt.title('Previsão do count para os próximos 2 meses, utilizando o modelo ARIMA')\n",
    "plt.ylabel('Count')\n",
    "plt.xlabel('Periodo')\n",
    "legend = ax.legend(loc='upper left')\n",
    "plt.show()\n",
    "\n"
   ]
  },
  {
   "cell_type": "code",
   "execution_count": 411,
   "metadata": {},
   "outputs": [],
   "source": [
    "forecast = {'Mes':['12-2019','01-2020'], \n",
    "            'reg_linear':[int(model_regression.predict(np.array([12]).reshape(-1,1))),int(model_regression.predict(np.array([13]).reshape(-1,1)))],\n",
    "            'media_movel':[int(y_hat_avg[-1]),int((y_hat_avg[-2]+y_hat_avg[-1])/2)],\n",
    "            'ARMA':model_ARMA.predict(start='2019-12',end='2020-01').values.astype(int),\n",
    "            'ARIMA':model_ARIMA.predict(start='2019-12',end='2020-01',typ='levels').values.astype(int)}"
   ]
  },
  {
   "cell_type": "code",
   "execution_count": 412,
   "metadata": {
    "scrolled": true
   },
   "outputs": [],
   "source": [
    "foracasts = pd.DataFrame(forecast)\n",
    "foracasts.index=['2019-12','2020-01']"
   ]
  },
  {
   "cell_type": "code",
   "execution_count": 413,
   "metadata": {},
   "outputs": [
    {
     "data": {
      "image/png": "[encoded data removed]",
      "text/plain": [
       "<Figure size 864x576 with 1 Axes>"
      ]
     },
     "metadata": {},
     "output_type": "display_data"
    }
   ],
   "source": [
    "ind = ['2019-11','2019-12','2020-01']\n",
    "fig, ax = plt.subplots(figsize=(12,8))\n",
    "plt.plot(df_cont['Count'], label='Count') \n",
    "plt.plot(ind,[df_cont['Count'][-1],foracasts['reg_linear'][0],foracasts['reg_linear'][1]],label='Regressão Linear')\n",
    "plt.plot(ind,[df_cont['Count'][-1],foracasts['media_movel'][0],foracasts['media_movel'][1]],label = 'Média Móvel')\n",
    "plt.plot(ind,[df_cont['Count'][-1],foracasts['ARMA'][0],foracasts['ARMA'][1]], label = 'ARMA' )\n",
    "plt.plot(ind,[df_cont['Count'][-1],foracasts['ARIMA'][0],foracasts['ARIMA'][1]], label = 'ARIMA')\n",
    "plt.ylabel('Volumes de Reservas')\n",
    "plt.xlabel('Periodo')\n",
    "legend = ax.legend(loc='upper left')\n",
    "plt.show()"
   ]
  },
  {
   "cell_type": "markdown",
   "metadata": {},
   "source": [
    "## Premissas da planilha"
   ]
  },
  {
   "cell_type": "markdown",
   "metadata": {},
   "source": [
    "* *Custo operacional por unidade em Junho/2019*"
   ]
  },
  {
   "cell_type": "code",
   "execution_count": 449,
   "metadata": {},
   "outputs": [],
   "source": [
    "def c_op_u():\n",
    "    pessoal        = 150.0\n",
    "    manutecao      = 15.0\n",
    "    lavandeira     = 30.0\n",
    "    dispersas_fixas= 450.0\n",
    "    return (pessoal+manutecao+lavandeira+dispersas_fixas)"
   ]
  },
  {
   "cell_type": "markdown",
   "metadata": {},
   "source": [
    "* **Unidades disponíveis e Taxa de crescimento do custo por unidade**"
   ]
  },
  {
   "cell_type": "code",
   "execution_count": 450,
   "metadata": {},
   "outputs": [
    {
     "data": {
      "text/html": [
       "<div>\n",
       "<style scoped>\n",
       "    .dataframe tbody tr th:only-of-type {\n",
       "        vertical-align: middle;\n",
       "    }\n",
       "\n",
       "    .dataframe tbody tr th {\n",
       "        vertical-align: top;\n",
       "    }\n",
       "\n",
       "    .dataframe thead th {\n",
       "        text-align: right;\n",
       "    }\n",
       "</style>\n",
       "<table border=\"1\" class=\"dataframe\">\n",
       "  <thead>\n",
       "    <tr style=\"text-align: right;\">\n",
       "      <th></th>\n",
       "      <th>Unidades disponíveis</th>\n",
       "      <th>Taxa de crescimento do custo por unidade</th>\n",
       "    </tr>\n",
       "  </thead>\n",
       "  <tbody>\n",
       "    <tr>\n",
       "      <td>2019-02</td>\n",
       "      <td>10</td>\n",
       "      <td>-</td>\n",
       "    </tr>\n",
       "    <tr>\n",
       "      <td>2019-03</td>\n",
       "      <td>11</td>\n",
       "      <td>-0.05</td>\n",
       "    </tr>\n",
       "    <tr>\n",
       "      <td>2019-04</td>\n",
       "      <td>17</td>\n",
       "      <td>-0.02</td>\n",
       "    </tr>\n",
       "    <tr>\n",
       "      <td>2019-05</td>\n",
       "      <td>22</td>\n",
       "      <td>-0.03</td>\n",
       "    </tr>\n",
       "    <tr>\n",
       "      <td>2019-06</td>\n",
       "      <td>54</td>\n",
       "      <td>-0.1</td>\n",
       "    </tr>\n",
       "    <tr>\n",
       "      <td>2019-07</td>\n",
       "      <td>59</td>\n",
       "      <td>-0.05</td>\n",
       "    </tr>\n",
       "    <tr>\n",
       "      <td>2019-08</td>\n",
       "      <td>91</td>\n",
       "      <td>-0.05</td>\n",
       "    </tr>\n",
       "    <tr>\n",
       "      <td>2019-09</td>\n",
       "      <td>92</td>\n",
       "      <td>-0.01</td>\n",
       "    </tr>\n",
       "    <tr>\n",
       "      <td>2019-10</td>\n",
       "      <td>92</td>\n",
       "      <td>-0.02</td>\n",
       "    </tr>\n",
       "    <tr>\n",
       "      <td>2019-11</td>\n",
       "      <td>138</td>\n",
       "      <td>-0.15</td>\n",
       "    </tr>\n",
       "  </tbody>\n",
       "</table>\n",
       "</div>"
      ],
      "text/plain": [
       "         Unidades disponíveis Taxa de crescimento do custo por unidade\n",
       "2019-02                    10                                        -\n",
       "2019-03                    11                                    -0.05\n",
       "2019-04                    17                                    -0.02\n",
       "2019-05                    22                                    -0.03\n",
       "2019-06                    54                                     -0.1\n",
       "2019-07                    59                                    -0.05\n",
       "2019-08                    91                                    -0.05\n",
       "2019-09                    92                                    -0.01\n",
       "2019-10                    92                                    -0.02\n",
       "2019-11                   138                                    -0.15"
      ]
     },
     "execution_count": 450,
     "metadata": {},
     "output_type": "execute_result"
    }
   ],
   "source": [
    "idx = ['2019-02','2019-03','2019-04','2019-05','2019-06','2019-07','2019-08','2019-09','2019-10','2019-11']\n",
    "Unid_disp = [10,11,17,22,54,59,91,92,92,138]\n",
    "Taxa_cres_do_cust_por_unid = ['-',-0.05,-0.02,-0.03,-0.10,-0.05,-0.05,-0.01,-0.02,-0.15]\n",
    "premissas = pd.DataFrame({'Unidades disponíveis':Unid_disp,\n",
    "              'Taxa de crescimento do custo por unidade':Taxa_cres_do_cust_por_unid},\n",
    "              index=idx)\n",
    "premissas"
   ]
  },
  {
   "cell_type": "markdown",
   "metadata": {},
   "source": [
    "Agora, vamos calcular **Custo operacional por unidade** de cada mês a partir das seguintes premissas: \n",
    "1. *Custo operacional por unidade em Junho/2019*\n",
    "2. *Taxa de crescimento do custo por unidade* "
   ]
  },
  {
   "cell_type": "code",
   "execution_count": 451,
   "metadata": {},
   "outputs": [
    {
     "data": {
      "text/html": [
       "<div>\n",
       "<style scoped>\n",
       "    .dataframe tbody tr th:only-of-type {\n",
       "        vertical-align: middle;\n",
       "    }\n",
       "\n",
       "    .dataframe tbody tr th {\n",
       "        vertical-align: top;\n",
       "    }\n",
       "\n",
       "    .dataframe thead th {\n",
       "        text-align: right;\n",
       "    }\n",
       "</style>\n",
       "<table border=\"1\" class=\"dataframe\">\n",
       "  <thead>\n",
       "    <tr style=\"text-align: right;\">\n",
       "      <th></th>\n",
       "      <th>Unidades disponíveis</th>\n",
       "      <th>Taxa de crescimento do custo por unidade</th>\n",
       "      <th>Custo operacional por unidade</th>\n",
       "    </tr>\n",
       "  </thead>\n",
       "  <tbody>\n",
       "    <tr>\n",
       "      <td>2019-02</td>\n",
       "      <td>10</td>\n",
       "      <td>-</td>\n",
       "      <td>782.670735</td>\n",
       "    </tr>\n",
       "    <tr>\n",
       "      <td>2019-03</td>\n",
       "      <td>11</td>\n",
       "      <td>-0.05</td>\n",
       "      <td>745.400700</td>\n",
       "    </tr>\n",
       "    <tr>\n",
       "      <td>2019-04</td>\n",
       "      <td>17</td>\n",
       "      <td>-0.02</td>\n",
       "      <td>730.785000</td>\n",
       "    </tr>\n",
       "    <tr>\n",
       "      <td>2019-05</td>\n",
       "      <td>22</td>\n",
       "      <td>-0.03</td>\n",
       "      <td>709.500000</td>\n",
       "    </tr>\n",
       "    <tr>\n",
       "      <td>2019-06</td>\n",
       "      <td>54</td>\n",
       "      <td>-0.1</td>\n",
       "      <td>645.000000</td>\n",
       "    </tr>\n",
       "    <tr>\n",
       "      <td>2019-07</td>\n",
       "      <td>59</td>\n",
       "      <td>-0.05</td>\n",
       "      <td>612.750000</td>\n",
       "    </tr>\n",
       "    <tr>\n",
       "      <td>2019-08</td>\n",
       "      <td>91</td>\n",
       "      <td>-0.05</td>\n",
       "      <td>582.112500</td>\n",
       "    </tr>\n",
       "    <tr>\n",
       "      <td>2019-09</td>\n",
       "      <td>92</td>\n",
       "      <td>-0.01</td>\n",
       "      <td>576.291375</td>\n",
       "    </tr>\n",
       "    <tr>\n",
       "      <td>2019-10</td>\n",
       "      <td>92</td>\n",
       "      <td>-0.02</td>\n",
       "      <td>564.765547</td>\n",
       "    </tr>\n",
       "    <tr>\n",
       "      <td>2019-11</td>\n",
       "      <td>138</td>\n",
       "      <td>-0.15</td>\n",
       "      <td>480.050715</td>\n",
       "    </tr>\n",
       "  </tbody>\n",
       "</table>\n",
       "</div>"
      ],
      "text/plain": [
       "         Unidades disponíveis Taxa de crescimento do custo por unidade  \\\n",
       "2019-02                    10                                        -   \n",
       "2019-03                    11                                    -0.05   \n",
       "2019-04                    17                                    -0.02   \n",
       "2019-05                    22                                    -0.03   \n",
       "2019-06                    54                                     -0.1   \n",
       "2019-07                    59                                    -0.05   \n",
       "2019-08                    91                                    -0.05   \n",
       "2019-09                    92                                    -0.01   \n",
       "2019-10                    92                                    -0.02   \n",
       "2019-11                   138                                    -0.15   \n",
       "\n",
       "         Custo operacional por unidade  \n",
       "2019-02                     782.670735  \n",
       "2019-03                     745.400700  \n",
       "2019-04                     730.785000  \n",
       "2019-05                     709.500000  \n",
       "2019-06                     645.000000  \n",
       "2019-07                     612.750000  \n",
       "2019-08                     582.112500  \n",
       "2019-09                     576.291375  \n",
       "2019-10                     564.765547  \n",
       "2019-11                     480.050715  "
      ]
     },
     "execution_count": 451,
     "metadata": {},
     "output_type": "execute_result"
    }
   ],
   "source": [
    "Custo_oper_por_unid = [c_op_u()*(1.10)*(1.03)*(1.02)*(1.05),c_op_u()*(1.10)*(1.03)*(1.02),c_op_u()*(1.10)*(1.03),\n",
    "                       c_op_u()*(1.10),c_op_u(),c_op_u()*(0.95),c_op_u()*(0.95)*(0.95),c_op_u()*(0.95)*(0.95)*(0.99),\n",
    "                       c_op_u()*(0.95)*(0.95)*(0.99)*(0.98),c_op_u()*(0.95)*(0.95)*(0.99)*(0.98)*(0.85)]\n",
    "premissas['Custo operacional por unidade'] = Custo_oper_por_unid\n",
    "premissas"
   ]
  },
  {
   "cell_type": "markdown",
   "metadata": {},
   "source": [
    "* Veremos o custo operacional  por unidade no decorrer dos meses"
   ]
  },
  {
   "cell_type": "code",
   "execution_count": 452,
   "metadata": {},
   "outputs": [
    {
     "data": {
      "text/plain": [
       "<BarContainer object of 10 artists>"
      ]
     },
     "execution_count": 452,
     "metadata": {},
     "output_type": "execute_result"
    },
    {
     "data": {
      "image/png": "[encoded data removed]",
      "text/plain": [
       "<Figure size 576x432 with 1 Axes>"
      ]
     },
     "metadata": {},
     "output_type": "display_data"
    }
   ],
   "source": [
    "plt.bar(premissas.index,premissas['Custo operacional por unidade'])"
   ]
  },
  {
   "cell_type": "markdown",
   "metadata": {},
   "source": [
    "Note que o custo por unidade diminui na medida que aumenta o número de unidade disponível.  \n",
    "\n",
    "\n",
    "* **Agora, veremos uma função que determina a estadia disponível de cada mês diante das unidades disponíveis.** "
   ]
  },
  {
   "cell_type": "code",
   "execution_count": 486,
   "metadata": {},
   "outputs": [],
   "source": [
    "def estadia_disponivel(n_unidade,mes):\n",
    "    if mes==2:\n",
    "        return n_unidade*28\n",
    "    if mes==1 or mes==3 or mes==5 or mes==7 or mes==8 or mes==10 or mes==12:\n",
    "        return n_unidade*31\n",
    "    if mes==4 or mes==6 or mes==9 or mes==11:\n",
    "        return n_unidade*30       "
   ]
  },
  {
   "cell_type": "markdown",
   "metadata": {},
   "source": [
    "* Adicionando a estadia disponível para cada mês - dados fornecidos das premissas"
   ]
  },
  {
   "cell_type": "code",
   "execution_count": 470,
   "metadata": {},
   "outputs": [
    {
     "data": {
      "text/html": [
       "<div>\n",
       "<style scoped>\n",
       "    .dataframe tbody tr th:only-of-type {\n",
       "        vertical-align: middle;\n",
       "    }\n",
       "\n",
       "    .dataframe tbody tr th {\n",
       "        vertical-align: top;\n",
       "    }\n",
       "\n",
       "    .dataframe thead th {\n",
       "        text-align: right;\n",
       "    }\n",
       "</style>\n",
       "<table border=\"1\" class=\"dataframe\">\n",
       "  <thead>\n",
       "    <tr style=\"text-align: right;\">\n",
       "      <th></th>\n",
       "      <th>Unidades disponíveis</th>\n",
       "      <th>Taxa de crescimento do custo por unidade</th>\n",
       "      <th>Custo operacional por unidade</th>\n",
       "      <th>Estadia disponível</th>\n",
       "      <th>Ocupação</th>\n",
       "      <th>Taxa de Ocupação %</th>\n",
       "      <th>Custo Total</th>\n",
       "      <th>Receita Total</th>\n",
       "      <th>Lucro</th>\n",
       "      <th>Volume Reserva</th>\n",
       "    </tr>\n",
       "  </thead>\n",
       "  <tbody>\n",
       "    <tr>\n",
       "      <td>2019-02</td>\n",
       "      <td>10</td>\n",
       "      <td>-</td>\n",
       "      <td>782.670735</td>\n",
       "      <td>280</td>\n",
       "      <td>116</td>\n",
       "      <td>41.43</td>\n",
       "      <td>7826.707350</td>\n",
       "      <td>2941.021125</td>\n",
       "      <td>-4885.686225</td>\n",
       "      <td>96</td>\n",
       "    </tr>\n",
       "    <tr>\n",
       "      <td>2019-03</td>\n",
       "      <td>11</td>\n",
       "      <td>-0.05</td>\n",
       "      <td>745.400700</td>\n",
       "      <td>341</td>\n",
       "      <td>308</td>\n",
       "      <td>90.32</td>\n",
       "      <td>8199.407700</td>\n",
       "      <td>9338.390250</td>\n",
       "      <td>1138.982550</td>\n",
       "      <td>104</td>\n",
       "    </tr>\n",
       "    <tr>\n",
       "      <td>2019-04</td>\n",
       "      <td>17</td>\n",
       "      <td>-0.02</td>\n",
       "      <td>730.785000</td>\n",
       "      <td>510</td>\n",
       "      <td>344</td>\n",
       "      <td>67.45</td>\n",
       "      <td>12423.345000</td>\n",
       "      <td>10945.202625</td>\n",
       "      <td>-1478.142375</td>\n",
       "      <td>122</td>\n",
       "    </tr>\n",
       "    <tr>\n",
       "      <td>2019-05</td>\n",
       "      <td>22</td>\n",
       "      <td>-0.03</td>\n",
       "      <td>709.500000</td>\n",
       "      <td>682</td>\n",
       "      <td>552</td>\n",
       "      <td>80.94</td>\n",
       "      <td>15609.000000</td>\n",
       "      <td>18987.924375</td>\n",
       "      <td>3378.924375</td>\n",
       "      <td>224</td>\n",
       "    </tr>\n",
       "    <tr>\n",
       "      <td>2019-06</td>\n",
       "      <td>54</td>\n",
       "      <td>-0.1</td>\n",
       "      <td>645.000000</td>\n",
       "      <td>1620</td>\n",
       "      <td>1371</td>\n",
       "      <td>84.63</td>\n",
       "      <td>34830.000000</td>\n",
       "      <td>46519.365375</td>\n",
       "      <td>11689.365375</td>\n",
       "      <td>527</td>\n",
       "    </tr>\n",
       "    <tr>\n",
       "      <td>2019-07</td>\n",
       "      <td>59</td>\n",
       "      <td>-0.05</td>\n",
       "      <td>612.750000</td>\n",
       "      <td>1829</td>\n",
       "      <td>1534</td>\n",
       "      <td>83.87</td>\n",
       "      <td>36152.250000</td>\n",
       "      <td>54104.893500</td>\n",
       "      <td>17952.643500</td>\n",
       "      <td>517</td>\n",
       "    </tr>\n",
       "    <tr>\n",
       "      <td>2019-08</td>\n",
       "      <td>91</td>\n",
       "      <td>-0.05</td>\n",
       "      <td>582.112500</td>\n",
       "      <td>2821</td>\n",
       "      <td>1785</td>\n",
       "      <td>63.28</td>\n",
       "      <td>52972.237500</td>\n",
       "      <td>66432.455250</td>\n",
       "      <td>13460.217750</td>\n",
       "      <td>678</td>\n",
       "    </tr>\n",
       "    <tr>\n",
       "      <td>2019-09</td>\n",
       "      <td>92</td>\n",
       "      <td>-0.01</td>\n",
       "      <td>576.291375</td>\n",
       "      <td>2760</td>\n",
       "      <td>2112</td>\n",
       "      <td>76.52</td>\n",
       "      <td>53018.806500</td>\n",
       "      <td>72856.518000</td>\n",
       "      <td>19837.711500</td>\n",
       "      <td>656</td>\n",
       "    </tr>\n",
       "    <tr>\n",
       "      <td>2019-10</td>\n",
       "      <td>92</td>\n",
       "      <td>-0.02</td>\n",
       "      <td>564.765547</td>\n",
       "      <td>2852</td>\n",
       "      <td>1739</td>\n",
       "      <td>60.97</td>\n",
       "      <td>51958.430370</td>\n",
       "      <td>58460.619000</td>\n",
       "      <td>6502.188630</td>\n",
       "      <td>667</td>\n",
       "    </tr>\n",
       "    <tr>\n",
       "      <td>2019-11</td>\n",
       "      <td>138</td>\n",
       "      <td>-0.15</td>\n",
       "      <td>480.050715</td>\n",
       "      <td>4140</td>\n",
       "      <td>2262</td>\n",
       "      <td>54.64</td>\n",
       "      <td>66246.998722</td>\n",
       "      <td>88254.817875</td>\n",
       "      <td>22007.819153</td>\n",
       "      <td>682</td>\n",
       "    </tr>\n",
       "  </tbody>\n",
       "</table>\n",
       "</div>"
      ],
      "text/plain": [
       "         Unidades disponíveis Taxa de crescimento do custo por unidade  \\\n",
       "2019-02                    10                                        -   \n",
       "2019-03                    11                                    -0.05   \n",
       "2019-04                    17                                    -0.02   \n",
       "2019-05                    22                                    -0.03   \n",
       "2019-06                    54                                     -0.1   \n",
       "2019-07                    59                                    -0.05   \n",
       "2019-08                    91                                    -0.05   \n",
       "2019-09                    92                                    -0.01   \n",
       "2019-10                    92                                    -0.02   \n",
       "2019-11                   138                                    -0.15   \n",
       "\n",
       "         Custo operacional por unidade  Estadia disponível  Ocupação  \\\n",
       "2019-02                     782.670735                 280       116   \n",
       "2019-03                     745.400700                 341       308   \n",
       "2019-04                     730.785000                 510       344   \n",
       "2019-05                     709.500000                 682       552   \n",
       "2019-06                     645.000000                1620      1371   \n",
       "2019-07                     612.750000                1829      1534   \n",
       "2019-08                     582.112500                2821      1785   \n",
       "2019-09                     576.291375                2760      2112   \n",
       "2019-10                     564.765547                2852      1739   \n",
       "2019-11                     480.050715                4140      2262   \n",
       "\n",
       "         Taxa de Ocupação %   Custo Total  Receita Total         Lucro  \\\n",
       "2019-02               41.43   7826.707350    2941.021125  -4885.686225   \n",
       "2019-03               90.32   8199.407700    9338.390250   1138.982550   \n",
       "2019-04               67.45  12423.345000   10945.202625  -1478.142375   \n",
       "2019-05               80.94  15609.000000   18987.924375   3378.924375   \n",
       "2019-06               84.63  34830.000000   46519.365375  11689.365375   \n",
       "2019-07               83.87  36152.250000   54104.893500  17952.643500   \n",
       "2019-08               63.28  52972.237500   66432.455250  13460.217750   \n",
       "2019-09               76.52  53018.806500   72856.518000  19837.711500   \n",
       "2019-10               60.97  51958.430370   58460.619000   6502.188630   \n",
       "2019-11               54.64  66246.998722   88254.817875  22007.819153   \n",
       "\n",
       "         Volume Reserva  \n",
       "2019-02              96  \n",
       "2019-03             104  \n",
       "2019-04             122  \n",
       "2019-05             224  \n",
       "2019-06             527  \n",
       "2019-07             517  \n",
       "2019-08             678  \n",
       "2019-09             656  \n",
       "2019-10             667  \n",
       "2019-11             682  "
      ]
     },
     "execution_count": 470,
     "metadata": {},
     "output_type": "execute_result"
    }
   ],
   "source": [
    "estadia_disponivel = [estadia_disponivel(10,2),estadia_disponivel(11,3),estadia_disponivel(17,4),estadia_disponivel(22,5),\n",
    "                      estadia_disponivel(54,6),estadia_disponivel(59,7),estadia_disponivel(91,8),estadia_disponivel(92,9),\n",
    "                      estadia_disponivel(92,10),estadia_disponivel(138,11)]\n",
    "premissas['Estadia disponível']= estadia_disponivel\n",
    "premissas"
   ]
  },
  {
   "cell_type": "markdown",
   "metadata": {},
   "source": [
    "* Agora, adicionaremos a estadia ocupada de cada mês  "
   ]
  },
  {
   "cell_type": "code",
   "execution_count": 471,
   "metadata": {},
   "outputs": [
    {
     "data": {
      "text/plain": [
       "[116, 308, 344, 552, 1371, 1534, 1785, 2112, 1739, 2262]"
      ]
     },
     "execution_count": 471,
     "metadata": {},
     "output_type": "execute_result"
    }
   ],
   "source": [
    "Estadia_ocupada = [df[df['Check-in'] == '2019-02']['Estadia'].sum(),df[df['Check-in'] == '2019-03']['Estadia'].sum(),\n",
    "                  df[df['Check-in'] == '2019-04']['Estadia'].sum(),df[df['Check-in'] == '2019-05']['Estadia'].sum(),\n",
    "                  df[df['Check-in'] == '2019-06']['Estadia'].sum(),df[df['Check-in'] == '2019-07']['Estadia'].sum(),\n",
    "                  df[df['Check-in'] == '2019-08']['Estadia'].sum(),df[df['Check-in'] == '2019-09']['Estadia'].sum(),\n",
    "                  df[df['Check-in'] == '2019-10']['Estadia'].sum(),df[df['Check-in'] == '2019-11']['Estadia'].sum()]\n",
    "Estadia_ocupada"
   ]
  },
  {
   "cell_type": "code",
   "execution_count": 472,
   "metadata": {},
   "outputs": [
    {
     "data": {
      "text/html": [
       "<div>\n",
       "<style scoped>\n",
       "    .dataframe tbody tr th:only-of-type {\n",
       "        vertical-align: middle;\n",
       "    }\n",
       "\n",
       "    .dataframe tbody tr th {\n",
       "        vertical-align: top;\n",
       "    }\n",
       "\n",
       "    .dataframe thead th {\n",
       "        text-align: right;\n",
       "    }\n",
       "</style>\n",
       "<table border=\"1\" class=\"dataframe\">\n",
       "  <thead>\n",
       "    <tr style=\"text-align: right;\">\n",
       "      <th></th>\n",
       "      <th>Unidades disponíveis</th>\n",
       "      <th>Taxa de crescimento do custo por unidade</th>\n",
       "      <th>Custo operacional por unidade</th>\n",
       "      <th>Estadia disponível</th>\n",
       "      <th>Ocupação</th>\n",
       "      <th>Taxa de Ocupação %</th>\n",
       "      <th>Custo Total</th>\n",
       "      <th>Receita Total</th>\n",
       "      <th>Lucro</th>\n",
       "      <th>Volume Reserva</th>\n",
       "    </tr>\n",
       "  </thead>\n",
       "  <tbody>\n",
       "    <tr>\n",
       "      <td>2019-02</td>\n",
       "      <td>10</td>\n",
       "      <td>-</td>\n",
       "      <td>782.670735</td>\n",
       "      <td>280</td>\n",
       "      <td>116</td>\n",
       "      <td>41.43</td>\n",
       "      <td>7826.707350</td>\n",
       "      <td>2941.021125</td>\n",
       "      <td>-4885.686225</td>\n",
       "      <td>96</td>\n",
       "    </tr>\n",
       "    <tr>\n",
       "      <td>2019-03</td>\n",
       "      <td>11</td>\n",
       "      <td>-0.05</td>\n",
       "      <td>745.400700</td>\n",
       "      <td>341</td>\n",
       "      <td>308</td>\n",
       "      <td>90.32</td>\n",
       "      <td>8199.407700</td>\n",
       "      <td>9338.390250</td>\n",
       "      <td>1138.982550</td>\n",
       "      <td>104</td>\n",
       "    </tr>\n",
       "    <tr>\n",
       "      <td>2019-04</td>\n",
       "      <td>17</td>\n",
       "      <td>-0.02</td>\n",
       "      <td>730.785000</td>\n",
       "      <td>510</td>\n",
       "      <td>344</td>\n",
       "      <td>67.45</td>\n",
       "      <td>12423.345000</td>\n",
       "      <td>10945.202625</td>\n",
       "      <td>-1478.142375</td>\n",
       "      <td>122</td>\n",
       "    </tr>\n",
       "    <tr>\n",
       "      <td>2019-05</td>\n",
       "      <td>22</td>\n",
       "      <td>-0.03</td>\n",
       "      <td>709.500000</td>\n",
       "      <td>682</td>\n",
       "      <td>552</td>\n",
       "      <td>80.94</td>\n",
       "      <td>15609.000000</td>\n",
       "      <td>18987.924375</td>\n",
       "      <td>3378.924375</td>\n",
       "      <td>224</td>\n",
       "    </tr>\n",
       "    <tr>\n",
       "      <td>2019-06</td>\n",
       "      <td>54</td>\n",
       "      <td>-0.1</td>\n",
       "      <td>645.000000</td>\n",
       "      <td>1620</td>\n",
       "      <td>1371</td>\n",
       "      <td>84.63</td>\n",
       "      <td>34830.000000</td>\n",
       "      <td>46519.365375</td>\n",
       "      <td>11689.365375</td>\n",
       "      <td>527</td>\n",
       "    </tr>\n",
       "    <tr>\n",
       "      <td>2019-07</td>\n",
       "      <td>59</td>\n",
       "      <td>-0.05</td>\n",
       "      <td>612.750000</td>\n",
       "      <td>1829</td>\n",
       "      <td>1534</td>\n",
       "      <td>83.87</td>\n",
       "      <td>36152.250000</td>\n",
       "      <td>54104.893500</td>\n",
       "      <td>17952.643500</td>\n",
       "      <td>517</td>\n",
       "    </tr>\n",
       "    <tr>\n",
       "      <td>2019-08</td>\n",
       "      <td>91</td>\n",
       "      <td>-0.05</td>\n",
       "      <td>582.112500</td>\n",
       "      <td>2821</td>\n",
       "      <td>1785</td>\n",
       "      <td>63.28</td>\n",
       "      <td>52972.237500</td>\n",
       "      <td>66432.455250</td>\n",
       "      <td>13460.217750</td>\n",
       "      <td>678</td>\n",
       "    </tr>\n",
       "    <tr>\n",
       "      <td>2019-09</td>\n",
       "      <td>92</td>\n",
       "      <td>-0.01</td>\n",
       "      <td>576.291375</td>\n",
       "      <td>2760</td>\n",
       "      <td>2112</td>\n",
       "      <td>76.52</td>\n",
       "      <td>53018.806500</td>\n",
       "      <td>72856.518000</td>\n",
       "      <td>19837.711500</td>\n",
       "      <td>656</td>\n",
       "    </tr>\n",
       "    <tr>\n",
       "      <td>2019-10</td>\n",
       "      <td>92</td>\n",
       "      <td>-0.02</td>\n",
       "      <td>564.765547</td>\n",
       "      <td>2852</td>\n",
       "      <td>1739</td>\n",
       "      <td>60.97</td>\n",
       "      <td>51958.430370</td>\n",
       "      <td>58460.619000</td>\n",
       "      <td>6502.188630</td>\n",
       "      <td>667</td>\n",
       "    </tr>\n",
       "    <tr>\n",
       "      <td>2019-11</td>\n",
       "      <td>138</td>\n",
       "      <td>-0.15</td>\n",
       "      <td>480.050715</td>\n",
       "      <td>4140</td>\n",
       "      <td>2262</td>\n",
       "      <td>54.64</td>\n",
       "      <td>66246.998722</td>\n",
       "      <td>88254.817875</td>\n",
       "      <td>22007.819153</td>\n",
       "      <td>682</td>\n",
       "    </tr>\n",
       "  </tbody>\n",
       "</table>\n",
       "</div>"
      ],
      "text/plain": [
       "         Unidades disponíveis Taxa de crescimento do custo por unidade  \\\n",
       "2019-02                    10                                        -   \n",
       "2019-03                    11                                    -0.05   \n",
       "2019-04                    17                                    -0.02   \n",
       "2019-05                    22                                    -0.03   \n",
       "2019-06                    54                                     -0.1   \n",
       "2019-07                    59                                    -0.05   \n",
       "2019-08                    91                                    -0.05   \n",
       "2019-09                    92                                    -0.01   \n",
       "2019-10                    92                                    -0.02   \n",
       "2019-11                   138                                    -0.15   \n",
       "\n",
       "         Custo operacional por unidade  Estadia disponível  Ocupação  \\\n",
       "2019-02                     782.670735                 280       116   \n",
       "2019-03                     745.400700                 341       308   \n",
       "2019-04                     730.785000                 510       344   \n",
       "2019-05                     709.500000                 682       552   \n",
       "2019-06                     645.000000                1620      1371   \n",
       "2019-07                     612.750000                1829      1534   \n",
       "2019-08                     582.112500                2821      1785   \n",
       "2019-09                     576.291375                2760      2112   \n",
       "2019-10                     564.765547                2852      1739   \n",
       "2019-11                     480.050715                4140      2262   \n",
       "\n",
       "         Taxa de Ocupação %   Custo Total  Receita Total         Lucro  \\\n",
       "2019-02               41.43   7826.707350    2941.021125  -4885.686225   \n",
       "2019-03               90.32   8199.407700    9338.390250   1138.982550   \n",
       "2019-04               67.45  12423.345000   10945.202625  -1478.142375   \n",
       "2019-05               80.94  15609.000000   18987.924375   3378.924375   \n",
       "2019-06               84.63  34830.000000   46519.365375  11689.365375   \n",
       "2019-07               83.87  36152.250000   54104.893500  17952.643500   \n",
       "2019-08               63.28  52972.237500   66432.455250  13460.217750   \n",
       "2019-09               76.52  53018.806500   72856.518000  19837.711500   \n",
       "2019-10               60.97  51958.430370   58460.619000   6502.188630   \n",
       "2019-11               54.64  66246.998722   88254.817875  22007.819153   \n",
       "\n",
       "         Volume Reserva  \n",
       "2019-02              96  \n",
       "2019-03             104  \n",
       "2019-04             122  \n",
       "2019-05             224  \n",
       "2019-06             527  \n",
       "2019-07             517  \n",
       "2019-08             678  \n",
       "2019-09             656  \n",
       "2019-10             667  \n",
       "2019-11             682  "
      ]
     },
     "execution_count": 472,
     "metadata": {},
     "output_type": "execute_result"
    }
   ],
   "source": [
    "premissas['Ocupação'] = Estadia_ocupada\n",
    "premissas"
   ]
  },
  {
   "cell_type": "markdown",
   "metadata": {},
   "source": [
    "* #### Adicionando a Taxa de ocupação."
   ]
  },
  {
   "cell_type": "code",
   "execution_count": 473,
   "metadata": {},
   "outputs": [
    {
     "data": {
      "text/html": [
       "<div>\n",
       "<style scoped>\n",
       "    .dataframe tbody tr th:only-of-type {\n",
       "        vertical-align: middle;\n",
       "    }\n",
       "\n",
       "    .dataframe tbody tr th {\n",
       "        vertical-align: top;\n",
       "    }\n",
       "\n",
       "    .dataframe thead th {\n",
       "        text-align: right;\n",
       "    }\n",
       "</style>\n",
       "<table border=\"1\" class=\"dataframe\">\n",
       "  <thead>\n",
       "    <tr style=\"text-align: right;\">\n",
       "      <th></th>\n",
       "      <th>Unidades disponíveis</th>\n",
       "      <th>Taxa de crescimento do custo por unidade</th>\n",
       "      <th>Custo operacional por unidade</th>\n",
       "      <th>Estadia disponível</th>\n",
       "      <th>Ocupação</th>\n",
       "      <th>Taxa de Ocupação %</th>\n",
       "      <th>Custo Total</th>\n",
       "      <th>Receita Total</th>\n",
       "      <th>Lucro</th>\n",
       "      <th>Volume Reserva</th>\n",
       "    </tr>\n",
       "  </thead>\n",
       "  <tbody>\n",
       "    <tr>\n",
       "      <td>2019-02</td>\n",
       "      <td>10</td>\n",
       "      <td>-</td>\n",
       "      <td>782.670735</td>\n",
       "      <td>280</td>\n",
       "      <td>116</td>\n",
       "      <td>41.43</td>\n",
       "      <td>7826.707350</td>\n",
       "      <td>2941.021125</td>\n",
       "      <td>-4885.686225</td>\n",
       "      <td>96</td>\n",
       "    </tr>\n",
       "    <tr>\n",
       "      <td>2019-03</td>\n",
       "      <td>11</td>\n",
       "      <td>-0.05</td>\n",
       "      <td>745.400700</td>\n",
       "      <td>341</td>\n",
       "      <td>308</td>\n",
       "      <td>90.32</td>\n",
       "      <td>8199.407700</td>\n",
       "      <td>9338.390250</td>\n",
       "      <td>1138.982550</td>\n",
       "      <td>104</td>\n",
       "    </tr>\n",
       "    <tr>\n",
       "      <td>2019-04</td>\n",
       "      <td>17</td>\n",
       "      <td>-0.02</td>\n",
       "      <td>730.785000</td>\n",
       "      <td>510</td>\n",
       "      <td>344</td>\n",
       "      <td>67.45</td>\n",
       "      <td>12423.345000</td>\n",
       "      <td>10945.202625</td>\n",
       "      <td>-1478.142375</td>\n",
       "      <td>122</td>\n",
       "    </tr>\n",
       "    <tr>\n",
       "      <td>2019-05</td>\n",
       "      <td>22</td>\n",
       "      <td>-0.03</td>\n",
       "      <td>709.500000</td>\n",
       "      <td>682</td>\n",
       "      <td>552</td>\n",
       "      <td>80.94</td>\n",
       "      <td>15609.000000</td>\n",
       "      <td>18987.924375</td>\n",
       "      <td>3378.924375</td>\n",
       "      <td>224</td>\n",
       "    </tr>\n",
       "    <tr>\n",
       "      <td>2019-06</td>\n",
       "      <td>54</td>\n",
       "      <td>-0.1</td>\n",
       "      <td>645.000000</td>\n",
       "      <td>1620</td>\n",
       "      <td>1371</td>\n",
       "      <td>84.63</td>\n",
       "      <td>34830.000000</td>\n",
       "      <td>46519.365375</td>\n",
       "      <td>11689.365375</td>\n",
       "      <td>527</td>\n",
       "    </tr>\n",
       "    <tr>\n",
       "      <td>2019-07</td>\n",
       "      <td>59</td>\n",
       "      <td>-0.05</td>\n",
       "      <td>612.750000</td>\n",
       "      <td>1829</td>\n",
       "      <td>1534</td>\n",
       "      <td>83.87</td>\n",
       "      <td>36152.250000</td>\n",
       "      <td>54104.893500</td>\n",
       "      <td>17952.643500</td>\n",
       "      <td>517</td>\n",
       "    </tr>\n",
       "    <tr>\n",
       "      <td>2019-08</td>\n",
       "      <td>91</td>\n",
       "      <td>-0.05</td>\n",
       "      <td>582.112500</td>\n",
       "      <td>2821</td>\n",
       "      <td>1785</td>\n",
       "      <td>63.28</td>\n",
       "      <td>52972.237500</td>\n",
       "      <td>66432.455250</td>\n",
       "      <td>13460.217750</td>\n",
       "      <td>678</td>\n",
       "    </tr>\n",
       "    <tr>\n",
       "      <td>2019-09</td>\n",
       "      <td>92</td>\n",
       "      <td>-0.01</td>\n",
       "      <td>576.291375</td>\n",
       "      <td>2760</td>\n",
       "      <td>2112</td>\n",
       "      <td>76.52</td>\n",
       "      <td>53018.806500</td>\n",
       "      <td>72856.518000</td>\n",
       "      <td>19837.711500</td>\n",
       "      <td>656</td>\n",
       "    </tr>\n",
       "    <tr>\n",
       "      <td>2019-10</td>\n",
       "      <td>92</td>\n",
       "      <td>-0.02</td>\n",
       "      <td>564.765547</td>\n",
       "      <td>2852</td>\n",
       "      <td>1739</td>\n",
       "      <td>60.97</td>\n",
       "      <td>51958.430370</td>\n",
       "      <td>58460.619000</td>\n",
       "      <td>6502.188630</td>\n",
       "      <td>667</td>\n",
       "    </tr>\n",
       "    <tr>\n",
       "      <td>2019-11</td>\n",
       "      <td>138</td>\n",
       "      <td>-0.15</td>\n",
       "      <td>480.050715</td>\n",
       "      <td>4140</td>\n",
       "      <td>2262</td>\n",
       "      <td>54.64</td>\n",
       "      <td>66246.998722</td>\n",
       "      <td>88254.817875</td>\n",
       "      <td>22007.819153</td>\n",
       "      <td>682</td>\n",
       "    </tr>\n",
       "  </tbody>\n",
       "</table>\n",
       "</div>"
      ],
      "text/plain": [
       "         Unidades disponíveis Taxa de crescimento do custo por unidade  \\\n",
       "2019-02                    10                                        -   \n",
       "2019-03                    11                                    -0.05   \n",
       "2019-04                    17                                    -0.02   \n",
       "2019-05                    22                                    -0.03   \n",
       "2019-06                    54                                     -0.1   \n",
       "2019-07                    59                                    -0.05   \n",
       "2019-08                    91                                    -0.05   \n",
       "2019-09                    92                                    -0.01   \n",
       "2019-10                    92                                    -0.02   \n",
       "2019-11                   138                                    -0.15   \n",
       "\n",
       "         Custo operacional por unidade  Estadia disponível  Ocupação  \\\n",
       "2019-02                     782.670735                 280       116   \n",
       "2019-03                     745.400700                 341       308   \n",
       "2019-04                     730.785000                 510       344   \n",
       "2019-05                     709.500000                 682       552   \n",
       "2019-06                     645.000000                1620      1371   \n",
       "2019-07                     612.750000                1829      1534   \n",
       "2019-08                     582.112500                2821      1785   \n",
       "2019-09                     576.291375                2760      2112   \n",
       "2019-10                     564.765547                2852      1739   \n",
       "2019-11                     480.050715                4140      2262   \n",
       "\n",
       "         Taxa de Ocupação %   Custo Total  Receita Total         Lucro  \\\n",
       "2019-02               41.43   7826.707350    2941.021125  -4885.686225   \n",
       "2019-03               90.32   8199.407700    9338.390250   1138.982550   \n",
       "2019-04               67.45  12423.345000   10945.202625  -1478.142375   \n",
       "2019-05               80.94  15609.000000   18987.924375   3378.924375   \n",
       "2019-06               84.63  34830.000000   46519.365375  11689.365375   \n",
       "2019-07               83.87  36152.250000   54104.893500  17952.643500   \n",
       "2019-08               63.28  52972.237500   66432.455250  13460.217750   \n",
       "2019-09               76.52  53018.806500   72856.518000  19837.711500   \n",
       "2019-10               60.97  51958.430370   58460.619000   6502.188630   \n",
       "2019-11               54.64  66246.998722   88254.817875  22007.819153   \n",
       "\n",
       "         Volume Reserva  \n",
       "2019-02              96  \n",
       "2019-03             104  \n",
       "2019-04             122  \n",
       "2019-05             224  \n",
       "2019-06             527  \n",
       "2019-07             517  \n",
       "2019-08             678  \n",
       "2019-09             656  \n",
       "2019-10             667  \n",
       "2019-11             682  "
      ]
     },
     "execution_count": 473,
     "metadata": {},
     "output_type": "execute_result"
    }
   ],
   "source": [
    "premissas['Taxa de Ocupação %'] = ((premissas['Ocupação']/premissas['Estadia disponível'])*100).round(2)\n",
    "premissas"
   ]
  },
  {
   "cell_type": "markdown",
   "metadata": {},
   "source": [
    "* **Visualizando a estadia disponível e a ocupação** "
   ]
  },
  {
   "cell_type": "code",
   "execution_count": 474,
   "metadata": {},
   "outputs": [
    {
     "data": {
      "image/png": "[encoded data removed]",
      "text/plain": [
       "<Figure size 864x576 with 1 Axes>"
      ]
     },
     "metadata": {},
     "output_type": "display_data"
    }
   ],
   "source": [
    "fig, ax = plt.subplots(figsize=(12,8))\n",
    "plt.bar(premissas.index,premissas['Estadia disponível'],label='Estadia disponível')\n",
    "ax=plt.bar(premissas.index,premissas['Ocupação'], label = 'Ocupação')\n",
    "plt.legend();\n",
    "\n",
    "\n"
   ]
  },
  {
   "cell_type": "markdown",
   "metadata": {},
   "source": [
    " * ### Agora, analisaremos a variável Receita bruta estimada "
   ]
  },
  {
   "cell_type": "code",
   "execution_count": 475,
   "metadata": {
    "colab": {
     "base_uri": "https://localhost:8080/",
     "height": 394
    },
    "colab_type": "code",
    "id": "SYo8rCwo1_Eg",
    "outputId": "9c128f1b-2a3a-4f9f-b59c-2a10e6604320"
   },
   "outputs": [
    {
     "data": {
      "image/png": "[encoded data removed]",
      "text/plain": [
       "<Figure size 576x432 with 1 Axes>"
      ]
     },
     "metadata": {},
     "output_type": "display_data"
    }
   ],
   "source": [
    "plt.scatter(df['Estadia'],df['Receita bruta estimada'])\n",
    "plt.xlabel('Estadia')\n",
    "plt.ylabel('Receita bruta estimada')\n",
    "plt.show()"
   ]
  },
  {
   "cell_type": "markdown",
   "metadata": {},
   "source": [
    "Confirmano a teoria que:  quanto maior a estadia maior receita.   "
   ]
  },
  {
   "cell_type": "markdown",
   "metadata": {},
   "source": [
    "* **Agora, vamos adicionar o custo total de cada mês** "
   ]
  },
  {
   "cell_type": "code",
   "execution_count": 476,
   "metadata": {},
   "outputs": [
    {
     "data": {
      "text/html": [
       "<div>\n",
       "<style scoped>\n",
       "    .dataframe tbody tr th:only-of-type {\n",
       "        vertical-align: middle;\n",
       "    }\n",
       "\n",
       "    .dataframe tbody tr th {\n",
       "        vertical-align: top;\n",
       "    }\n",
       "\n",
       "    .dataframe thead th {\n",
       "        text-align: right;\n",
       "    }\n",
       "</style>\n",
       "<table border=\"1\" class=\"dataframe\">\n",
       "  <thead>\n",
       "    <tr style=\"text-align: right;\">\n",
       "      <th></th>\n",
       "      <th>Unidades disponíveis</th>\n",
       "      <th>Taxa de crescimento do custo por unidade</th>\n",
       "      <th>Custo operacional por unidade</th>\n",
       "      <th>Estadia disponível</th>\n",
       "      <th>Ocupação</th>\n",
       "      <th>Taxa de Ocupação %</th>\n",
       "      <th>Custo Total</th>\n",
       "      <th>Receita Total</th>\n",
       "      <th>Lucro</th>\n",
       "      <th>Volume Reserva</th>\n",
       "    </tr>\n",
       "  </thead>\n",
       "  <tbody>\n",
       "    <tr>\n",
       "      <td>2019-02</td>\n",
       "      <td>10</td>\n",
       "      <td>-</td>\n",
       "      <td>782.670735</td>\n",
       "      <td>280</td>\n",
       "      <td>116</td>\n",
       "      <td>41.43</td>\n",
       "      <td>7826.707350</td>\n",
       "      <td>2941.021125</td>\n",
       "      <td>-4885.686225</td>\n",
       "      <td>96</td>\n",
       "    </tr>\n",
       "    <tr>\n",
       "      <td>2019-03</td>\n",
       "      <td>11</td>\n",
       "      <td>-0.05</td>\n",
       "      <td>745.400700</td>\n",
       "      <td>341</td>\n",
       "      <td>308</td>\n",
       "      <td>90.32</td>\n",
       "      <td>8199.407700</td>\n",
       "      <td>9338.390250</td>\n",
       "      <td>1138.982550</td>\n",
       "      <td>104</td>\n",
       "    </tr>\n",
       "    <tr>\n",
       "      <td>2019-04</td>\n",
       "      <td>17</td>\n",
       "      <td>-0.02</td>\n",
       "      <td>730.785000</td>\n",
       "      <td>510</td>\n",
       "      <td>344</td>\n",
       "      <td>67.45</td>\n",
       "      <td>12423.345000</td>\n",
       "      <td>10945.202625</td>\n",
       "      <td>-1478.142375</td>\n",
       "      <td>122</td>\n",
       "    </tr>\n",
       "    <tr>\n",
       "      <td>2019-05</td>\n",
       "      <td>22</td>\n",
       "      <td>-0.03</td>\n",
       "      <td>709.500000</td>\n",
       "      <td>682</td>\n",
       "      <td>552</td>\n",
       "      <td>80.94</td>\n",
       "      <td>15609.000000</td>\n",
       "      <td>18987.924375</td>\n",
       "      <td>3378.924375</td>\n",
       "      <td>224</td>\n",
       "    </tr>\n",
       "    <tr>\n",
       "      <td>2019-06</td>\n",
       "      <td>54</td>\n",
       "      <td>-0.1</td>\n",
       "      <td>645.000000</td>\n",
       "      <td>1620</td>\n",
       "      <td>1371</td>\n",
       "      <td>84.63</td>\n",
       "      <td>34830.000000</td>\n",
       "      <td>46519.365375</td>\n",
       "      <td>11689.365375</td>\n",
       "      <td>527</td>\n",
       "    </tr>\n",
       "    <tr>\n",
       "      <td>2019-07</td>\n",
       "      <td>59</td>\n",
       "      <td>-0.05</td>\n",
       "      <td>612.750000</td>\n",
       "      <td>1829</td>\n",
       "      <td>1534</td>\n",
       "      <td>83.87</td>\n",
       "      <td>36152.250000</td>\n",
       "      <td>54104.893500</td>\n",
       "      <td>17952.643500</td>\n",
       "      <td>517</td>\n",
       "    </tr>\n",
       "    <tr>\n",
       "      <td>2019-08</td>\n",
       "      <td>91</td>\n",
       "      <td>-0.05</td>\n",
       "      <td>582.112500</td>\n",
       "      <td>2821</td>\n",
       "      <td>1785</td>\n",
       "      <td>63.28</td>\n",
       "      <td>52972.237500</td>\n",
       "      <td>66432.455250</td>\n",
       "      <td>13460.217750</td>\n",
       "      <td>678</td>\n",
       "    </tr>\n",
       "    <tr>\n",
       "      <td>2019-09</td>\n",
       "      <td>92</td>\n",
       "      <td>-0.01</td>\n",
       "      <td>576.291375</td>\n",
       "      <td>2760</td>\n",
       "      <td>2112</td>\n",
       "      <td>76.52</td>\n",
       "      <td>53018.806500</td>\n",
       "      <td>72856.518000</td>\n",
       "      <td>19837.711500</td>\n",
       "      <td>656</td>\n",
       "    </tr>\n",
       "    <tr>\n",
       "      <td>2019-10</td>\n",
       "      <td>92</td>\n",
       "      <td>-0.02</td>\n",
       "      <td>564.765547</td>\n",
       "      <td>2852</td>\n",
       "      <td>1739</td>\n",
       "      <td>60.97</td>\n",
       "      <td>51958.430370</td>\n",
       "      <td>58460.619000</td>\n",
       "      <td>6502.188630</td>\n",
       "      <td>667</td>\n",
       "    </tr>\n",
       "    <tr>\n",
       "      <td>2019-11</td>\n",
       "      <td>138</td>\n",
       "      <td>-0.15</td>\n",
       "      <td>480.050715</td>\n",
       "      <td>4140</td>\n",
       "      <td>2262</td>\n",
       "      <td>54.64</td>\n",
       "      <td>66246.998722</td>\n",
       "      <td>88254.817875</td>\n",
       "      <td>22007.819153</td>\n",
       "      <td>682</td>\n",
       "    </tr>\n",
       "  </tbody>\n",
       "</table>\n",
       "</div>"
      ],
      "text/plain": [
       "         Unidades disponíveis Taxa de crescimento do custo por unidade  \\\n",
       "2019-02                    10                                        -   \n",
       "2019-03                    11                                    -0.05   \n",
       "2019-04                    17                                    -0.02   \n",
       "2019-05                    22                                    -0.03   \n",
       "2019-06                    54                                     -0.1   \n",
       "2019-07                    59                                    -0.05   \n",
       "2019-08                    91                                    -0.05   \n",
       "2019-09                    92                                    -0.01   \n",
       "2019-10                    92                                    -0.02   \n",
       "2019-11                   138                                    -0.15   \n",
       "\n",
       "         Custo operacional por unidade  Estadia disponível  Ocupação  \\\n",
       "2019-02                     782.670735                 280       116   \n",
       "2019-03                     745.400700                 341       308   \n",
       "2019-04                     730.785000                 510       344   \n",
       "2019-05                     709.500000                 682       552   \n",
       "2019-06                     645.000000                1620      1371   \n",
       "2019-07                     612.750000                1829      1534   \n",
       "2019-08                     582.112500                2821      1785   \n",
       "2019-09                     576.291375                2760      2112   \n",
       "2019-10                     564.765547                2852      1739   \n",
       "2019-11                     480.050715                4140      2262   \n",
       "\n",
       "         Taxa de Ocupação %   Custo Total  Receita Total         Lucro  \\\n",
       "2019-02               41.43   7826.707350    2941.021125  -4885.686225   \n",
       "2019-03               90.32   8199.407700    9338.390250   1138.982550   \n",
       "2019-04               67.45  12423.345000   10945.202625  -1478.142375   \n",
       "2019-05               80.94  15609.000000   18987.924375   3378.924375   \n",
       "2019-06               84.63  34830.000000   46519.365375  11689.365375   \n",
       "2019-07               83.87  36152.250000   54104.893500  17952.643500   \n",
       "2019-08               63.28  52972.237500   66432.455250  13460.217750   \n",
       "2019-09               76.52  53018.806500   72856.518000  19837.711500   \n",
       "2019-10               60.97  51958.430370   58460.619000   6502.188630   \n",
       "2019-11               54.64  66246.998722   88254.817875  22007.819153   \n",
       "\n",
       "         Volume Reserva  \n",
       "2019-02              96  \n",
       "2019-03             104  \n",
       "2019-04             122  \n",
       "2019-05             224  \n",
       "2019-06             527  \n",
       "2019-07             517  \n",
       "2019-08             678  \n",
       "2019-09             656  \n",
       "2019-10             667  \n",
       "2019-11             682  "
      ]
     },
     "execution_count": 476,
     "metadata": {},
     "output_type": "execute_result"
    }
   ],
   "source": [
    "premissas['Custo Total'] = premissas['Unidades disponíveis']*premissas['Custo operacional por unidade']\n",
    "premissas"
   ]
  },
  {
   "cell_type": "markdown",
   "metadata": {},
   "source": [
    "## Avaliando a saúde financeira do negócio "
   ]
  },
  {
   "cell_type": "markdown",
   "metadata": {},
   "source": [
    "Usaremos as seguintes métricas para verificar a saúde financeira do negócio:\n",
    "\n",
    "\n",
    "* **Crescimento real de receita**\n",
    "\n",
    "\n",
    "* **Lucro**\n",
    "\n",
    "\n",
    "* **Retorno sobre investimento (ROI)**\n"
   ]
  },
  {
   "cell_type": "markdown",
   "metadata": {},
   "source": [
    "### Crescimento real de receita"
   ]
  },
  {
   "cell_type": "markdown",
   "metadata": {},
   "source": [
    "* **Receita total de cada mês**"
   ]
  },
  {
   "cell_type": "code",
   "execution_count": 477,
   "metadata": {},
   "outputs": [],
   "source": [
    "Receita_Total = [df[df['Check-in'] == '2019-02']['Receita bruta estimada'].sum(),df[df['Check-in'] == '2019-03']['Receita bruta estimada'].sum(),\n",
    "                  df[df['Check-in'] == '2019-04']['Receita bruta estimada'].sum(),df[df['Check-in'] == '2019-05']['Receita bruta estimada'].sum(),\n",
    "                  df[df['Check-in'] == '2019-06']['Receita bruta estimada'].sum(),df[df['Check-in'] == '2019-07']['Receita bruta estimada'].sum(),\n",
    "                  df[df['Check-in'] == '2019-08']['Receita bruta estimada'].sum(),df[df['Check-in'] == '2019-09']['Receita bruta estimada'].sum(),\n",
    "                  df[df['Check-in'] == '2019-10']['Receita bruta estimada'].sum(),df[df['Check-in'] == '2019-11']['Receita bruta estimada'].sum()]\n",
    "premissas['Receita Total'] = Receita_Total"
   ]
  },
  {
   "cell_type": "code",
   "execution_count": 478,
   "metadata": {},
   "outputs": [
    {
     "data": {
      "image/png": "[encoded data removed]",
      "text/plain": [
       "<Figure size 864x576 with 1 Axes>"
      ]
     },
     "metadata": {},
     "output_type": "display_data"
    }
   ],
   "source": [
    "fig, ax = plt.subplots(figsize=(12,8))\n",
    "plt.plot(premissas['Receita Total'])\n",
    "plt.title('Receita Total');"
   ]
  },
  {
   "cell_type": "markdown",
   "metadata": {},
   "source": [
    "Podemos notar um crescimento da receita no decorrer dos meses"
   ]
  },
  {
   "cell_type": "markdown",
   "metadata": {},
   "source": [
    "### Lucro"
   ]
  },
  {
   "cell_type": "markdown",
   "metadata": {},
   "source": [
    "* **Lucro de cada mês**"
   ]
  },
  {
   "cell_type": "code",
   "execution_count": 479,
   "metadata": {},
   "outputs": [
    {
     "data": {
      "text/html": [
       "<div>\n",
       "<style scoped>\n",
       "    .dataframe tbody tr th:only-of-type {\n",
       "        vertical-align: middle;\n",
       "    }\n",
       "\n",
       "    .dataframe tbody tr th {\n",
       "        vertical-align: top;\n",
       "    }\n",
       "\n",
       "    .dataframe thead th {\n",
       "        text-align: right;\n",
       "    }\n",
       "</style>\n",
       "<table border=\"1\" class=\"dataframe\">\n",
       "  <thead>\n",
       "    <tr style=\"text-align: right;\">\n",
       "      <th></th>\n",
       "      <th>Lucro</th>\n",
       "    </tr>\n",
       "  </thead>\n",
       "  <tbody>\n",
       "    <tr>\n",
       "      <td>2019-02</td>\n",
       "      <td>-4885.686225</td>\n",
       "    </tr>\n",
       "    <tr>\n",
       "      <td>2019-03</td>\n",
       "      <td>1138.982550</td>\n",
       "    </tr>\n",
       "    <tr>\n",
       "      <td>2019-04</td>\n",
       "      <td>-1478.142375</td>\n",
       "    </tr>\n",
       "    <tr>\n",
       "      <td>2019-05</td>\n",
       "      <td>3378.924375</td>\n",
       "    </tr>\n",
       "    <tr>\n",
       "      <td>2019-06</td>\n",
       "      <td>11689.365375</td>\n",
       "    </tr>\n",
       "    <tr>\n",
       "      <td>2019-07</td>\n",
       "      <td>17952.643500</td>\n",
       "    </tr>\n",
       "    <tr>\n",
       "      <td>2019-08</td>\n",
       "      <td>13460.217750</td>\n",
       "    </tr>\n",
       "    <tr>\n",
       "      <td>2019-09</td>\n",
       "      <td>19837.711500</td>\n",
       "    </tr>\n",
       "    <tr>\n",
       "      <td>2019-10</td>\n",
       "      <td>6502.188630</td>\n",
       "    </tr>\n",
       "    <tr>\n",
       "      <td>2019-11</td>\n",
       "      <td>22007.819153</td>\n",
       "    </tr>\n",
       "  </tbody>\n",
       "</table>\n",
       "</div>"
      ],
      "text/plain": [
       "                Lucro\n",
       "2019-02  -4885.686225\n",
       "2019-03   1138.982550\n",
       "2019-04  -1478.142375\n",
       "2019-05   3378.924375\n",
       "2019-06  11689.365375\n",
       "2019-07  17952.643500\n",
       "2019-08  13460.217750\n",
       "2019-09  19837.711500\n",
       "2019-10   6502.188630\n",
       "2019-11  22007.819153"
      ]
     },
     "execution_count": 479,
     "metadata": {},
     "output_type": "execute_result"
    }
   ],
   "source": [
    "premissas['Lucro'] = premissas['Receita Total']-premissas['Custo Total']\n",
    "premissas[['Lucro']]"
   ]
  },
  {
   "cell_type": "markdown",
   "metadata": {},
   "source": [
    "### Visualizando o Lucro de cada mês"
   ]
  },
  {
   "cell_type": "code",
   "execution_count": 480,
   "metadata": {},
   "outputs": [
    {
     "data": {
      "image/png": "[encoded data removed]",
      "text/plain": [
       "<Figure size 576x432 with 1 Axes>"
      ]
     },
     "metadata": {},
     "output_type": "display_data"
    }
   ],
   "source": [
    "premissas['Lucro'].plot(kind='bar', color = ['red' if i<0 else 'blue' for i in premissas['Lucro']]); \n",
    "plt.title('Lucro');"
   ]
  },
  {
   "cell_type": "markdown",
   "metadata": {},
   "source": [
    "### Retorno sobre investimento (ROI)"
   ]
  },
  {
   "cell_type": "code",
   "execution_count": 481,
   "metadata": {},
   "outputs": [
    {
     "data": {
      "text/plain": [
       "2019-02   -62.42\n",
       "2019-03    13.89\n",
       "2019-04   -11.90\n",
       "2019-05    21.65\n",
       "2019-06    33.56\n",
       "2019-07    49.66\n",
       "2019-08    25.41\n",
       "2019-09    37.42\n",
       "2019-10    12.51\n",
       "2019-11    33.22\n",
       "dtype: float64"
      ]
     },
     "execution_count": 481,
     "metadata": {},
     "output_type": "execute_result"
    }
   ],
   "source": [
    "ROI = (((premissas['Receita Total']-premissas['Custo Total'])/premissas['Custo Total'])*100).round(2)\n",
    "ROI"
   ]
  },
  {
   "cell_type": "markdown",
   "metadata": {},
   "source": [
    "Podemos notar que os meses 02 e 04 obtiveram um ROI negativo, i.e., o investimento nestes meses fez o negócio perder dinheiro.\n",
    "Contudo, nos demais meses temos o ROI positivo, ou seja, o negócio teve ganho. Podendo destacar os meses 06,07,09 e 11 os quais o negócio teve um retorno sobre o investimento de mais de 30%. \n",
    "\n",
    "Além disso, podemos observar que em nenhum mês, o negócio faturou acima de 50%. "
   ]
  },
  {
   "cell_type": "markdown",
   "metadata": {},
   "source": [
    "* Adicionando o volume de reservas de cada mês"
   ]
  },
  {
   "cell_type": "code",
   "execution_count": 482,
   "metadata": {},
   "outputs": [],
   "source": [
    "premissas['Volume Reserva'] = df_cont['Count']"
   ]
  },
  {
   "cell_type": "code",
   "execution_count": 483,
   "metadata": {},
   "outputs": [
    {
     "data": {
      "text/plain": [
       "2019-02     96\n",
       "2019-03    104\n",
       "2019-04    122\n",
       "2019-05    224\n",
       "2019-06    527\n",
       "2019-07    517\n",
       "2019-08    678\n",
       "2019-09    656\n",
       "2019-10    667\n",
       "2019-11    682\n",
       "Name: Volume Reserva, dtype: int64"
      ]
     },
     "execution_count": 483,
     "metadata": {},
     "output_type": "execute_result"
    }
   ],
   "source": [
    "premissas['Volume Reserva']"
   ]
  },
  {
   "cell_type": "code",
   "execution_count": 488,
   "metadata": {},
   "outputs": [
    {
     "name": "stdout",
     "output_type": "stream",
     "text": [
      "Estadia disponível para 170 unidades em 12/2019: 5270\n",
      "Estadia disponível para 200 unidades em 01/2020 6200\n"
     ]
    }
   ],
   "source": [
    "print('Estadia disponível para 170 unidades em 12/2019:',estadia_disponivel(170,12))\n",
    "print('Estadia disponível para 200 unidades em 01/2020',estadia_disponivel(200,1))"
   ]
  },
  {
   "cell_type": "code",
   "execution_count": 494,
   "metadata": {},
   "outputs": [
    {
     "data": {
      "text/html": [
       "<div>\n",
       "<style scoped>\n",
       "    .dataframe tbody tr th:only-of-type {\n",
       "        vertical-align: middle;\n",
       "    }\n",
       "\n",
       "    .dataframe tbody tr th {\n",
       "        vertical-align: top;\n",
       "    }\n",
       "\n",
       "    .dataframe thead th {\n",
       "        text-align: right;\n",
       "    }\n",
       "</style>\n",
       "<table border=\"1\" class=\"dataframe\">\n",
       "  <thead>\n",
       "    <tr style=\"text-align: right;\">\n",
       "      <th></th>\n",
       "      <th>Unidades disponíveis</th>\n",
       "      <th>Taxa de crescimento do custo por unidade</th>\n",
       "      <th>Custo operacional por unidade</th>\n",
       "      <th>Estadia disponível</th>\n",
       "      <th>Ocupação</th>\n",
       "      <th>Taxa de Ocupação %</th>\n",
       "      <th>Custo Total</th>\n",
       "      <th>Receita Total</th>\n",
       "      <th>Lucro</th>\n",
       "      <th>Volume Reserva</th>\n",
       "    </tr>\n",
       "  </thead>\n",
       "  <tbody>\n",
       "    <tr>\n",
       "      <td>2019-02</td>\n",
       "      <td>10</td>\n",
       "      <td>-</td>\n",
       "      <td>782.670735</td>\n",
       "      <td>280</td>\n",
       "      <td>116</td>\n",
       "      <td>41.43</td>\n",
       "      <td>7826.707350</td>\n",
       "      <td>2941.021125</td>\n",
       "      <td>-4885.686225</td>\n",
       "      <td>96</td>\n",
       "    </tr>\n",
       "    <tr>\n",
       "      <td>2019-03</td>\n",
       "      <td>11</td>\n",
       "      <td>-0.05</td>\n",
       "      <td>745.400700</td>\n",
       "      <td>341</td>\n",
       "      <td>308</td>\n",
       "      <td>90.32</td>\n",
       "      <td>8199.407700</td>\n",
       "      <td>9338.390250</td>\n",
       "      <td>1138.982550</td>\n",
       "      <td>104</td>\n",
       "    </tr>\n",
       "    <tr>\n",
       "      <td>2019-04</td>\n",
       "      <td>17</td>\n",
       "      <td>-0.02</td>\n",
       "      <td>730.785000</td>\n",
       "      <td>510</td>\n",
       "      <td>344</td>\n",
       "      <td>67.45</td>\n",
       "      <td>12423.345000</td>\n",
       "      <td>10945.202625</td>\n",
       "      <td>-1478.142375</td>\n",
       "      <td>122</td>\n",
       "    </tr>\n",
       "    <tr>\n",
       "      <td>2019-05</td>\n",
       "      <td>22</td>\n",
       "      <td>-0.03</td>\n",
       "      <td>709.500000</td>\n",
       "      <td>682</td>\n",
       "      <td>552</td>\n",
       "      <td>80.94</td>\n",
       "      <td>15609.000000</td>\n",
       "      <td>18987.924375</td>\n",
       "      <td>3378.924375</td>\n",
       "      <td>224</td>\n",
       "    </tr>\n",
       "    <tr>\n",
       "      <td>2019-06</td>\n",
       "      <td>54</td>\n",
       "      <td>-0.1</td>\n",
       "      <td>645.000000</td>\n",
       "      <td>1620</td>\n",
       "      <td>1371</td>\n",
       "      <td>84.63</td>\n",
       "      <td>34830.000000</td>\n",
       "      <td>46519.365375</td>\n",
       "      <td>11689.365375</td>\n",
       "      <td>527</td>\n",
       "    </tr>\n",
       "    <tr>\n",
       "      <td>2019-07</td>\n",
       "      <td>59</td>\n",
       "      <td>-0.05</td>\n",
       "      <td>612.750000</td>\n",
       "      <td>1829</td>\n",
       "      <td>1534</td>\n",
       "      <td>83.87</td>\n",
       "      <td>36152.250000</td>\n",
       "      <td>54104.893500</td>\n",
       "      <td>17952.643500</td>\n",
       "      <td>517</td>\n",
       "    </tr>\n",
       "    <tr>\n",
       "      <td>2019-08</td>\n",
       "      <td>91</td>\n",
       "      <td>-0.05</td>\n",
       "      <td>582.112500</td>\n",
       "      <td>2821</td>\n",
       "      <td>1785</td>\n",
       "      <td>63.28</td>\n",
       "      <td>52972.237500</td>\n",
       "      <td>66432.455250</td>\n",
       "      <td>13460.217750</td>\n",
       "      <td>678</td>\n",
       "    </tr>\n",
       "    <tr>\n",
       "      <td>2019-09</td>\n",
       "      <td>92</td>\n",
       "      <td>-0.01</td>\n",
       "      <td>576.291375</td>\n",
       "      <td>2760</td>\n",
       "      <td>2112</td>\n",
       "      <td>76.52</td>\n",
       "      <td>53018.806500</td>\n",
       "      <td>72856.518000</td>\n",
       "      <td>19837.711500</td>\n",
       "      <td>656</td>\n",
       "    </tr>\n",
       "    <tr>\n",
       "      <td>2019-10</td>\n",
       "      <td>92</td>\n",
       "      <td>-0.02</td>\n",
       "      <td>564.765547</td>\n",
       "      <td>2852</td>\n",
       "      <td>1739</td>\n",
       "      <td>60.97</td>\n",
       "      <td>51958.430370</td>\n",
       "      <td>58460.619000</td>\n",
       "      <td>6502.188630</td>\n",
       "      <td>667</td>\n",
       "    </tr>\n",
       "    <tr>\n",
       "      <td>2019-11</td>\n",
       "      <td>138</td>\n",
       "      <td>-0.15</td>\n",
       "      <td>480.050715</td>\n",
       "      <td>4140</td>\n",
       "      <td>2262</td>\n",
       "      <td>54.64</td>\n",
       "      <td>66246.998722</td>\n",
       "      <td>88254.817875</td>\n",
       "      <td>22007.819153</td>\n",
       "      <td>682</td>\n",
       "    </tr>\n",
       "  </tbody>\n",
       "</table>\n",
       "</div>"
      ],
      "text/plain": [
       "         Unidades disponíveis Taxa de crescimento do custo por unidade  \\\n",
       "2019-02                    10                                        -   \n",
       "2019-03                    11                                    -0.05   \n",
       "2019-04                    17                                    -0.02   \n",
       "2019-05                    22                                    -0.03   \n",
       "2019-06                    54                                     -0.1   \n",
       "2019-07                    59                                    -0.05   \n",
       "2019-08                    91                                    -0.05   \n",
       "2019-09                    92                                    -0.01   \n",
       "2019-10                    92                                    -0.02   \n",
       "2019-11                   138                                    -0.15   \n",
       "\n",
       "         Custo operacional por unidade  Estadia disponível  Ocupação  \\\n",
       "2019-02                     782.670735                 280       116   \n",
       "2019-03                     745.400700                 341       308   \n",
       "2019-04                     730.785000                 510       344   \n",
       "2019-05                     709.500000                 682       552   \n",
       "2019-06                     645.000000                1620      1371   \n",
       "2019-07                     612.750000                1829      1534   \n",
       "2019-08                     582.112500                2821      1785   \n",
       "2019-09                     576.291375                2760      2112   \n",
       "2019-10                     564.765547                2852      1739   \n",
       "2019-11                     480.050715                4140      2262   \n",
       "\n",
       "         Taxa de Ocupação %   Custo Total  Receita Total         Lucro  \\\n",
       "2019-02               41.43   7826.707350    2941.021125  -4885.686225   \n",
       "2019-03               90.32   8199.407700    9338.390250   1138.982550   \n",
       "2019-04               67.45  12423.345000   10945.202625  -1478.142375   \n",
       "2019-05               80.94  15609.000000   18987.924375   3378.924375   \n",
       "2019-06               84.63  34830.000000   46519.365375  11689.365375   \n",
       "2019-07               83.87  36152.250000   54104.893500  17952.643500   \n",
       "2019-08               63.28  52972.237500   66432.455250  13460.217750   \n",
       "2019-09               76.52  53018.806500   72856.518000  19837.711500   \n",
       "2019-10               60.97  51958.430370   58460.619000   6502.188630   \n",
       "2019-11               54.64  66246.998722   88254.817875  22007.819153   \n",
       "\n",
       "         Volume Reserva  \n",
       "2019-02              96  \n",
       "2019-03             104  \n",
       "2019-04             122  \n",
       "2019-05             224  \n",
       "2019-06             527  \n",
       "2019-07             517  \n",
       "2019-08             678  \n",
       "2019-09             656  \n",
       "2019-10             667  \n",
       "2019-11             682  "
      ]
     },
     "execution_count": 494,
     "metadata": {},
     "output_type": "execute_result"
    }
   ],
   "source": [
    "premissas"
   ]
  },
  {
   "cell_type": "markdown",
   "metadata": {},
   "source": [
    "### O volume de Reserva de [12-2019, 12-2020] é:"
   ]
  },
  {
   "cell_type": "code",
   "execution_count": 499,
   "metadata": {},
   "outputs": [
    {
     "data": {
      "text/html": [
       "<div>\n",
       "<style scoped>\n",
       "    .dataframe tbody tr th:only-of-type {\n",
       "        vertical-align: middle;\n",
       "    }\n",
       "\n",
       "    .dataframe tbody tr th {\n",
       "        vertical-align: top;\n",
       "    }\n",
       "\n",
       "    .dataframe thead th {\n",
       "        text-align: right;\n",
       "    }\n",
       "</style>\n",
       "<table border=\"1\" class=\"dataframe\">\n",
       "  <thead>\n",
       "    <tr style=\"text-align: right;\">\n",
       "      <th></th>\n",
       "      <th>Mes</th>\n",
       "      <th>reg_linear</th>\n",
       "      <th>media_movel</th>\n",
       "      <th>ARMA</th>\n",
       "      <th>ARIMA</th>\n",
       "    </tr>\n",
       "  </thead>\n",
       "  <tbody>\n",
       "    <tr>\n",
       "      <td>2019-12</td>\n",
       "      <td>12-2019</td>\n",
       "      <td>868</td>\n",
       "      <td>674</td>\n",
       "      <td>620</td>\n",
       "      <td>829</td>\n",
       "    </tr>\n",
       "    <tr>\n",
       "      <td>2020-01</td>\n",
       "      <td>01-2020</td>\n",
       "      <td>948</td>\n",
       "      <td>668</td>\n",
       "      <td>558</td>\n",
       "      <td>966</td>\n",
       "    </tr>\n",
       "  </tbody>\n",
       "</table>\n",
       "</div>"
      ],
      "text/plain": [
       "             Mes  reg_linear  media_movel  ARMA  ARIMA\n",
       "2019-12  12-2019         868          674   620    829\n",
       "2020-01  01-2020         948          668   558    966"
      ]
     },
     "execution_count": 499,
     "metadata": {},
     "output_type": "execute_result"
    }
   ],
   "source": [
    "foracasts"
   ]
  },
  {
   "cell_type": "markdown",
   "metadata": {},
   "source": [
    "## Expandindo o negócio \n",
    "* Para 200 unidades em 12-2019 e 01-2020"
   ]
  },
  {
   "cell_type": "markdown",
   "metadata": {},
   "source": [
    "* Prevendo **ocupação** com regressão linear"
   ]
  },
  {
   "cell_type": "code",
   "execution_count": 553,
   "metadata": {},
   "outputs": [
    {
     "data": {
      "image/png": "[encoded data removed]",
      "text/plain": [
       "<Figure size 576x432 with 2 Axes>"
      ]
     },
     "metadata": {},
     "output_type": "display_data"
    }
   ],
   "source": [
    "plt.subplot(121)\n",
    "plt.scatter(premissas['Volume Reserva'],premissas['Ocupação'])\n",
    "plt.subplot(122)\n",
    "plt.scatter(premissas['Estadia disponível'],premissas['Ocupação']);"
   ]
  },
  {
   "cell_type": "code",
   "execution_count": 502,
   "metadata": {},
   "outputs": [],
   "source": [
    "reg_linear1 = LinearRegression()\n",
    "X = premissas[['Volume Reserva','Estadia disponível']]\n",
    "y=premissas[['Ocupação']]"
   ]
  },
  {
   "cell_type": "code",
   "execution_count": 503,
   "metadata": {},
   "outputs": [
    {
     "data": {
      "text/plain": [
       "LinearRegression(copy_X=True, fit_intercept=True, n_jobs=None, normalize=False)"
      ]
     },
     "execution_count": 503,
     "metadata": {},
     "output_type": "execute_result"
    }
   ],
   "source": [
    "reg_linear1.fit(X,y)"
   ]
  },
  {
   "cell_type": "code",
   "execution_count": 545,
   "metadata": {},
   "outputs": [
    {
     "name": "stdout",
     "output_type": "stream",
     "text": [
      "Ocupação mês de 12/2019:  2463.7764357983688\n",
      "Ocupação mês de 01/2020:  2653.5634263281227\n"
     ]
    }
   ],
   "source": [
    "ocupacao = []\n",
    "ocupacao.append(reg_linear1.predict(np.array([674,estadia_disponivel(170,12)]).reshape(1,-1)))\n",
    "ocupacao.append(reg_linear1.predict(np.array([668,estadia_disponivel(200,12)]).reshape(1,-1)))\n",
    "\n",
    "print('Ocupação mês de 12/2019: ', float(ocupacao[0])),\n",
    "print('Ocupação mês de 01/2020: ', float(ocupacao[1]))\n"
   ]
  },
  {
   "cell_type": "markdown",
   "metadata": {},
   "source": [
    "* Prevendo **custo total** com regressão linear"
   ]
  },
  {
   "cell_type": "code",
   "execution_count": 554,
   "metadata": {},
   "outputs": [
    {
     "data": {
      "image/png": "[encoded data removed]",
      "text/plain": [
       "<Figure size 576x432 with 1 Axes>"
      ]
     },
     "metadata": {},
     "output_type": "display_data"
    }
   ],
   "source": [
    "plt.scatter(premissas['Unidades disponíveis'],premissas['Custo Total']);"
   ]
  },
  {
   "cell_type": "code",
   "execution_count": 616,
   "metadata": {},
   "outputs": [],
   "source": [
    "reg_linear2 = LinearRegression()"
   ]
  },
  {
   "cell_type": "code",
   "execution_count": 641,
   "metadata": {},
   "outputs": [],
   "source": [
    "X1 = premissas[['Unidades disponíveis','Estadia disponível','Ocupação']].values\n",
    "Y1 = premissas[['Custo Total']]"
   ]
  },
  {
   "cell_type": "code",
   "execution_count": 642,
   "metadata": {},
   "outputs": [
    {
     "data": {
      "text/plain": [
       "LinearRegression(copy_X=True, fit_intercept=True, n_jobs=None, normalize=False)"
      ]
     },
     "execution_count": 642,
     "metadata": {},
     "output_type": "execute_result"
    }
   ],
   "source": [
    "reg_linear2.fit(X1,Y1)"
   ]
  },
  {
   "cell_type": "code",
   "execution_count": 643,
   "metadata": {},
   "outputs": [
    {
     "name": "stdout",
     "output_type": "stream",
     "text": [
      "Custo Total mês de 12/2019:  84397.32494396657\n",
      "Custo Total mês de 01/2020:  96176.11861762869\n"
     ]
    }
   ],
   "source": [
    "CustoTotal=[]\n",
    "#CustoTotal.append(reg_linear2.predict(np.array([[a1,a2,a3]])))\n",
    "\n",
    "CustoTotal.append(reg_linear2.predict(np.array([[170,estadia_disponivel(170,12),ocupacao[0]]])))\n",
    "CustoTotal.append(reg_linear2.predict(np.array([[200,estadia_disponivel(200,1),ocupacao[1]]])))\n",
    "\n",
    "print('Custo Total mês de 12/2019: ', float(CustoTotal[0])),\n",
    "print('Custo Total mês de 01/2020: ', float(CustoTotal[1]))"
   ]
  },
  {
   "cell_type": "code",
   "execution_count": 644,
   "metadata": {},
   "outputs": [
    {
     "data": {
      "image/png": "[encoded data removed]",
      "text/plain": [
       "<Figure size 576x432 with 1 Axes>"
      ]
     },
     "metadata": {},
     "output_type": "display_data"
    }
   ],
   "source": [
    "plt.scatter(premissas['Volume Reserva'], premissas['Receita Total']);"
   ]
  },
  {
   "cell_type": "markdown",
   "metadata": {},
   "source": [
    "* Prevendo **Receita Total** com regressão linear"
   ]
  },
  {
   "cell_type": "code",
   "execution_count": 637,
   "metadata": {},
   "outputs": [],
   "source": [
    "reg_linear3 = LinearRegression()"
   ]
  },
  {
   "cell_type": "code",
   "execution_count": 638,
   "metadata": {},
   "outputs": [],
   "source": [
    "X2 = premissas[['Unidades disponíveis','Estadia disponível','Ocupação','Custo Total']].values\n",
    "Y2 = premissas[['Receita Total']]"
   ]
  },
  {
   "cell_type": "code",
   "execution_count": 639,
   "metadata": {},
   "outputs": [
    {
     "data": {
      "text/plain": [
       "LinearRegression(copy_X=True, fit_intercept=True, n_jobs=None, normalize=False)"
      ]
     },
     "execution_count": 639,
     "metadata": {},
     "output_type": "execute_result"
    }
   ],
   "source": [
    "reg_linear3.fit(X2,Y2)"
   ]
  },
  {
   "cell_type": "code",
   "execution_count": 645,
   "metadata": {},
   "outputs": [
    {
     "name": "stdout",
     "output_type": "stream",
     "text": [
      "Ocupação mês de 12/2019:  [[95848.81847187]]\n",
      "Ocupação mês de 01/2020:  [[105990.75545154]]\n"
     ]
    }
   ],
   "source": [
    "ReceitaTotal = []\n",
    "ReceitaTotal.append(reg_linear3.predict(np.array([[170,estadia_disponivel(170,12),ocupacao[0],CustoTotal[0]]])))\n",
    "ReceitaTotal.append(reg_linear3.predict(np.array([[200,estadia_disponivel(200,12),ocupacao[1],CustoTotal[1]]])))\n",
    "\n",
    "\n",
    "print('Ocupação mês de 12/2019: ', ReceitaTotal[0]),\n",
    "print('Ocupação mês de 01/2020: ', ReceitaTotal[1])"
   ]
  },
  {
   "cell_type": "code",
   "execution_count": 649,
   "metadata": {},
   "outputs": [],
   "source": [
    "lucro = []\n",
    "lucro.append(float(ReceitaTotal[0]-CustoTotal[0]))\n",
    "lucro.append(float(ReceitaTotal[1]-CustoTotal[1]))"
   ]
  },
  {
   "cell_type": "markdown",
   "metadata": {},
   "source": [
    "## Expandindo o negócio para 200 unidades em 12-2019 e 01-2020:"
   ]
  },
  {
   "cell_type": "code",
   "execution_count": 656,
   "metadata": {},
   "outputs": [
    {
     "name": "stdout",
     "output_type": "stream",
     "text": [
      "LUCRO [11451.493527898434, 9814.636833907498]\n"
     ]
    }
   ],
   "source": [
    "print('LUCRO', lucro)"
   ]
  },
  {
   "cell_type": "code",
   "execution_count": 690,
   "metadata": {},
   "outputs": [
    {
     "data": {
      "text/plain": [
       "{'id': ['12-2019', '20-2020'],\n",
       " 'Lucro': [11451.493527898434, 9814.636833907498]}"
      ]
     },
     "execution_count": 690,
     "metadata": {},
     "output_type": "execute_result"
    }
   ],
   "source": [
    "col= {'id':['12-2019','20-2020'],'Lucro': lucro }\n",
    "col\n"
   ]
  },
  {
   "cell_type": "code",
   "execution_count": 691,
   "metadata": {},
   "outputs": [],
   "source": [
    "Lucro = pd.DataFrame(col)"
   ]
  },
  {
   "cell_type": "code",
   "execution_count": 700,
   "metadata": {},
   "outputs": [],
   "source": [
    "Lucro.index = Lucro['id']"
   ]
  },
  {
   "cell_type": "code",
   "execution_count": 701,
   "metadata": {},
   "outputs": [
    {
     "data": {
      "text/html": [
       "<div>\n",
       "<style scoped>\n",
       "    .dataframe tbody tr th:only-of-type {\n",
       "        vertical-align: middle;\n",
       "    }\n",
       "\n",
       "    .dataframe tbody tr th {\n",
       "        vertical-align: top;\n",
       "    }\n",
       "\n",
       "    .dataframe thead th {\n",
       "        text-align: right;\n",
       "    }\n",
       "</style>\n",
       "<table border=\"1\" class=\"dataframe\">\n",
       "  <thead>\n",
       "    <tr style=\"text-align: right;\">\n",
       "      <th></th>\n",
       "      <th>id</th>\n",
       "      <th>Lucro</th>\n",
       "    </tr>\n",
       "    <tr>\n",
       "      <th>id</th>\n",
       "      <th></th>\n",
       "      <th></th>\n",
       "    </tr>\n",
       "  </thead>\n",
       "  <tbody>\n",
       "    <tr>\n",
       "      <td>12-2019</td>\n",
       "      <td>12-2019</td>\n",
       "      <td>11451.493528</td>\n",
       "    </tr>\n",
       "    <tr>\n",
       "      <td>20-2020</td>\n",
       "      <td>20-2020</td>\n",
       "      <td>9814.636834</td>\n",
       "    </tr>\n",
       "  </tbody>\n",
       "</table>\n",
       "</div>"
      ],
      "text/plain": [
       "              id         Lucro\n",
       "id                            \n",
       "12-2019  12-2019  11451.493528\n",
       "20-2020  20-2020   9814.636834"
      ]
     },
     "execution_count": 701,
     "metadata": {},
     "output_type": "execute_result"
    }
   ],
   "source": [
    "Lucro"
   ]
  },
  {
   "cell_type": "code",
   "execution_count": 708,
   "metadata": {},
   "outputs": [
    {
     "data": {
      "image/png": "[encoded data removed]",
      "text/plain": [
       "<Figure size 576x432 with 1 Axes>"
      ]
     },
     "metadata": {},
     "output_type": "display_data"
    }
   ],
   "source": [
    "Lucro['Lucro'].plot(kind='bar', color = ['blue']); \n",
    "plt.title('Lucro');"
   ]
  }
 ],
 "metadata": {
  "colab": {
   "collapsed_sections": [],
   "name": "Desafio_DS.ipynb",
   "provenance": [],
   "toc_visible": true
  },
  "kernelspec": {
   "display_name": "Python 3",
   "language": "python",
   "name": "python3"
  },
  "language_info": {
   "codemirror_mode": {
    "name": "ipython",
    "version": 3
   },
   "file_extension": ".py",
   "mimetype": "text/x-python",
   "name": "python",
   "nbconvert_exporter": "python",
   "pygments_lexer": "ipython3",
   "version": "3.7.4"
  }
 },
 "nbformat": 4,
 "nbformat_minor": 1
}
